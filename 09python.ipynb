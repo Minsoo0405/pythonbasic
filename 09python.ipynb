{
 "cells": [
  {
   "attachments": {},
   "cell_type": "markdown",
   "metadata": {},
   "source": [
    "# 문자열 매서드 join()\n",
    "\n",
    "    1. \"\".join()\n",
    "    2. 문자열과 문자열 사이에 채울 문자 값을"
   ]
  },
  {
   "cell_type": "code",
   "execution_count": 6,
   "metadata": {},
   "outputs": [
    {
     "name": "stdout",
     "output_type": "stream",
     "text": [
      "list_strs = ['a', 'b', 'c', 'd', 'e', 'f', 'g', 'h', 'i', 'j', 'k', 'l', 'm', 'n', 'o', 'p', 'q', 'r', 's', 't', 'u', 'v', 'w', 'x', 'y', 'z']\n",
      "\n",
      "whole_strs= a*b*c*d*e*f*g*h*i*j*k*l*m*n*o*p*q*r*s*t*u*v*w*x*y*z\n"
     ]
    }
   ],
   "source": [
    "list_strs = [_ for _ in \"abcdefghijklmnopqrstuvwxyz\"]\n",
    "print(f\"list_strs = {list_strs}\")\n",
    "\n",
    "# str.join(list)\n",
    "#str 요소들로 이줘진 list를 합쳐 하나의 문자열로 만듭니다.\n",
    "whole_str = \"*\".join(list_strs)\n",
    "print(f\"\\nwhole_strs= {whole_str}\")"
   ]
  },
  {
   "cell_type": "code",
   "execution_count": 48,
   "metadata": {},
   "outputs": [
    {
     "name": "stdout",
     "output_type": "stream",
     "text": [
      "그보다 큽니다.\n",
      "그보다 작습니다.\n",
      "맞췄습니다.\n",
      "60\n",
      "2 번만에 맞추셨습니다.\n",
      "입력한 숫자는 다음과 같습니다. : 50, 70, 60\n"
     ]
    }
   ],
   "source": [
    "import random\n",
    "\n",
    "number = random.randint(1,101)\n",
    "\n",
    "counts = 0\n",
    "a_list = []     # 입력할 값을 저장할 리스트\n",
    "while True:\n",
    "    a = int(input(\"1부터 100까지 범위의 숫자를 입력해주세요.\"))\n",
    "    a_list.append(str(a))       # 문자열 list로 만들어야 마지작 join()에서 값들을 출력할 수 있음.\n",
    "    if a > 100 and a < 0:\n",
    "        print(\"1~100 사이의 숫자를 입력하세요.\")\n",
    "    elif a < number:\n",
    "        print(\"그보다 큽니다.\")\n",
    "    elif a > number:\n",
    "         print(\"그보다 작습니다.\")\n",
    "    else:\n",
    "        print(\"맞췄습니다.\")\n",
    "        break\n",
    "    counts += 1\n",
    "\n",
    "print(number)\n",
    "print(f'{counts} 번만에 맞추셨습니다.', sep=\"\")\n",
    "print(f\"입력한 숫자는 다음과 같습니다. : {', '.join(a_list)}\")"
   ]
  },
  {
   "cell_type": "code",
   "execution_count": 52,
   "metadata": {},
   "outputs": [],
   "source": [
    "# 함수 정의절\n",
    "# 인자(parameter, 매개변수)\n",
    "# non-de-faullt parameter -> \"값\", \"값2\", \"값3\", ...\n",
    "# default parameter -> key =\"value\", key2 =\"value2\", ...\n",
    "def function_name(para1, para2, /, poskey1, poskey2, *, keyonly1, keyonly2):\n",
    "    \"\"\"Docs        positional   positioanl or keyword        keyword         \"\"\"\n",
    "    pass\n"
   ]
  },
  {
   "cell_type": "code",
   "execution_count": null,
   "metadata": {},
   "outputs": [],
   "source": [
    "# 인수(argument)\n",
    "# positional-only -> \"값\", \"값2\", \"값3\", ...\n",
    "# keyword-only -> key=\"value\", key2=\"value2\", ...\n",
    "fuction_name(\"posonly\", \"po\", \"value\")"
   ]
  },
  {
   "cell_type": "code",
   "execution_count": 53,
   "metadata": {},
   "outputs": [],
   "source": [
    "# 함수 정의절\n",
    "# 가변 위치\n",
    "def function_name2(*args):\n",
    "    print(type(args))\n",
    "    for arg in args:\n",
    "        print(arg)"
   ]
  },
  {
   "cell_type": "code",
   "execution_count": 54,
   "metadata": {},
   "outputs": [
    {
     "name": "stdout",
     "output_type": "stream",
     "text": [
      "<class 'tuple'>\n",
      "args\n",
      "는\n",
      "가변 위치\n",
      "인수입니다.\n"
     ]
    }
   ],
   "source": [
    "function_name2(\"args\", \"는\", \"가변 위치\", \"인수입니다.\")"
   ]
  },
  {
   "cell_type": "code",
   "execution_count": 57,
   "metadata": {},
   "outputs": [],
   "source": [
    "def greeting (name, age):\n",
    "    print(f'{name} 씨 안녕하세요. 약 {age * 365.25}일 되었습니다.')"
   ]
  },
  {
   "cell_type": "code",
   "execution_count": 58,
   "metadata": {},
   "outputs": [
    {
     "name": "stdout",
     "output_type": "stream",
     "text": [
      "파이썬 씨 안녕하세요. 약 11688.0일 되었습니다.\n"
     ]
    }
   ],
   "source": [
    "greeting(\"파이썬\", 32)"
   ]
  },
  {
   "cell_type": "code",
   "execution_count": 70,
   "metadata": {},
   "outputs": [],
   "source": [
    "# 화씨 온도 인수 , 섭씨 온도 리턴\n",
    "def to_celsius(fahr):\n",
    "    \"\"\"\n",
    "    화씨 온도를 섭씨 온도로 변경하는 함수\n",
    "    \"\"\"\n",
    "    return (fahr - 32) * 5 / 9      # 반환값이라고 부름."
   ]
  },
  {
   "cell_type": "code",
   "execution_count": 72,
   "metadata": {},
   "outputs": [
    {
     "data": {
      "text/plain": [
       "21.11111111111111"
      ]
     },
     "execution_count": 72,
     "metadata": {},
     "output_type": "execute_result"
    }
   ],
   "source": [
    "to_celsius(70)"
   ]
  },
  {
   "cell_type": "code",
   "execution_count": 135,
   "metadata": {},
   "outputs": [],
   "source": [
    "# 자연수를 인수\n",
    "def odd_even(number):\n",
    "    \"\"\" number가 짝수면 \"짝수\", 홀수면 \"홀수\"로 반환\"\"\"\n",
    "    if type(number) is not int:     # 문자일때 None으로 반환\n",
    "        return None\n",
    "    elif number <= 0:                 # number가 자연수가 아닐때 None으로 반환\n",
    "        return None\n",
    "    elif number % 2 == 0:\n",
    "        return \"짝수\"\n",
    "    else:\n",
    "        return \"홀수\"\n",
    "    "
   ]
  },
  {
   "cell_type": "code",
   "execution_count": 134,
   "metadata": {},
   "outputs": [],
   "source": [
    "def odd_even(number):\n",
    "    if type(number) is int and number > 0:\n",
    "        return \"짝수\" * (number % 2 == 0) or \"홀수\"     # (number % 2 == 0)가 True이면 1이므로 \"짝수\" * 1, False이면 0이므로 \"짝수\" * 0 or \"홀수\" => \"홀수\"\n",
    "    else:\n",
    "        return"
   ]
  },
  {
   "cell_type": "code",
   "execution_count": 136,
   "metadata": {},
   "outputs": [
    {
     "name": "stdout",
     "output_type": "stream",
     "text": [
      " number가 짝수면 \"짝수\", 홀수면 \"홀수\"로 반환\n",
      "짝수\n",
      "홀수\n",
      "None\n",
      "None\n"
     ]
    }
   ],
   "source": [
    "print(odd_even.__doc__)\n",
    "print(odd_even(10))\n",
    "print(odd_even(9))\n",
    "print(odd_even(0))\n",
    "print(odd_even(\"짝수\"))"
   ]
  },
  {
   "cell_type": "code",
   "execution_count": 129,
   "metadata": {},
   "outputs": [],
   "source": [
    "# 연도를 인수\n",
    "def check_leap_year(year):\n",
    "    if (year % 400 != 0 and year % 100 == 0):\n",
    "        return \"평년\"\n",
    "    elif year % 4 == 0:\n",
    "        return \"윤년\"\n",
    "    else:\n",
    "        return \"평년\""
   ]
  },
  {
   "cell_type": "code",
   "execution_count": 132,
   "metadata": {},
   "outputs": [
    {
     "name": "stdout",
     "output_type": "stream",
     "text": [
      "윤년\n",
      "윤년\n",
      "평년\n"
     ]
    }
   ],
   "source": [
    "print(check_leap_year(2004))\n",
    "print(check_leap_year(2000))\n",
    "print(check_leap_year(1900))"
   ]
  },
  {
   "cell_type": "code",
   "execution_count": 154,
   "metadata": {},
   "outputs": [],
   "source": [
    "# 월을 인수\n",
    "def days(month):\n",
    "    if month == 2:\n",
    "        return \"28\"\n",
    "    elif month == 4 or month == 6 or month == 9 or month == 11:\n",
    "        return \"30\"\n",
    "    else:\n",
    "        return \"31\""
   ]
  },
  {
   "cell_type": "code",
   "execution_count": 162,
   "metadata": {},
   "outputs": [],
   "source": [
    "# 월을 인수\n",
    "def days(month):\n",
    "    if month in (1, 3, 5, 7, 8, 10, 12):\n",
    "        return \"31\"\n",
    "    elif month in (4, 6, 9, 11):\n",
    "        return \"30\"\n",
    "    else:\n",
    "        return \"28\""
   ]
  },
  {
   "cell_type": "code",
   "execution_count": 163,
   "metadata": {},
   "outputs": [
    {
     "name": "stdout",
     "output_type": "stream",
     "text": [
      "30\n",
      "28\n",
      "31\n"
     ]
    }
   ],
   "source": [
    "print(days(11))\n",
    "print(days(2))\n",
    "print(days(1))"
   ]
  },
  {
   "cell_type": "code",
   "execution_count": 164,
   "metadata": {},
   "outputs": [],
   "source": [
    "# 연도와 월을 인수\n",
    "def days(year, month):\n",
    "    \"\"\"연도와 월을 통해 윤년과 달의 일수 확인하는 함수\"\"\"\n",
    "    if year % 400 != 0 and year % 100 == 0:\n",
    "        if month in (1, 3, 5, 7, 8, 10, 12):\n",
    "            return \"31\"\n",
    "        elif month in (4, 6, 9, 11):\n",
    "            return \"30\"\n",
    "        else:\n",
    "            return \"28\"\n",
    "    elif year % 4 == 0:\n",
    "        if month in (1, 3, 5, 7, 8, 10, 12):\n",
    "            return \"31\"\n",
    "        elif month in (4, 6, 9, 11):\n",
    "            return \"30\"\n",
    "        else:\n",
    "            return \"29\"\n",
    "    else:\n",
    "        if month in (1, 3, 5, 7, 8, 10, 12):\n",
    "            return \"31\"\n",
    "        elif month in (4, 6, 9, 11):\n",
    "            return \"30\"\n",
    "        else:\n",
    "            return \"28\""
   ]
  },
  {
   "cell_type": "code",
   "execution_count": 168,
   "metadata": {},
   "outputs": [],
   "source": [
    "# 연도와 월을 인수\n",
    "def days(year, month):\n",
    "    \"\"\"연도와 월을 통해 윤년과 달의 일수 확인하는 함수\"\"\"\n",
    "    if (year % 400 != 0 and year % 100 == 0) or year % 4 != 0:\n",
    "        if month in (1, 3, 5, 7, 8, 10, 12):\n",
    "            return \"31\"\n",
    "        elif month in (4, 6, 9, 11):\n",
    "            return \"30\"\n",
    "        else:\n",
    "            return \"28\"\n",
    "    else:\n",
    "        if month in (1, 3, 5, 7, 8, 10, 12):\n",
    "            return \"31\"\n",
    "        elif month in (4, 6, 9, 11):\n",
    "            return \"30\"\n",
    "        else:\n",
    "            return \"29\""
   ]
  },
  {
   "cell_type": "code",
   "execution_count": 186,
   "metadata": {},
   "outputs": [],
   "source": [
    "# 연도와 월을 인수\n",
    "def days(year, month):\n",
    "    \"\"\"연도와 월을 통해 윤년과 달의 일수 확인하는 함수\"\"\"\n",
    "    if month in (1, 3, 5, 7, 8, 10, 12):\n",
    "        return \"31\"\n",
    "    elif month in (4, 6, 9, 11):\n",
    "        return \"30\"\n",
    "    elif (year % 400 != 0 and year % 100 == 0) or year % 4 != 0:\n",
    "        return \"28\"\n",
    "    else:\n",
    "        return \"29\"\n",
    "\n"
   ]
  },
  {
   "cell_type": "code",
   "execution_count": 187,
   "metadata": {},
   "outputs": [
    {
     "name": "stdout",
     "output_type": "stream",
     "text": [
      "30\n",
      "31\n",
      "28\n",
      "29\n"
     ]
    }
   ],
   "source": [
    "print(days(1900, 11))\n",
    "print(days(2004, 10))\n",
    "print(days(1900, 2))\n",
    "print(days(2000, 2))"
   ]
  },
  {
   "cell_type": "code",
   "execution_count": 199,
   "metadata": {},
   "outputs": [
    {
     "name": "stdout",
     "output_type": "stream",
     "text": [
      "몫: 3, 나머지: 1\n"
     ]
    }
   ],
   "source": [
    "# 몫과 나머지를 인수\n",
    "x = 10\n",
    "y = 3\n",
    "\n",
    "def get_quotient_remainder(a, b):\n",
    "    \"\"\"몫과 나머지를 구하는 함수\"\"\"\n",
    "    return a // b, a % b        # ()가 생략되어있는 튜플의 형태 / 함수의 정의는 return을 통해 끝났음.\n",
    "quotient, remainder = get_quotient_remainder(x, y)\n",
    "print(f'몫: {quotient}, 나머지: {remainder}')"
   ]
  },
  {
   "attachments": {},
   "cell_type": "markdown",
   "metadata": {},
   "source": [
    "# 변수의 범위(variable scope)\n",
    "    1. 전역 변수(global variable) : 제일 바깥 영역(들여쓰기 없이 쓴 영역)인 전역 범위에서 변수 선언\n",
    "    2. 지역 변수(local variable) : 함수 바디(local scope)에 선언된 변수 / 함수 영역안에서만 접근이 가능함.\n",
    "    3. 지역 범위에서 전역 변수 할당하기: (global 전역변수) 형태로 작성하면 전역 범위에 변수가 할당이 됨.\n",
    "    4. 함수 바디에 함수를 중첩해서 만들기 : \n",
    "        4.1. global 키워드는 함수의 중첩된 정도와 상관없이 전역 범위의 변수를 매칭합니다.\n",
    "        4.2. 중첩된 함수마다 같은 이름의 변수가 있다면 nonlocal 키워드는 제일 가까운 바깥 변수를 매칭합니다. \n",
    "        4.3.가급적이면 함수마다 이름이 같은 변수를 사용하기보단 다른 변수명을 사용하는 게 좋습니다."
   ]
  },
  {
   "cell_type": "code",
   "execution_count": 200,
   "metadata": {},
   "outputs": [
    {
     "name": "stdout",
     "output_type": "stream",
     "text": [
      "중요한 것은 꺾이지 않는 마음\n"
     ]
    }
   ],
   "source": [
    "important_is_an_unbroken_heart = \"중요한 것은 꺾이지 않는 마음\"\n",
    "\n",
    "def trials_and_tribulations():\n",
    "    important_is_an_unbroken = \"흔들흔들\"       # 지역 변수이므로 함수 내에서만 활용됨.\n",
    "    return\n",
    "\n",
    "trials_and_tribulations()\n",
    "print(important_is_an_unbroken_heart)"
   ]
  },
  {
   "cell_type": "code",
   "execution_count": 214,
   "metadata": {},
   "outputs": [],
   "source": [
    "def level1():\n",
    "    message = \"This is level 1.\"\n",
    "    def level2():\n",
    "        nonlocal message\n",
    "        message= (\"level2 is better than level1.\")\n",
    "    level2()\n",
    "    print(message)"
   ]
  },
  {
   "cell_type": "code",
   "execution_count": 215,
   "metadata": {},
   "outputs": [
    {
     "name": "stdout",
     "output_type": "stream",
     "text": [
      "level2 is better than level1.\n"
     ]
    }
   ],
   "source": [
    "level1()"
   ]
  },
  {
   "cell_type": "code",
   "execution_count": 224,
   "metadata": {},
   "outputs": [
    {
     "name": "stdout",
     "output_type": "stream",
     "text": [
      "전역 변수입니다.\n"
     ]
    }
   ],
   "source": [
    "# 지역 범위(Local scope) 전역 변수(global variable)에 접근 출력(변경 않음)\n",
    "global_v = \"전역 변수입니다.\"\n",
    "\n",
    "def local_scope():\n",
    "    print(global_v)\n",
    "\n",
    "local_scope()"
   ]
  },
  {
   "cell_type": "code",
   "execution_count": 226,
   "metadata": {},
   "outputs": [
    {
     "name": "stdout",
     "output_type": "stream",
     "text": [
      "전역 변수입니다.\n"
     ]
    }
   ],
   "source": [
    "# 지역 범위(Local scope) 전역 변수(global variable)에 접근 후 재할당\n",
    "global_v2 = \"전역 변수입니다.\"\n",
    "\n",
    "def local_scope2():\n",
    "    global_v2 = \"지역 범위입니다.\"  # 지역 범위에 있는 변수는 전역 변수에 영향을 끼치지 않는다.\n",
    "\n",
    "local_scope2()\n",
    "print(global_v2)\n",
    "# 사실은 전역 범위에서 global_v2를 마나들어 할당한 것과\n",
    "# 로컬 범위에서 global_v2를 만들어 할당한 것\n",
    "# 두 가지 일을 각각 독립적으로 실행한 결과를 확인했다."
   ]
  },
  {
   "cell_type": "code",
   "execution_count": 228,
   "metadata": {},
   "outputs": [
    {
     "name": "stdout",
     "output_type": "stream",
     "text": [
      "지역 범위에서 변경입니다.\n"
     ]
    }
   ],
   "source": [
    "# 지역 범위(Local scope) 전역 변수(global variable)에 접근 후 재할당\n",
    "global_v3 = \"전역 변수입니다.\"\n",
    "\n",
    "def local_scope3():\n",
    "    global global_v3 # 전역 범위에 있는 전역 변수인 global_v3를 사용하겠다.\n",
    "    global_v3 = \"지역 범위에서 변경입니다.\"\n",
    "\n",
    "local_scope3()\n",
    "print(global_v3)\n",
    "# global 키워드를 활용하면 지역 범위에 있어도 전역 변수에 대한 변경이 가능하도록 할 수 있었다."
   ]
  },
  {
   "cell_type": "code",
   "execution_count": 232,
   "metadata": {},
   "outputs": [
    {
     "ename": "NameError",
     "evalue": "name 'global_v4' is not defined",
     "output_type": "error",
     "traceback": [
      "\u001b[0;31m---------------------------------------------------------------------------\u001b[0m",
      "\u001b[0;31mNameError\u001b[0m                                 Traceback (most recent call last)",
      "\u001b[1;32m/Users/kimminsoo/Desktop/pythonbasic/09python.ipynb Cell 32\u001b[0m in \u001b[0;36m<cell line: 9>\u001b[0;34m()\u001b[0m\n\u001b[1;32m      <a href='vscode-notebook-cell:/Users/kimminsoo/Desktop/pythonbasic/09python.ipynb#X52sZmlsZQ%3D%3D?line=5'>6</a>\u001b[0m         \u001b[39mprint\u001b[39m(global_v4)\n\u001b[1;32m      <a href='vscode-notebook-cell:/Users/kimminsoo/Desktop/pythonbasic/09python.ipynb#X52sZmlsZQ%3D%3D?line=6'>7</a>\u001b[0m     local_scope5()\n\u001b[0;32m----> <a href='vscode-notebook-cell:/Users/kimminsoo/Desktop/pythonbasic/09python.ipynb#X52sZmlsZQ%3D%3D?line=8'>9</a>\u001b[0m \u001b[39mprint\u001b[39m(global_v4)        \u001b[39m# 접근 불가\u001b[39;00m\n\u001b[1;32m     <a href='vscode-notebook-cell:/Users/kimminsoo/Desktop/pythonbasic/09python.ipynb#X52sZmlsZQ%3D%3D?line=9'>10</a>\u001b[0m \u001b[39m# 지역 범위 안에 있는 지역 변수는 그 함수 실행과 반환 사이동아만 살아있었다.\u001b[39;00m\n\u001b[1;32m     <a href='vscode-notebook-cell:/Users/kimminsoo/Desktop/pythonbasic/09python.ipynb#X52sZmlsZQ%3D%3D?line=11'>12</a>\u001b[0m local_scope4()\n",
      "\u001b[0;31mNameError\u001b[0m: name 'global_v4' is not defined"
     ]
    }
   ],
   "source": [
    "# 지역 범위(Local scope) 안에 지역 범위가 중첩되어 있을 경우 \n",
    "# 비교적 바깥에 있는 지역 범위의 지역 변수에 접근하여 출력\n",
    "def local_scope4():\n",
    "    global_v4 = \"바깥 지역 범위입니다.\"\n",
    "    def local_scope5():\n",
    "        print(global_v4)\n",
    "    local_scope5()\n",
    "    \n",
    "print(global_v4)        # 접근 불가\n",
    "# 지역 범위 안에 있는 지역 변수는 그 함수 실행과 반환 사이동아만 살아있었다.\n",
    "\n",
    "local_scope4()\n"
   ]
  },
  {
   "cell_type": "code",
   "execution_count": 239,
   "metadata": {},
   "outputs": [
    {
     "name": "stdout",
     "output_type": "stream",
     "text": [
      "바깥 지역 범위입니다.\n"
     ]
    }
   ],
   "source": [
    "# 지역 범위(Local scope) 안에 지역 범위가 중첩되어 있을 경우 \n",
    "# 비교적 바깥에 있는 지역 범위의 지역 변수에 접근하여 출력\n",
    "def local_scope7():\n",
    "    global_v6 = \"바깥 지역 범위입니다.\"     # 더 넓은 범위의 로컬 변수로 선언\n",
    "    def local_scope7():\n",
    "        global_v6 = \"안쪽 지역 범위입니다.\"     # 더 좁은 범위의 로컬 변수로 선언이 된 것.\n",
    "    local_scope7()\n",
    "    print(global_v6)\n",
    "\n",
    "local_scope7()\n",
    "\n",
    "# 그래서 local_scope6 범위의 global_v5는 local_scope7 범위의 global_v5와 각각 독립적으로 생성이 된 것을 봤다."
   ]
  },
  {
   "cell_type": "code",
   "execution_count": 246,
   "metadata": {},
   "outputs": [
    {
     "name": "stdout",
     "output_type": "stream",
     "text": [
      "안쪽 지역 범위입니다.\n"
     ]
    }
   ],
   "source": [
    "# 지역 범위(Local scope) 안에 지역 범위가 중첩되어 있을 경우 \n",
    "# 비교적 바깥에 있는 지역 범위의 지역 변수에 접근하여 출력\n",
    "def local_scope8():\n",
    "    global_v6 = \"바깥 지역 범위입니다.\"\n",
    "    def local_scope8():     # 현 영역(지금의 로컬 영역 바깥의 변수 global_v를 찾아서 그 변수를 사용하겠다.\n",
    "        nonlocal global_v6 \n",
    "        global_v6 = \"안쪽 지역 범위입니다.\"\n",
    "    local_scope8()\n",
    "    print(global_v6)\n",
    "\n",
    "local_scope8()"
   ]
  },
  {
   "attachments": {},
   "cell_type": "markdown",
   "metadata": {},
   "source": [
    "# 람다(Lambda)\n",
    "\n",
    "    - Lambda 표헌식 : (lambda [parameters]:expression)(arguments)\n",
    "                          # 매개변수를 지정  반환값으로 사용할 식\n",
    "\n",
    "    - 일반함수 정의절 : def func_name(parameter):\n",
    "                        returen experssion\n",
    "    \n",
    "    1. 호출될 때 값이 구해지는 하나의 표현식. 또 이름이 없는 인라인 함수\n",
    "    2. 이름없는 함수(anonymous function)이면서 변수에 람다 함수를 할당할 수 있어 표현식의 결과를 변환을 해줌.\n",
    "    3. 람다의 expression 부분은 변수없이 식 한줄로 표현 가능(인라인)하지만 새 변수를 만들 수 없음.\n",
    "\n",
    "# 조건 표현식(Conditional Expression). - inline if else\n",
    "\n",
    "    - True일때 값 if 조건식 else False일때 값\n",
    "\n",
    "    1. 반드시 if와 else를 같이 써야함.\n",
    "    2. elif는 없지만 표현은 가능.\n",
    "\n",
    "# 람다(Lambda) feat.map()\n",
    "\n",
    "    - map(lambda parameter1, lambda parameter2, ...: expression, iterable1, iterable, ...)\n",
    "\n",
    "# 람다(Lambda) feat. filter()\n",
    "\n",
    "    - map(lambda parameter: expression, iterable) | expression True일때만 해당 요소를 가져옴.\n",
    "\n",
    "    1. 속도와 가독성 모두 리스트 컴프리헨션이 더 낫음.\n",
    "    "
   ]
  },
  {
   "cell_type": "code",
   "execution_count": 250,
   "metadata": {},
   "outputs": [
    {
     "name": "stdout",
     "output_type": "stream",
     "text": [
      "20\n"
     ]
    }
   ],
   "source": [
    "# 람다 2번) 변수에 람다 함수를 할당\n",
    "twice = lambda x: x * 2\n",
    "print(twice(10))"
   ]
  },
  {
   "cell_type": "code",
   "execution_count": 251,
   "metadata": {},
   "outputs": [
    {
     "data": {
      "text/plain": [
       "'B'"
      ]
     },
     "execution_count": 251,
     "metadata": {},
     "output_type": "execute_result"
    }
   ],
   "source": [
    "# 조건 표현식 2번) elif는 없지만 표현이 가능\n",
    "score = 90\n",
    "'A' if 90 < score <= 100 else 'B' if 80 < score else 'C'"
   ]
  },
  {
   "cell_type": "code",
   "execution_count": 252,
   "metadata": {},
   "outputs": [
    {
     "name": "stdout",
     "output_type": "stream",
     "text": [
      "[2, 8, 18, 32, 50]\n"
     ]
    }
   ],
   "source": [
    "# 람다 feat. map()\n",
    "a = [_ for _ in range(1, 6)]                    # [1, 2, 3, 4, 5]\n",
    "b = [_ for _ in range(2, 11, 2)]                # [2, 4, 6, 8, 10]\n",
    "print(list(map(lambda x, y: x * y, a, b)))      # map(lambda, a,b)"
   ]
  },
  {
   "cell_type": "code",
   "execution_count": 256,
   "metadata": {},
   "outputs": [
    {
     "name": "stdout",
     "output_type": "stream",
     "text": [
      "[0, 4, 12, 24, 40]\n",
      "100\n"
     ]
    }
   ],
   "source": [
    "a = [_ for _ in range(5)]                       # [0, 1, 2, 3, 4]\n",
    "b = [_ for _ in range(2, 11, 2)]                # [2, 4, 6, 8, 10]\n",
    "\n",
    "c= list(map(lambda x, y: x * y, a, b))\n",
    "\n",
    "print(c)\n",
    "\n",
    "print((lambda x : x ** 2)(10))                  # 람다 함수의 10의 제곱식"
   ]
  },
  {
   "cell_type": "code",
   "execution_count": 257,
   "metadata": {},
   "outputs": [
    {
     "data": {
      "text/plain": [
       "[3, 9, 9]"
      ]
     },
     "execution_count": 257,
     "metadata": {},
     "output_type": "execute_result"
    }
   ],
   "source": [
    "# 람다 feat. filter()\n",
    "a = [3, 2, 8, 22, 10, 7, 0, 11, 9, 9]\n",
    "list(filter(lambda x : x % 3 == 0 and 0 < x < 10, a))       # 3의 배수이고 0과 10사이의 수만 꺼낸다."
   ]
  },
  {
   "attachments": {},
   "cell_type": "markdown",
   "metadata": {},
   "source": [
    "# 객체지향(Object Oriented) 프로그래밍\n",
    "\n",
    "    1. 객체가 가진 데이터를 클래스의 속성(Attribute)이라 부르고 객체가 갖는 기능을 메서드(Method)라고 부른다.\n",
    "\n",
    "#### 클래스(Class)\n",
    "\n",
    "    1. 사용자 정의 객체를 만들기 위한 뼈대      \n",
    "    ex) class ClassName:            # 클래스명은 주로 PascalCase를 씀.\n",
    "            def method_name(self):\n",
    "                method_body\n",
    "\n",
    "            class body\n",
    "    2. 객체(Object)? 인스턴스(instance)?\n",
    "        2.1. 단어 하나만 활용할 때 사용하는 것을 '객체'\n",
    "        2.2. 리스트 클래스로 만들어진 '인스턴스'\n",
    "        2.3. 결국 둘은 같은 말\n",
    "    3. 메서드(Method)\n",
    "        3.1. 클래스 바디 안에서 정의되는 함수\n",
    "        ex) class ClasName:\n",
    "                def method_name(self):      # 메서드를 선언할때, 첫번째 인자로 인스턴스 객체(self)를 받는다.\n",
    "                    method_body\n",
    "\n",
    "                class_body\n",
    "        3.2. 클래스 속성(Attribute)\n",
    "            : __init__매서드 안에서 self.속성에 값을\n",
    "            3.2.1 __init__ 메서드는 소괄호를 붙여서 인스턴스를 만들 때 호출되는 특별한 메서드(special method, magic method)\n",
    "            3.2.2 __init__은 initialize의 줄임말로 인스턴스(객첵)를 초기화\n",
    "            3.2.3 밑줄 두개(__, double under, 던더)가 양 옆으로 붙어있는 매서드는 파이썬이 자동으로 호출하는 매서드\n"
   ]
  },
  {
   "cell_type": "code",
   "execution_count": 259,
   "metadata": {},
   "outputs": [],
   "source": [
    "class Student():\n",
    "    def __init__():\n",
    "        pass"
   ]
  },
  {
   "cell_type": "code",
   "execution_count": null,
   "metadata": {},
   "outputs": [],
   "source": [
    "gh = Student()   # 독립적인 값을 보장하는 인스턴스로 생성됩니다."
   ]
  },
  {
   "cell_type": "code",
   "execution_count": 265,
   "metadata": {},
   "outputs": [],
   "source": [
    "class Person:\n",
    "    def __init__(self):\n",
    "        self.hello = \"안녕하세요.\"\n",
    "    \n",
    "    def greeting(self):\n",
    "        print(self.hello)"
   ]
  },
  {
   "cell_type": "code",
   "execution_count": 262,
   "metadata": {},
   "outputs": [
    {
     "name": "stdout",
     "output_type": "stream",
     "text": [
      "안녕하세요.\n"
     ]
    }
   ],
   "source": [
    "james = Person()\n",
    "print(james.hello)"
   ]
  },
  {
   "cell_type": "code",
   "execution_count": 266,
   "metadata": {},
   "outputs": [
    {
     "name": "stdout",
     "output_type": "stream",
     "text": [
      "안녕하세요.\n"
     ]
    }
   ],
   "source": [
    "bebe = Person()\n",
    "bebe.greeting()"
   ]
  }
 ],
 "metadata": {
  "kernelspec": {
   "display_name": "base",
   "language": "python",
   "name": "python3"
  },
  "language_info": {
   "codemirror_mode": {
    "name": "ipython",
    "version": 3
   },
   "file_extension": ".py",
   "mimetype": "text/x-python",
   "name": "python",
   "nbconvert_exporter": "python",
   "pygments_lexer": "ipython3",
   "version": "3.9.13 (main, Aug 25 2022, 18:24:45) \n[Clang 12.0.0 ]"
  },
  "orig_nbformat": 4,
  "vscode": {
   "interpreter": {
    "hash": "29022363fef606f9f23df6f4a22f2b4728bceb42fab3e5e3f1a324182233d5f0"
   }
  }
 },
 "nbformat": 4,
 "nbformat_minor": 2
}
