{
 "cells": [
  {
   "cell_type": "code",
   "execution_count": 1,
   "id": "09ca0588-f2c7-4eee-9abd-98500e26a0d0",
   "metadata": {},
   "outputs": [
    {
     "name": "stdout",
     "output_type": "stream",
     "text": [
      "3.9.13 (main, Aug 25 2022, 23:51:50) [MSC v.1916 64 bit (AMD64)]\n"
     ]
    }
   ],
   "source": [
    "import sys\n",
    "print(sys.version)"
   ]
  },
  {
   "cell_type": "code",
   "execution_count": 2,
   "id": "ad11345e-7ffd-4af8-955f-4dd74aae63ae",
   "metadata": {},
   "outputs": [
    {
     "name": "stdout",
     "output_type": "stream",
     "text": [
      "total 80\n",
      "drwxr-xr-x   8 kimminsoo  staff    256 Jan  4 20:22 \u001b[1m\u001b[36m.\u001b[m\u001b[m\n",
      "drwx------@ 14 kimminsoo  staff    448 Jan  4 20:17 \u001b[1m\u001b[36m..\u001b[m\u001b[m\n",
      "drwxr-xr-x  12 kimminsoo  staff    384 Jan  4 20:22 \u001b[1m\u001b[36m.git\u001b[m\u001b[m\n",
      "-rw-r--r--   1 kimminsoo  staff     18 Jan  4 20:17 .gitignore\n",
      "drwxr-xr-x   2 kimminsoo  staff     64 Jan  4 20:22 \u001b[1m\u001b[36m.ipynb_checkpoints\u001b[m\u001b[m\n",
      "-rw-r--r--@  1 kimminsoo  staff   1829 Jan  4 20:17 01python.ipynb\n",
      "-rw-r--r--   1 kimminsoo  staff  25766 Jan  4 20:17 02python.ipynb\n",
      "-rw-r--r--   1 kimminsoo  staff    263 Jan  4 20:17 github toxen.txt\n"
     ]
    }
   ],
   "source": [
    "!ls -la"
   ]
  },
  {
   "cell_type": "code",
   "execution_count": null,
   "id": "9a4cb7c1-95f9-4e19-88bb-d8df53128215",
   "metadata": {},
   "outputs": [],
   "source": []
  }
 ],
 "metadata": {
  "kernelspec": {
   "display_name": "base",
   "language": "python",
   "name": "python3"
  },
  "language_info": {
   "codemirror_mode": {
    "name": "ipython",
    "version": 3
   },
   "file_extension": ".py",
   "mimetype": "text/x-python",
   "name": "python",
   "nbconvert_exporter": "python",
   "pygments_lexer": "ipython3",
   "version": "3.9.13 (main, Aug 25 2022, 18:24:45) \n[Clang 12.0.0 ]"
  },
  "vscode": {
   "interpreter": {
    "hash": "29022363fef606f9f23df6f4a22f2b4728bceb42fab3e5e3f1a324182233d5f0"
   }
  }
 },
 "nbformat": 4,
 "nbformat_minor": 5
}
