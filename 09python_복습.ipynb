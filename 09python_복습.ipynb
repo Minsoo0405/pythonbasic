{
 "cells": [
  {
   "attachments": {},
   "cell_type": "markdown",
   "metadata": {},
   "source": [
    "# [11파이썬 강의자료 기초문법9](https://drive.google.com/drive/folders/1wt_s-6MmV_Twg57vfXw9mGxO7NYZ14Im)\n",
    "![연습문제](./pythonbasic/capture/practice1.png)"
   ]
  },
  {
   "cell_type": "code",
   "execution_count": null,
   "metadata": {},
   "outputs": [],
   "source": [
    "def to_celsius(fahrenheit):\n",
    "    return (fahrenheit - 32) * 5/9\n",
    "\n",
    "print(to_celsius(70))"
   ]
  },
  {
   "attachments": {},
   "cell_type": "markdown",
   "metadata": {},
   "source": [
    "# [11파이썬 강의자료 기초문법9](https://drive.google.com/drive/folders/1wt_s-6MmV_Twg57vfXw9mGxO7NYZ14Im)\n",
    "![연습문제](./pythonbasic/capture/practice2.png)"
   ]
  },
  {
   "cell_type": "code",
   "execution_count": 4,
   "metadata": {},
   "outputs": [
    {
     "name": "stdout",
     "output_type": "stream",
     "text": [
      " number가 짝수면 \"짝수\", 홀수면 \"홀수\" 반환 \n",
      "홀수\n",
      "짝수\n",
      "None\n"
     ]
    }
   ],
   "source": [
    "def odd_even(number):\n",
    "    \"\"\" number가 짝수면 \"짝수\", 홀수면 \"홀수\" 반환 \"\"\"\n",
    "    if type(number) is int and number > 0:\n",
    "        return \"짝수\" * (number & 2 == 0) or \"홀수\"\n",
    "    else:\n",
    "        return\n",
    "    \n",
    "print(odd_even.__doc__)\n",
    "print(odd_even(10))\n",
    "print(odd_even(9))\n",
    "print(odd_even(\"가\"))"
   ]
  },
  {
   "attachments": {},
   "cell_type": "markdown",
   "metadata": {},
   "source": [
    "# [11파이썬 강의자료 기초문법9](https://drive.google.com/drive/folders/1wt_s-6MmV_Twg57vfXw9mGxO7NYZ14Im)\n",
    "![연습문제](./pythonbasic/capture/practice3.png)"
   ]
  },
  {
   "cell_type": "code",
   "execution_count": 7,
   "metadata": {},
   "outputs": [
    {
     "name": "stdout",
     "output_type": "stream",
     "text": [
      "윤년\n",
      "윤년\n",
      "평년\n"
     ]
    }
   ],
   "source": [
    "def check_leap_year(year):\n",
    "    if (year % 100 == 0) and (year % 400 != 0):\n",
    "        return \"평년\"\n",
    "    else:\n",
    "        return \"윤년\"\n",
    "\n",
    "print(check_leap_year(2004))\n",
    "print(check_leap_year(2000))\n",
    "print(check_leap_year(1900))"
   ]
  },
  {
   "attachments": {},
   "cell_type": "markdown",
   "metadata": {},
   "source": [
    "# [11파이썬 강의자료 기초문법9](https://drive.google.com/drive/folders/1wt_s-6MmV_Twg57vfXw9mGxO7NYZ14Im)\n",
    "![연습문제](./pythonbasic/capture/practice4.png)"
   ]
  },
  {
   "cell_type": "code",
   "execution_count": 15,
   "metadata": {},
   "outputs": [
    {
     "name": "stdout",
     "output_type": "stream",
     "text": [
      "30\n",
      "28\n",
      "31\n"
     ]
    }
   ],
   "source": [
    "def days(month):\n",
    "    if month in (1, 3, 5, 7, 8, 10, 12):\n",
    "        return \"31\"\n",
    "    elif month in (4, 6, 9, 11):\n",
    "        return \"30\"\n",
    "    else:\n",
    "        return \"28\"\n",
    "\n",
    "print(days(11))\n",
    "print(days(2))\n",
    "print(days(1))\n"
   ]
  },
  {
   "attachments": {},
   "cell_type": "markdown",
   "metadata": {},
   "source": [
    "# [11파이썬 강의자료 기초문법9](https://drive.google.com/drive/folders/1wt_s-6MmV_Twg57vfXw9mGxO7NYZ14Im)\n",
    "![연습문제](./pythonbasic/capture/practice5.png)"
   ]
  },
  {
   "cell_type": "code",
   "execution_count": 18,
   "metadata": {},
   "outputs": [
    {
     "name": "stdout",
     "output_type": "stream",
     "text": [
      "30\n",
      "31\n",
      "28\n",
      "29\n"
     ]
    }
   ],
   "source": [
    "def days(year, month):\n",
    "    if (year % 100 == 0) and (year % 400 != 0):\n",
    "        if month in (1,3,5,7,8,10,12):\n",
    "            return \"31\"\n",
    "        elif month in (4,6,9,11):\n",
    "            return \"30\"\n",
    "        else:\n",
    "            return \"28\"\n",
    "    else:\n",
    "        if month in (1,3,5,7,8,10,12):\n",
    "            return \"31\"\n",
    "        elif month in (4,6,9,11):\n",
    "            return \"30\"\n",
    "        else:\n",
    "            return \"29\"\n",
    "        \n",
    "print(days(1990, 11))\n",
    "print(days(2004, 10))\n",
    "print(days(1900, 2))\n",
    "print(days(2000, 2))"
   ]
  },
  {
   "attachments": {},
   "cell_type": "markdown",
   "metadata": {},
   "source": [
    "# [11파이썬 강의자료 기초문법9](https://drive.google.com/drive/folders/1wt_s-6MmV_Twg57vfXw9mGxO7NYZ14Im)\n",
    "![연습문제](./pythonbasic/capture/practice6.png)"
   ]
  },
  {
   "cell_type": "code",
   "execution_count": 25,
   "metadata": {},
   "outputs": [
    {
     "name": "stdout",
     "output_type": "stream",
     "text": [
      "몫: 3, 나머지: 1\n"
     ]
    }
   ],
   "source": [
    "x = 10\n",
    "y = 3\n",
    "\n",
    "def get_quotient_remainder(x, y):\n",
    "    return x // y, x % y\n",
    "\n",
    "quotient, remainder = get_quotient_remainder(x, y)\n",
    "print(f'몫: {quotient}, 나머지: {remainder}')"
   ]
  }
 ],
 "metadata": {
  "kernelspec": {
   "display_name": "base",
   "language": "python",
   "name": "python3"
  },
  "language_info": {
   "codemirror_mode": {
    "name": "ipython",
    "version": 3
   },
   "file_extension": ".py",
   "mimetype": "text/x-python",
   "name": "python",
   "nbconvert_exporter": "python",
   "pygments_lexer": "ipython3",
   "version": "3.9.13"
  },
  "orig_nbformat": 4,
  "vscode": {
   "interpreter": {
    "hash": "29022363fef606f9f23df6f4a22f2b4728bceb42fab3e5e3f1a324182233d5f0"
   }
  }
 },
 "nbformat": 4,
 "nbformat_minor": 2
}
