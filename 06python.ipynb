{
 "cells": [
  {
   "cell_type": "code",
   "execution_count": 45,
   "metadata": {},
   "outputs": [
    {
     "name": "stdout",
     "output_type": "stream",
     "text": [
      "385\n",
      "98\n",
      "50\n"
     ]
    }
   ],
   "source": [
    "scores = input(\"실기점수를 입력하세요.\")                # scores = list(map(int, input(\"실기점수를 입력하세요. : \").split))\n",
    "\n",
    "scores_list = scores.split(\" \")                   # 띄어쓰기 기준으로 값을 각각의 type을 str인 형태의 리스트로 변환 \n",
    "scores_list = list(map(int,scores_list))          # map으로 리스트의 값을 각각 int로 변환 후, 전체는 map의 형태 / map을 리스트의 형태로 변환\n",
    "scores_max = 0\n",
    "scores_min = 100\n",
    "scores_total = 0\n",
    "scores_\n",
    "\n",
    "for a in range(0,5):\n",
    "    scores_total += scores_list[a]\n",
    "for i in range(0,5):\n",
    "    if scores_max < scores_list[i]:\n",
    "        scores_max = scores_list[i]\n",
    "for i in range(0,5):\n",
    "    if scores_min > scores_list[i]:\n",
    "        scores_min = scores_list[i]\n",
    "\n",
    "        \n",
    "print(scores_total)\n",
    "print(scores_max)\n",
    "print(scores_min)\n",
    "print()\n"
   ]
  },
  {
   "cell_type": "code",
   "execution_count": 50,
   "metadata": {},
   "outputs": [
    {
     "name": "stdout",
     "output_type": "stream",
     "text": [
      "[2, 1, 1, 0, 0]\n"
     ]
    }
   ],
   "source": [
    "grade = [86,72,98,60,45]\n",
    "grade_counter = [0,0,0,0,0]\n",
    "\n",
    "\n",
    "for b in range(0,i):                           \n",
    "    if grade[b] >= 85:\n",
    "        grade_counter[0] += 1   # A학점\n",
    "    elif grade[b] >= 70:\n",
    "        grade_counter[1] += 1   # B학점\n",
    "    elif grade[b] >= 55:\n",
    "        grade_counter[2] += 1   # C학점\n",
    "    elif grade[b] >= 40:\n",
    "        grade_counter[3] += 1   # D학점\n",
    "    else :\n",
    "        grade_counter[4] += 1\n",
    "\n",
    "print(grade_counter)"
   ]
  },
  {
   "cell_type": "code",
   "execution_count": 6,
   "metadata": {},
   "outputs": [
    {
     "name": "stdout",
     "output_type": "stream",
     "text": [
      "1\t2\tFizz\t4\tBuzz\tFizz\t7\t8\tFizz\tBuzz\t11\tFizz\t13\t14\tFizzBuzz\t16\t17\tFizz\t19\tBuzz\tFizz\t22\t23\tFizz\tBuzz\t26\tFizz\t28\t29\tFizzBuzz\t31\t32\tFizz\t34\tBuzz\tFizz\t37\t38\tFizz\tBuzz\t41\tFizz\t43\t44\tFizzBuzz\t46\t47\tFizz\t49\tBuzz\tFizz\t52\t53\tFizz\tBuzz\t56\tFizz\t58\t59\tFizzBuzz\t61\t62\tFizz\t64\tBuzz\tFizz\t67\t68\tFizz\tBuzz\t71\tFizz\t73\t74\tFizzBuzz\t76\t77\tFizz\t79\tBuzz\tFizz\t82\t83\tFizz\tBuzz\t86\tFizz\t88\t89\tFizzBuzz\t91\t92\tFizz\t94\tBuzz\tFizz\t97\t98\tFizz\t"
     ]
    }
   ],
   "source": [
    "for c in range(1,100):\n",
    "    if c % 3 == 0 and c % 5 == 0:\n",
    "        c = \"FizzBuzz\"\n",
    "    elif c % 3 == 0:\n",
    "        c = \"Fizz\"\n",
    "    elif c % 5 == 0:\n",
    "        c = \"Buzz\"\n",
    "    else:\n",
    "        c = c\n",
    "    print(c, end=\"\\t\")"
   ]
  },
  {
   "cell_type": "code",
   "execution_count": 5,
   "metadata": {},
   "outputs": [
    {
     "name": "stdout",
     "output_type": "stream",
     "text": [
      "1\t2\tFizz\t4\tBuzz\tFizz\t7\t8\tFizz\tBuzz\t11\tFizz\t13\t14\tFizzBuzz\t16\t17\tFizz\t19\tBuzz\tFizz\t22\t23\tFizz\tBuzz\t26\tFizz\t28\t29\tFizzBuzz\t31\t32\tFizz\t34\tBuzz\tFizz\t37\t38\tFizz\tBuzz\t41\tFizz\t43\t44\tFizzBuzz\t46\t47\tFizz\t49\tBuzz\tFizz\t52\t53\tFizz\tBuzz\t56\tFizz\t58\t59\tFizzBuzz\t61\t62\tFizz\t64\tBuzz\tFizz\t67\t68\tFizz\tBuzz\t71\tFizz\t73\t74\tFizzBuzz\t76\t77\tFizz\t79\tBuzz\tFizz\t82\t83\tFizz\tBuzz\t86\tFizz\t88\t89\tFizzBuzz\t91\t92\tFizz\t94\tBuzz\tFizz\t97\t98\tFizz\tBuzz\t"
     ]
    }
   ],
   "source": [
    "d = 0\n",
    "number = 0                                                  # if문과 elif문을 지나면서 d는 str으로 인식하기 때문에 number라는 변수를 추가하여 d를 숫자로 인식하게 함.\n",
    "while d < 100:\n",
    "    d += 1\n",
    "    if d % 3 == 0 and d % 5 == 0:\n",
    "        number = \"FizzBuzz\"\n",
    "    elif d % 3 == 0:\n",
    "        number = \"Fizz\"\n",
    "    elif d % 5 == 0:\n",
    "        number = \"Buzz\"\n",
    "    else:\n",
    "        number = int(d)\n",
    "    print(number, end=\"\\t\")"
   ]
  },
  {
   "cell_type": "code",
   "execution_count": 10,
   "metadata": {},
   "outputs": [
    {
     "name": "stdout",
     "output_type": "stream",
     "text": [
      "1\t2\tFizz\t4\tBuzz\tFizz\t7\t8\tFizz\tBuzz\t11\tFizz\t13\t14\tFizzBuzz\t16\t17\tFizz\t19\tBuzz\tFizz\t22\t23\tFizz\tBuzz\t26\tFizz\t28\t29\tFizzBuzz\t31\t32\tFizz\t34\tBuzz\tFizz\t37\t38\tFizz\tBuzz\t41\tFizz\t43\t44\tFizzBuzz\t46\t47\tFizz\t49\tBuzz\tFizz\t52\t53\tFizz\tBuzz\t56\tFizz\t58\t59\tFizzBuzz\t61\t62\tFizz\t64\tBuzz\tFizz\t67\t68\tFizz\tBuzz\t71\tFizz\t73\t74\tFizzBuzz\t76\t77\tFizz\t79\tBuzz\tFizz\t82\t83\tFizz\tBuzz\t86\tFizz\t88\t89\tFizzBuzz\t91\t92\tFizz\t94\tBuzz\tFizz\t97\t98\tFizz\tBuzz\t"
     ]
    }
   ],
   "source": [
    "for i in range(1,101):\n",
    "    print(\"Fizz\" * (i % 3 == 0) + \"Buzz\" * (i % 5 == 0) or i, end=\"\\t\")\n",
    "    # Fizz가 True이면 print(int(True)) = 1, Fizz가 False이면 print(int(False)) = 0  / Fizz와 Buzz가 둘다 False이면 print(\"\" or i) = i"
   ]
  },
  {
   "cell_type": "code",
   "execution_count": 30,
   "metadata": {},
   "outputs": [
    {
     "name": "stdout",
     "output_type": "stream",
     "text": [
      "m 또는 h가 이름에 포함된 사람은 3 명 입니다.\n"
     ]
    }
   ],
   "source": [
    "name_list = ['matthew','mark','luke','john','paul','peter']\n",
    "name_count = 0\n",
    "\n",
    "for _ in range(len(name_list)):\n",
    "    if \"m\" in name_list[_] or \"h\" in name_list[_]:                  # \"문자\" in \"str\" -> str 안에 정한 문자가 있느냐 없느냐\n",
    "        name_count += 1\n",
    "    else:\n",
    "        name_count += 0\n",
    "print(f'm 또는 h가 이름에 포함된 사람은 {name_count} 명 입니다.')"
   ]
  },
  {
   "cell_type": "code",
   "execution_count": 31,
   "metadata": {},
   "outputs": [
    {
     "name": "stdout",
     "output_type": "stream",
     "text": [
      "m 또는 h가 이름에 포함된 사람은 3 명 입니다.\n"
     ]
    }
   ],
   "source": [
    "name_list = ['matthew','mark','luke','john','paul','peter']\n",
    "name_count = 0\n",
    "\n",
    "for _ in range(len(name_list)):\n",
    "    if \"m\" in list(name_list[_])[0:10]or \"h\" in list(name_list[_])[0:10]:\n",
    "        name_count += 1\n",
    "    else:\n",
    "        name_count += 0\n",
    "print(f'm 또는 h가 이름에 포함된 사람은 {name_count} 명 입니다.')"
   ]
  },
  {
   "cell_type": "code",
   "execution_count": 38,
   "metadata": {},
   "outputs": [
    {
     "name": "stdout",
     "output_type": "stream",
     "text": [
      "m 또는 h가 이름에 포함된 사람은 3 명 입니다.\n"
     ]
    }
   ],
   "source": [
    "name_list = ['matthew','mark','luke','john','paul','peter']\n",
    "count = 0\n",
    "\n",
    "for name in name_list:\n",
    "    for n in name:\n",
    "        if n == 'm' or n == 'h':\n",
    "            count += 1\n",
    "            break\n",
    "print(f'm 또는 h가 이름에 포함된 사람은 {count} 명 입니다.')"
   ]
  },
  {
   "cell_type": "code",
   "execution_count": null,
   "metadata": {},
   "outputs": [],
   "source": [
    "# while문으로 연습\n",
    "name_list = ['matthew','mark','luke','john','paul','peter']\n",
    "name_count = 0\n",
    "f = 0\n",
    "\n",
    "while f > len(name_list)\n",
    "\n",
    "    if \"m\" in name_list[_] or \"h\" in name_list[_]:                  # \"문자 또는 숫자?\" in \"str\" -> str 안에 정한 문자 또는 숫자가 있느냐 없느냐\n",
    "        name_count += 1\n",
    "    else:\n",
    "        name_count += 0\n",
    "print(f'm 또는 h가 이름에 포함된 사람은 {name_count} 명 입니다.')"
   ]
  },
  {
   "cell_type": "code",
   "execution_count": 46,
   "metadata": {},
   "outputs": [
    {
     "name": "stdout",
     "output_type": "stream",
     "text": [
      "1번 학생 축하합니다. 합격입니다.\n",
      "3번 학생 축하합니다. 합격입니다.\n",
      "5번 학생 축하합니다. 합격입니다.\n"
     ]
    }
   ],
   "source": [
    "marks = [90, 25, 67, 45, 80]\n",
    "\n",
    "for _ in range(len(marks)):\n",
    "    if marks[_] < 60: continue\n",
    "    print(f'{_ + 1}번 학생 축하합니다. 합격입니다.')"
   ]
  },
  {
   "cell_type": "code",
   "execution_count": 66,
   "metadata": {},
   "outputs": [
    {
     "name": "stdout",
     "output_type": "stream",
     "text": [
      "1번 학생 축하합니다. 합격입니다.\n",
      "3번 학생 축하합니다. 합격입니다.\n",
      "5번 학생 축하합니다. 합격입니다.\n"
     ]
    }
   ],
   "source": [
    "marks = [90, 25, 67, 45, 80]\n",
    "number = 0\n",
    "for mark in marks:\n",
    "    number = number + 1\n",
    "    if mark < 60: continue                          # if mark >= 60을 조건으로 쓰면 print문을 if문 안으로 들여쓰면 같은 값 출력할 수 있음.\n",
    "    print(f'{number}번 학생 축하합니다. 합격입니다.')"
   ]
  },
  {
   "cell_type": "code",
   "execution_count": 54,
   "metadata": {},
   "outputs": [
    {
     "name": "stdout",
     "output_type": "stream",
     "text": [
      "1번 학생 축하합니다. 합격입니다.\n",
      "3번 학생 축하합니다. 합격입니다.\n",
      "5번 학생 축하합니다. 합격입니다.\n"
     ]
    }
   ],
   "source": [
    "marks = [90, 25, 67, 45, 80]\n",
    "\n",
    "i = 0\n",
    "while i < len(marks):\n",
    "    i += 1\n",
    "    if marks[i-1] < 60:\n",
    "        continue                                        # i = 1이면 marks[0] < 60이므로 다시 while문 으로 진행. \n",
    "    print(f'{i}번 학생 축하합니다. 합격입니다.')\n",
    "\n"
   ]
  },
  {
   "cell_type": "code",
   "execution_count": 78,
   "metadata": {},
   "outputs": [
    {
     "name": "stdout",
     "output_type": "stream",
     "text": [
      "변환된 arr은 [3, 2, 4, 1] 입니다.\n"
     ]
    }
   ],
   "source": [
    "arr = [1, 4, 2, 3]\n",
    "left, right = 0, (len(arr) - 1)\n",
    "while left < (len(arr) // 2) :                          # while문은 left를 절반만 반복을 하면 됨. (* //은 몫을 구해주는 것.)\n",
    "    arr[left], arr[right] = arr[right], arr[left]\n",
    "    left += 1\n",
    "    right -= 1\n",
    "print(f'변환된 arr은 {arr} 입니다.')\n"
   ]
  },
  {
   "cell_type": "code",
   "execution_count": 149,
   "metadata": {},
   "outputs": [
    {
     "name": "stdout",
     "output_type": "stream",
     "text": [
      "2 * 1 = 2\t2 * 2 = 4\t2 * 3 = 6\t2 * 4 = 8\t2 * 5 = 10\t2 * 6 = 12\t2 * 7 = 14\t2 * 8 = 16\t2 * 9 = 18\t\n",
      "3 * 1 = 3\t3 * 2 = 6\t3 * 3 = 9\t3 * 4 = 12\t3 * 5 = 15\t3 * 6 = 18\t3 * 7 = 21\t3 * 8 = 24\t3 * 9 = 27\t\n",
      "4 * 1 = 4\t4 * 2 = 8\t4 * 3 = 12\t4 * 4 = 16\t4 * 5 = 20\t4 * 6 = 24\t4 * 7 = 28\t4 * 8 = 32\t4 * 9 = 36\t\n",
      "5 * 1 = 5\t5 * 2 = 10\t5 * 3 = 15\t5 * 4 = 20\t5 * 5 = 25\t5 * 6 = 30\t5 * 7 = 35\t5 * 8 = 40\t5 * 9 = 45\t\n",
      "6 * 1 = 6\t6 * 2 = 12\t6 * 3 = 18\t6 * 4 = 24\t6 * 5 = 30\t6 * 6 = 36\t6 * 7 = 42\t6 * 8 = 48\t6 * 9 = 54\t\n",
      "7 * 1 = 7\t7 * 2 = 14\t7 * 3 = 21\t7 * 4 = 28\t7 * 5 = 35\t7 * 6 = 42\t7 * 7 = 49\t7 * 8 = 56\t7 * 9 = 63\t\n",
      "8 * 1 = 8\t8 * 2 = 16\t8 * 3 = 24\t8 * 4 = 32\t8 * 5 = 40\t8 * 6 = 48\t8 * 7 = 56\t8 * 8 = 64\t8 * 9 = 72\t\n",
      "9 * 1 = 9\t9 * 2 = 18\t9 * 3 = 27\t9 * 4 = 36\t9 * 5 = 45\t9 * 6 = 54\t9 * 7 = 63\t9 * 8 = 72\t9 * 9 = 81\t\n"
     ]
    }
   ],
   "source": [
    "for i in range(1,9):\n",
    "    for j in range(1,10):\n",
    "        print(f'{i+1} * {j} = {(i+1) * (j)}', end=\"\\t\")\n",
    "    print()"
   ]
  },
  {
   "cell_type": "code",
   "execution_count": 159,
   "metadata": {},
   "outputs": [
    {
     "name": "stdout",
     "output_type": "stream",
     "text": [
      "2 * 1 = 2\t3 * 2 = 6\t4 * 3 = 12\t5 * 4 = 20\t6 * 5 = 30\t7 * 6 = 42\t8 * 7 = 56\t9 * 8 = 72\t\n"
     ]
    }
   ],
   "source": [
    "# while문으로 작성해보기\n",
    "\n",
    "i = 1 \n",
    "j = 1\n",
    "while i+1 < 10:\n",
    "    i += 1\n",
    "    print(f'{i} * {j} = {i * j}', end=\"\\t\")\n",
    "    j += 1\n",
    "print()\n",
    "    \n",
    "\n"
   ]
  },
  {
   "attachments": {},
   "cell_type": "markdown",
   "metadata": {},
   "source": [
    "# 딕셔너리 자료형(Dictionary type)\n",
    "\n",
    "## * 특징\n",
    "####  1. 비시퀀스 자료형 (= 인덱스를 가지고 있지않음)\n",
    "####  2. key: value       # key를 통해 value값을 찾을 수 있음.\n",
    "#### 3. 중괄호{} 활용\n",
    "#### 4. key에는 str, int, float, bool, tuple을 사용할수 있음. / list, dict, set은 사용할수 없음.\n",
    "#### 5. value에는 모든 자료형을 사용할수있음.(str, int, float,bool, tuple, list, dict, set 등).\n",
    "#### 6. key값이 중복되면 가장 최근에 넣은 value만 남음.\n",
    "#### 7. 빈 딕셔너리 생성가능 - {}만 쓰거나 인자 없이 dict()함수를 사용하면 됨.\n",
    "##### 8. dict() 함수 - dict(key=\"value\", ... ) / dict([(\"key\", \"value\"), (\"key2\", \"value2\")], ... ) / dict(zip([\"key\",\"key2\", ... ], [\"value\", \"value2\", ... ]))\n",
    "##### 9. key와 value를 추가할수있음.\n",
    "##### 10. 특정 키가 딕셔너리 자료형에 있나 확인 - \"in 연산자\"\n",
    "##### 11. 특정 키와 값의 쌍을 삭제하기 - del dic['key']"
   ]
  },
  {
   "cell_type": "code",
   "execution_count": 160,
   "metadata": {},
   "outputs": [
    {
     "name": "stdout",
     "output_type": "stream",
     "text": [
      "<class 'dict'>\n",
      "{'key': 'value'}\n"
     ]
    }
   ],
   "source": [
    "dic_var = {\"key\": \"value\"}\n",
    "print(type(dic_var))\n",
    "print(dic_var)"
   ]
  },
  {
   "cell_type": "code",
   "execution_count": 161,
   "metadata": {},
   "outputs": [
    {
     "name": "stdout",
     "output_type": "stream",
     "text": [
      "{'key': 'last_value'}\n"
     ]
    }
   ],
   "source": [
    "dic_var = {\"key\": \"value\", \"key\": \"last_value\"}\n",
    "print(dic_var)"
   ]
  },
  {
   "cell_type": "code",
   "execution_count": 164,
   "metadata": {},
   "outputs": [
    {
     "name": "stdout",
     "output_type": "stream",
     "text": [
      "{'key': 'value', 'key2': 'value', 'key3': 'value'}\n",
      "<class 'dict'>\n",
      "value\n"
     ]
    }
   ],
   "source": [
    "dict_b = {'key': 'value', 'key2': 'value', 'key3': 'value'}\n",
    "print(dict_b)\n",
    "print(type(dict_b))\n",
    "print(dict_b['key'])"
   ]
  },
  {
   "cell_type": "code",
   "execution_count": 165,
   "metadata": {},
   "outputs": [
    {
     "name": "stdout",
     "output_type": "stream",
     "text": [
      "{'key': 'value', 'key2': 'value', 'key3': 'value'}\n",
      "{'key': 'super_value', 'key2': 'value', 'key3': 'value'}\n"
     ]
    }
   ],
   "source": [
    "print(dict_b)\n",
    "dict_b['key'] = \"super_value\"                       # 'key'에 \"super_value\"를 할당함.\n",
    "print(dict_b)"
   ]
  },
  {
   "cell_type": "code",
   "execution_count": 166,
   "metadata": {},
   "outputs": [
    {
     "name": "stdout",
     "output_type": "stream",
     "text": [
      "{'key': 'super_value', 'key2': 'value', 'key3': 'value'}\n",
      "{'key': 'super_value', 'key2': 'value', 'key3': 'value', 'new_one': 'new value'}\n"
     ]
    }
   ],
   "source": [
    "print(dict_b)\n",
    "dict_b['new_one'] = \"new value\"\n",
    "print(dict_b)"
   ]
  },
  {
   "cell_type": "code",
   "execution_count": 168,
   "metadata": {},
   "outputs": [
    {
     "name": "stdout",
     "output_type": "stream",
     "text": [
      "{'key': 'super_value', 'key2': 'value', 'key3': 'value', 'new_one': 'new value'}\n",
      "True\n"
     ]
    }
   ],
   "source": [
    "print(dict_b)\n",
    "print('key' in dict_b)                              # dict_b에 'key'가 있으면 True, 없으면 False"
   ]
  },
  {
   "cell_type": "code",
   "execution_count": 169,
   "metadata": {},
   "outputs": [
    {
     "name": "stdout",
     "output_type": "stream",
     "text": [
      "{'key': 'super_value', 'key2': 'value', 'key3': 'value', 'new_one': 'new value'}\n",
      "4\n"
     ]
    }
   ],
   "source": [
    "print(dict_b)\n",
    "print(len(dict_b))"
   ]
  },
  {
   "cell_type": "code",
   "execution_count": 176,
   "metadata": {},
   "outputs": [
    {
     "name": "stdout",
     "output_type": "stream",
     "text": [
      "과일 이름을 입력하세요. 사과\n",
      "사과의 가격은 1000원 입니다.\n"
     ]
    }
   ],
   "source": [
    "dict_f = {'사과': '1000', '바나나': '700', '오렌지': '1500', '파인애플': '2000'}\n",
    "\n",
    "f = str(input(\"과일 이름을 입력하세요\"))\n",
    "print(\"과일 이름을 입력하세요.\", f)\n",
    "print(f'{f}의 가격은 {dict_f[f]}원 입니다.')"
   ]
  },
  {
   "cell_type": "code",
   "execution_count": null,
   "metadata": {},
   "outputs": [],
   "source": [
    "dict_f = {'사과': 1000, '바나나': 700, '오렌지': 1500, '파인애플': 2000}\n",
    "\n",
    "input_fruit = input(\"과일 이름을 입력하세요\")\n",
    "print(f'{input_fruit}의 가격은 {dict_f[input_fruit]}원 입니다.')"
   ]
  },
  {
   "cell_type": "code",
   "execution_count": 213,
   "metadata": {},
   "outputs": [
    {
     "name": "stdout",
     "output_type": "stream",
     "text": [
      "{'뽀로로': 20.4, '루피': 16.2, '크롱': 22.3, '스누피': 5.2}\n"
     ]
    }
   ],
   "source": [
    "names = input(\"이름을 기입해주세요.\").split()                           # name의 type은 list임.\n",
    "weights = map(float,input(\"몸무게를 입력해주세요.\").split(\" \"))          # map형태의 객체를 가지고 있음.\n",
    "\n",
    "dict_value = dict(zip(names, weights))                              # zip() 함수는 names와 weights를 순서대로 뽑아서 묶어줌.\n",
    "                                                                      # ex) [('뽀로로', '20.4),('루피', '16.2'),('크롱','22.3'),('스누피','5.2')]\n",
    "print(dict_value)"
   ]
  },
  {
   "cell_type": "code",
   "execution_count": 217,
   "metadata": {},
   "outputs": [
    {
     "name": "stdout",
     "output_type": "stream",
     "text": [
      "{'뽀로로': 20.4, '루피': 16.2, '크롱': 22.3, '스누피': 5.2}\n"
     ]
    }
   ],
   "source": [
    "names = input(\"이름을 기입해주세요.\").split()\n",
    "weights = list(map(float,input(\"몸무게를 입력해주세요.\").split()))\n",
    "\n",
    "dict_value = {}\n",
    "for i in range(len(names)):\n",
    "    dict_value[names[i]] = weights[i]                               # map형태에서는 인덱스를 사용할수없어서 weights를 list로 변환.\n",
    "\n",
    "print(dict_value)"
   ]
  },
  {
   "attachments": {},
   "cell_type": "markdown",
   "metadata": {},
   "source": [
    "# list()\n",
    "\n",
    "## * 특징\n",
    "\n",
    "#### 1. 빈 리스트 -> empty_list = [] & empty = list()\n",
    "#### 2. 문자열.split() / 문자열을 split을 통해 객체를 나누고 마지막에 list형태로 변환\n",
    "#### 3. 리스트 comprehension \n",
    "    ex) list_variable = [expression for 변수 iterable]\n",
    "    #####    3.1 iterable로부터 값을 하나 꺼내와서 변수에 담습니다.\n",
    "    #####    3.2 요소를 담은 변수를 활용해서 expression을 실행합니다.\n",
    "    #####    3.3 표현식 결과값을 리스트 요소에 넣습니다.\n",
    "    #####    3.4 반복가능한 iterable로 부터 값이 없을 때까지 1~1 과정을 반복합니다."
   ]
  },
  {
   "cell_type": "code",
   "execution_count": 218,
   "metadata": {},
   "outputs": [
    {
     "name": "stdout",
     "output_type": "stream",
     "text": [
      "[1, 4, 9, 16, 25, 36, 49, 64, 81]\n"
     ]
    }
   ],
   "source": [
    "# range --> 0, 1, 2, ... , 9\n",
    "# _ --> _ = 1, ..._ = 9\n",
    "list_a = [_ ** 2 for _ in range(1,10)]\n",
    "print(list_a)"
   ]
  },
  {
   "cell_type": "code",
   "execution_count": 222,
   "metadata": {},
   "outputs": [
    {
     "name": "stdout",
     "output_type": "stream",
     "text": [
      "[1, 4, 9, 16, 25, 36, 49, 64, 81]\n"
     ]
    }
   ],
   "source": [
    "list_c =[]\n",
    "for _ in range(1,10):\n",
    "    list_c.append(_ ** 2)\n",
    "print(list_c)"
   ]
  },
  {
   "cell_type": "code",
   "execution_count": 224,
   "metadata": {},
   "outputs": [
    {
     "name": "stdout",
     "output_type": "stream",
     "text": [
      "Hello wolrd\n",
      "Hello wolrd\n",
      "Hello wolrd\n",
      "Hello wolrd\n",
      "Hello wolrd\n",
      "Hello wolrd\n",
      "Hello wolrd\n",
      "Hello wolrd\n",
      "Hello wolrd\n",
      "Hello wolrd\n"
     ]
    }
   ],
   "source": [
    "list_b = [print(\"Hello wolrd\") for _ in range(10)]"
   ]
  },
  {
   "cell_type": "code",
   "execution_count": 225,
   "metadata": {},
   "outputs": [
    {
     "name": "stdout",
     "output_type": "stream",
     "text": [
      "<class 'list'>\n",
      "[1, 4, 9, 16, 25, 36, 49, 64, 81]\n"
     ]
    }
   ],
   "source": [
    "prac_result = [_ ** 2 for _ in range(1,10)]                         # _ ** 2 => i * i로 바꾸어도 같은 값이 나옴.\n",
    "print(type(prac_result))\n",
    "print(prac_result)"
   ]
  }
 ],
 "metadata": {
  "kernelspec": {
   "display_name": "base",
   "language": "python",
   "name": "python3"
  },
  "language_info": {
   "codemirror_mode": {
    "name": "ipython",
    "version": 3
   },
   "file_extension": ".py",
   "mimetype": "text/x-python",
   "name": "python",
   "nbconvert_exporter": "python",
   "pygments_lexer": "ipython3",
   "version": "3.9.13"
  },
  "orig_nbformat": 4,
  "vscode": {
   "interpreter": {
    "hash": "29022363fef606f9f23df6f4a22f2b4728bceb42fab3e5e3f1a324182233d5f0"
   }
  }
 },
 "nbformat": 4,
 "nbformat_minor": 2
}
