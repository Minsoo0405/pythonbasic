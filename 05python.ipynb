{
 "cells": [
  {
   "cell_type": "code",
   "execution_count": 13,
   "metadata": {},
   "outputs": [
    {
     "name": "stdout",
     "output_type": "stream",
     "text": [
      "*****\n",
      "*****\n",
      "*****\n",
      "*****\n",
      "*****\n"
     ]
    }
   ],
   "source": [
    "num = int(input(\"숫자 입력\"))\n",
    "j = \"*\"\n",
    "for _ in range(1,num):\n",
    "    print(j * 5)\n",
    "    "
   ]
  },
  {
   "cell_type": "code",
   "execution_count": 29,
   "metadata": {},
   "outputs": [
    {
     "name": "stdout",
     "output_type": "stream",
     "text": [
      "*****\n",
      "*****\n",
      "*****\n",
      "*****\n",
      "*****\n"
     ]
    }
   ],
   "source": [
    "for i in range(5):\n",
    "    for j in range(5):\n",
    "        print(\"*\", end=\"\")\n",
    "    print()"
   ]
  },
  {
   "attachments": {},
   "cell_type": "markdown",
   "metadata": {},
   "source": [
    "# while문 구조\n",
    "    1. 초기식\n",
    "    2. 조건식 : 조건식이 True이면 실행, False이면 변화식으로 이동.\n",
    "    3. 변화식 : 초기식에서 변화를 줌. "
   ]
  },
  {
   "cell_type": "code",
   "execution_count": 33,
   "metadata": {},
   "outputs": [
    {
     "name": "stdout",
     "output_type": "stream",
     "text": [
      "Hello world!\n",
      "Hello world!\n",
      "Hello world!\n",
      "Hello world!\n",
      "Hello world!\n"
     ]
    }
   ],
   "source": [
    "i = 0                           # 초기식\n",
    "while i < 5:                    # 조건식 : while문이 True이면 실행, False이면 실행x\n",
    "    print(\"Hello world!\")\n",
    "    i += 1                      # 변화식"
   ]
  },
  {
   "cell_type": "code",
   "execution_count": 35,
   "metadata": {},
   "outputs": [
    {
     "name": "stdout",
     "output_type": "stream",
     "text": [
      "Hello world 3\n",
      "Hello world 2\n",
      "Hello world 1\n"
     ]
    }
   ],
   "source": [
    "count = int(input(\"반복할 횟수를 입력하세요: \"))\n",
    "\n",
    "while count > 0:\n",
    "    print(\"Hello world\", count)\n",
    "    count -= 1"
   ]
  },
  {
   "cell_type": "code",
   "execution_count": 10,
   "metadata": {},
   "outputs": [
    {
     "name": "stdout",
     "output_type": "stream",
     "text": [
      "2\t4\t6\t8\t10\t12\t14\t16\t18\t20\t22\t24\t26\t28\t30\t32\t34\t36\t38\t40\t42\t44\t46\t48\t50\t52\t54\t56\t58\t60\t62\t64\t66\t68\t70\t72\t74\t76\t78\t80\t82\t84\t86\t88\t90\t92\t94\t96\t98\t100\t"
     ]
    }
   ],
   "source": [
    "number = 1\n",
    "while number <= 50 :\n",
    "    print(number * 2, end=\"\\t\")\n",
    "    number += 1"
   ]
  },
  {
   "cell_type": "code",
   "execution_count": 9,
   "metadata": {},
   "outputs": [
    {
     "name": "stdout",
     "output_type": "stream",
     "text": [
      "9 * 1 =  9\n",
      "9 * 2 =  18\n",
      "9 * 3 =  27\n",
      "9 * 4 =  36\n",
      "9 * 5 =  45\n",
      "9 * 6 =  54\n",
      "9 * 7 =  63\n",
      "9 * 8 =  72\n",
      "9 * 9 =  81\n"
     ]
    }
   ],
   "source": [
    "number2 = int(input(\"구구단을 알려드립니다. 숫자를 입력하세요.\"))\n",
    "\n",
    "i = 1\n",
    "while i < 10:\n",
    "    print(number2, \"*\", i, \"= \", number2*i)\n",
    "    i += 1"
   ]
  },
  {
   "cell_type": "code",
   "execution_count": 15,
   "metadata": {},
   "outputs": [
    {
     "name": "stdout",
     "output_type": "stream",
     "text": [
      "1 번 학생의 점수 :  77\n",
      "1 번 학생의 점수 :  88\n",
      "1 번 학생의 점수 :  99\n"
     ]
    }
   ],
   "source": [
    "num_stu = int(input(\"학생의 수를 입력하세요.\"))\n",
    "i = 0\n",
    "\n",
    "while num_stu > 0:\n",
    "    grade = int(input(\"학생의 점수를 입력하세요.\"))\n",
    "    print(i+1, \"번 학생의 점수 : \", grade)\n",
    "    num_stu -= 1\n"
   ]
  },
  {
   "cell_type": "code",
   "execution_count": 28,
   "metadata": {},
   "outputs": [
    {
     "name": "stdout",
     "output_type": "stream",
     "text": [
      "평균 :88.0\n"
     ]
    }
   ],
   "source": [
    "stu = int(input(\"학생의 수\"))\n",
    "score = 0\n",
    "i = 0\n",
    "\n",
    "while stu > 0 :\n",
    "    score += int(input(f'{i+1}번 학생의 점수 : {score}'))\n",
    "    i += 1\n",
    "    stu -= 1\n",
    "\n",
    "print(f'평균 :{score / i}')             # while문에서 마지막에 3으로 값이 처리되서 계산이 되는것???"
   ]
  },
  {
   "cell_type": "code",
   "execution_count": null,
   "metadata": {},
   "outputs": [],
   "source": [
    "stu = int(input(\"학생의 수\"))\n",
    "score = 0\n",
    "i = 0\n",
    "\n",
    "while stu > 0 :\n",
    "    score += int(input(f'{i+1}번 학생의 점수 : {score}'))\n",
    "    i += 1\n",
    "    stu -= 1\n",
    "\n",
    "print(f'평균 :{score / stu}')           # i 일때랑 stu 일때랑 값의 차이가 왜 날까??"
   ]
  },
  {
   "attachments": {},
   "cell_type": "markdown",
   "metadata": {},
   "source": [
    "# while문 인덱스 사용\n",
    "인덱스(len(시퀀스 객체) - 1)"
   ]
  },
  {
   "cell_type": "code",
   "execution_count": 62,
   "metadata": {},
   "outputs": [
    {
     "name": "stdout",
     "output_type": "stream",
     "text": [
      "79.0\n"
     ]
    }
   ],
   "source": [
    "class_a = (70, 60, 55, 75, 95, 90, 80, 80, 85, 100)\n",
    "j = 0\n",
    "score = 0\n",
    "\n",
    "while j < len(class_a):         # j = 0 부터 시작 / len(class_a) = 1부터 시작 \n",
    "    score += class_a[j]\n",
    "    j += 1\n",
    "\n",
    "average = score / len(class_a)\n",
    "\n",
    "print(average)"
   ]
  },
  {
   "attachments": {},
   "cell_type": "markdown",
   "metadata": {},
   "source": [
    "# break\n",
    "for문 과 if문을 빠져나간다."
   ]
  },
  {
   "cell_type": "code",
   "execution_count": null,
   "metadata": {},
   "outputs": [],
   "source": [
    "for _ in range (10000):         # for문은 9999번 반복해야함.\n",
    "    print(_)\n",
    "    if _ == 100:      \n",
    "        break                   # if문에 100번이 되었을때, break(빠져나간다.)"
   ]
  },
  {
   "cell_type": "code",
   "execution_count": 61,
   "metadata": {},
   "outputs": [
    {
     "name": "stdout",
     "output_type": "stream",
     "text": [
      "5050\n"
     ]
    }
   ],
   "source": [
    "i = 0\n",
    "total = 0\n",
    "while True:\n",
    "    total += i\n",
    "    i += 1\n",
    "    if i == 101:            # if문을 '> 100'로 바꾼다면 좀더 깔끔.\n",
    "        break\n",
    "print(total)"
   ]
  },
  {
   "cell_type": "code",
   "execution_count": 64,
   "metadata": {},
   "outputs": [
    {
     "name": "stdout",
     "output_type": "stream",
     "text": [
      "q를 입력하면 종료됩니다. 진짜\n",
      "q를 입력하면 종료됩니다. 정말?\n",
      "q를 입력하면 종료됩니다. \n",
      "q를 입력하면 종료됩니다. q\n",
      "프로그램을 종료합니다.\n"
     ]
    }
   ],
   "source": [
    "while True:\n",
    "    input_value = input(\"q를 입력하면 종료됩니다.\")\n",
    "    print(\"q를 입력하면 종료됩니다.\", input_value)\n",
    "    if input_value == \"q\": break\n",
    "print(\"프로그램을 종료합니다.\")"
   ]
  },
  {
   "attachments": {},
   "cell_type": "markdown",
   "metadata": {},
   "source": [
    "# continue\n",
    "for문과 if문에 사용함."
   ]
  },
  {
   "cell_type": "code",
   "execution_count": 70,
   "metadata": {},
   "outputs": [
    {
     "name": "stdout",
     "output_type": "stream",
     "text": [
      "1\t3\t5\t7\t9\t11\t13\t15\t17\t19\t21\t23\t25\t27\t29\t31\t33\t35\t37\t39\t41\t43\t45\t47\t49\t51\t53\t55\t57\t59\t61\t63\t65\t67\t69\t71\t73\t75\t77\t79\t81\t83\t85\t87\t89\t91\t93\t95\t97\t99\t"
     ]
    }
   ],
   "source": [
    "for i in range(100):\n",
    "    if i % 2 == 0:          # 나머지가 0인 짝수를 print하지않고, 다시 첫번째 for문으로 올라감.\n",
    "        continue\n",
    "    print(i, end=\"\\t\")      # 나머지가 1인 홀수는 print함."
   ]
  },
  {
   "cell_type": "code",
   "execution_count": 71,
   "metadata": {},
   "outputs": [
    {
     "name": "stdout",
     "output_type": "stream",
     "text": [
      "1\t3\t5\t7\t9\t11\t13\t15\t17\t19\t21\t23\t25\t27\t29\t31\t33\t35\t37\t39\t41\t43\t45\t47\t49\t51\t53\t55\t57\t59\t61\t63\t65\t67\t69\t71\t73\t75\t77\t79\t81\t83\t85\t87\t89\t91\t93\t95\t97\t99\t"
     ]
    }
   ],
   "source": [
    "i = 0 \n",
    "while i < 100:\n",
    "    i += 1                  # 증감과 continue가 겹치지 않을 것!!!\n",
    "    if i % 2 == 0:\n",
    "        continue            # 나머지가 0인 짝수는 print하지않고, while문으로 올라감.\n",
    "    print(i, end=\"\\t\")"
   ]
  },
  {
   "cell_type": "code",
   "execution_count": 31,
   "metadata": {},
   "outputs": [
    {
     "name": "stdout",
     "output_type": "stream",
     "text": [
      "3 13 23 33 43 53 63 73 83 93 "
     ]
    }
   ],
   "source": [
    "i = 0 \n",
    "while True:\n",
    "    if i % 10 !=3:\n",
    "        i += 1                  # 10으로 나눌때 나머지가 3이 아닌 경우 continue / 3인 경우 print문 진행\n",
    "        continue                # continue문 앞에 증감식이 있어야함. 없으면 무한루프에 빠질수있음.\n",
    "    if i > 100:break\n",
    "    print(i, end=' ')\n",
    "    i += 1\n",
    "    "
   ]
  },
  {
   "cell_type": "code",
   "execution_count": 96,
   "metadata": {},
   "outputs": [
    {
     "name": "stdout",
     "output_type": "stream",
     "text": [
      "1 2 3 4 5 6 7 8 9 10 "
     ]
    }
   ],
   "source": [
    "for n in range(1,11):\n",
    "    print(n, end=\" \")"
   ]
  },
  {
   "cell_type": "code",
   "execution_count": 102,
   "metadata": {},
   "outputs": [
    {
     "name": "stdout",
     "output_type": "stream",
     "text": [
      "1 2 3 4 5 6 7 8 9 10 "
     ]
    }
   ],
   "source": [
    "i = 0\n",
    "while i < 10:\n",
    "    i += 1                      # i = 0에서 +1로 증가하여 i = 1인 상태에서 print됨.\n",
    "    print(i, end=\" \")"
   ]
  },
  {
   "cell_type": "code",
   "execution_count": 33,
   "metadata": {},
   "outputs": [
    {
     "name": "stdout",
     "output_type": "stream",
     "text": [
      "1 부터 10 까지의 합은  55  입니다.\n"
     ]
    }
   ],
   "source": [
    "n = int(input(\"시작하는 정수 입력\"))\n",
    "m = int(input(\"끝나는 정수 입력\"))\n",
    "result = 0\n",
    "\n",
    "for _ in range(n,m + 1,1):\n",
    "    result += _\n",
    "print(n, \"부터\", m, \"까지의 합은 \", result,\" 입니다.\")"
   ]
  },
  {
   "cell_type": "code",
   "execution_count": 35,
   "metadata": {},
   "outputs": [
    {
     "name": "stdout",
     "output_type": "stream",
     "text": [
      "1부터 10까지의 합은 55입니다."
     ]
    }
   ],
   "source": [
    "n = int(input(\"시작하는 정수 입력\"))\n",
    "m = int(input(\"끝나는 정수 입력\"))                 \n",
    "result = 0\n",
    "j = n\n",
    "\n",
    "while n <= m :\n",
    "    result += n \n",
    "    n += 1                                                 # n은 1씩 증가하므로 값이 계속 변하게 된다.\n",
    "print(f'{j}부터 {m}까지의 합은 {result}입니다.', end=\"\")        # print문에서 n은 while문에서 n = 11 and m = 10이므로 종료되어 \"11번부터 10까지의 합은 55입니다.\"라고 출력됨."
   ]
  },
  {
   "cell_type": "code",
   "execution_count": 23,
   "metadata": {},
   "outputs": [
    {
     "name": "stdout",
     "output_type": "stream",
     "text": [
      "1부터 10까지의 합은 55입니다."
     ]
    }
   ],
   "source": [
    "n = int(input(\"시작하는 정수 입력\"))\n",
    "m = int(input(\"끝나는 정수 입력\"))\n",
    "i = n\n",
    "result = 0\n",
    "\n",
    "while True:\n",
    "    result += i                                         \n",
    "    i += 1                                               # 변하는 변수를 i로 하였을때\n",
    "    if i > m : break\n",
    "print(f'{n}부터 {m}까지의 합은 {result}입니다.', end=\"\")"
   ]
  },
  {
   "attachments": {},
   "cell_type": "markdown",
   "metadata": {},
   "source": [
    "# print 문자열 간단하게 쓰는법\n",
    "print(f'{n}부터 {m}까지의 합은 {total}입니다.')"
   ]
  },
  {
   "cell_type": "code",
   "execution_count": 38,
   "metadata": {},
   "outputs": [
    {
     "name": "stdout",
     "output_type": "stream",
     "text": [
      "4부터 7사이의 짝수 제곱의 합은 52입니다.\n"
     ]
    }
   ],
   "source": [
    "### 왜 짝수만 값이 안나오는지 고민하기\n",
    "n = int(input(\"시작하는 정수 입력\"))\n",
    "m = int(input(\"끝나는 정수 입력\"))\n",
    "result = 0\n",
    "i = n\n",
    "\n",
    "for _ in range(n,m+1):\n",
    "    if _ % 2 != 0:\n",
    "        continue\n",
    "    result += _ ** 2            # for문에서 주어진 변수는 _이므로 _에 제곱하여 합을 구하여야 함.\n",
    "print(f'{i}부터 {m}사이의 짝수 제곱의 합은 {result}입니다.')\n",
    "    "
   ]
  },
  {
   "cell_type": "code",
   "execution_count": 42,
   "metadata": {},
   "outputs": [
    {
     "name": "stdout",
     "output_type": "stream",
     "text": [
      "4부터 7사이의 짝수 제곱의 합은 52입니다.\n"
     ]
    }
   ],
   "source": [
    "### 왜 짝수만 값이 안나오는지 고민하기\n",
    "n = int(input(\"시작하는 정수 입력\"))\n",
    "m = int(input(\"끝나는 정수 입력\"))\n",
    "result = 0\n",
    "i = n\n",
    "\n",
    "while n <= m:\n",
    "    if n % 2 == 0:\n",
    "        result += n ** 2            # if조건문에 해당되는 값만 제곱의 합을 구하여야 하기 때문\n",
    "    n += 1\n",
    "print(f'{i}부터 {m}사이의 짝수 제곱의 합은 {result}입니다.')\n"
   ]
  },
  {
   "cell_type": "code",
   "execution_count": 92,
   "metadata": {},
   "outputs": [
    {
     "name": "stdout",
     "output_type": "stream",
     "text": [
      "79.0\n"
     ]
    }
   ],
   "source": [
    "Kor = [70, 60, 55, 75, 95, 90, 80, 80, 85, 100]\n",
    "\n",
    "total1 = 0\n",
    "for _ in range(len(Kor)):                               # len(Kor)는 Kor이 10이므로 range를 0 ~ 9까지의 값을 넣을수있음.\n",
    "    total1 += Kor[_]\n",
    "print(total1/ len(Kor))\n",
    "\n"
   ]
  },
  {
   "cell_type": "code",
   "execution_count": 82,
   "metadata": {},
   "outputs": [
    {
     "name": "stdout",
     "output_type": "stream",
     "text": [
      "79.0\n"
     ]
    }
   ],
   "source": [
    "Kor = [70, 60, 55, 75, 95, 90, 80, 80, 85, 100]\n",
    "\n",
    "i = 0\n",
    "result1 = 0\n",
    "while i < len(Kor):\n",
    "    result1 += Kor[i]                               # Kor의 i번째 값을 계속 합하여 result1을 만든다.\n",
    "    i += 1\n",
    "\n",
    "average = result1 / len(Kor)\n",
    "\n",
    "print(average)"
   ]
  },
  {
   "cell_type": "code",
   "execution_count": 94,
   "metadata": {},
   "outputs": [
    {
     "name": "stdout",
     "output_type": "stream",
     "text": [
      "233168\n"
     ]
    }
   ],
   "source": [
    "i = 0\n",
    "total2 = 0\n",
    "\n",
    "for _ in range(1,1000):\n",
    "    if _ % 3 == 0 or _ % 5 == 0:                    # 3의 배수와 5의 배수만 총합을 구하기 위해 다른 자연수를 걸려준다.\n",
    "        total2 += _\n",
    "print(total2)"
   ]
  },
  {
   "cell_type": "code",
   "execution_count": 98,
   "metadata": {},
   "outputs": [
    {
     "name": "stdout",
     "output_type": "stream",
     "text": [
      "233168\n"
     ]
    }
   ],
   "source": [
    "i = 0\n",
    "total2 = 0\n",
    "\n",
    "while i < 1000:\n",
    "    if i % 3 == 0 or i % 5 == 0:                    # 3의 배수와 5의 배수만 총합을 구하기 위해 다른 자연수를 걸려준다.\n",
    "        total2 += i\n",
    "    i +=1\n",
    "print(total2)"
   ]
  }
 ],
 "metadata": {
  "kernelspec": {
   "display_name": "base",
   "language": "python",
   "name": "python3"
  },
  "language_info": {
   "codemirror_mode": {
    "name": "ipython",
    "version": 3
   },
   "file_extension": ".py",
   "mimetype": "text/x-python",
   "name": "python",
   "nbconvert_exporter": "python",
   "pygments_lexer": "ipython3",
   "version": "3.9.13"
  },
  "orig_nbformat": 4,
  "vscode": {
   "interpreter": {
    "hash": "29022363fef606f9f23df6f4a22f2b4728bceb42fab3e5e3f1a324182233d5f0"
   }
  }
 },
 "nbformat": 4,
 "nbformat_minor": 2
}
