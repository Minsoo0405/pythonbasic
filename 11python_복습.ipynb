{
 "cells": [
  {
   "cell_type": "code",
   "execution_count": 22,
   "metadata": {},
   "outputs": [
    {
     "name": "stdout",
     "output_type": "stream",
     "text": [
      "현재 값은 80원 남았네요.\n",
      "숫자를 입력해주세요.\n",
      "현재 값은 50원 남았네요.\n",
      "현재 값은 65원 남았네요.\n"
     ]
    }
   ],
   "source": [
    "import numpy as np\n",
    "class Calculator():\n",
    "    def __init__(self, value = 0):\n",
    "        self.value = value\n",
    "        return\n",
    "    \n",
    "    def add(self, *args):\n",
    "        if len(args) > 0:                   \n",
    "            arg = np.array(args)\n",
    "            self.value += np.sum(arg)\n",
    "        else:                               # 가변인자 길이가 0인 경우는 else 출력\n",
    "            print(\"숫자를 입력해주세요.\")\n",
    "    \n",
    "    def minus(self, *args):\n",
    "        if len(args) > 0:\n",
    "            arg = np.array(args)\n",
    "            self.value -= np.sum(arg)\n",
    "        else:\n",
    "            print(\"숫자를 입력해주세요.\")       # 가변인자 길이가 0인 경우는 else 출력\n",
    "\n",
    "    def show_value(self, *args):\n",
    "        print((f'현재 값은 {self.value}원 남았네요.'))\n",
    "\n",
    "c = Calculator()\n",
    "c.add(100)\n",
    "c.minus(20)\n",
    "c.show_value()\n",
    "c.add()\n",
    "c.minus([10, 20])\n",
    "c.show_value()\n",
    "c.add([range(1, 6)])\n",
    "c.show_value()"
   ]
  },
  {
   "cell_type": "code",
   "execution_count": 25,
   "metadata": {},
   "outputs": [
    {
     "data": {
      "text/plain": [
       "array([[10, 20, 30, 40],\n",
       "       [50, 60, 70, 80]])"
      ]
     },
     "execution_count": 25,
     "metadata": {},
     "output_type": "execute_result"
    }
   ],
   "source": [
    "a = np.array(range(10, 90, 10))\n",
    "a.reshape(2,-1)"
   ]
  },
  {
   "cell_type": "code",
   "execution_count": 46,
   "metadata": {},
   "outputs": [
    {
     "data": {
      "text/plain": [
       "array([[3, 4],\n",
       "       [8, 9]])"
      ]
     },
     "execution_count": 46,
     "metadata": {},
     "output_type": "execute_result"
    }
   ],
   "source": [
    "m = np.array([[0, 1, 2, 3, 4],\n",
    "            [5, 6, 7, 8, 9],\n",
    "            [10, 11, 12, 13, 14]])\n",
    "\n",
    "m[1][2]\n",
    "m[2][4]\n",
    "m[1][1:3]\n",
    "m[1:, 2]\n",
    "m[:2, 3:]"
   ]
  }
 ],
 "metadata": {
  "kernelspec": {
   "display_name": "Python 3",
   "language": "python",
   "name": "python3"
  },
  "language_info": {
   "codemirror_mode": {
    "name": "ipython",
    "version": 3
   },
   "file_extension": ".py",
   "mimetype": "text/x-python",
   "name": "python",
   "nbconvert_exporter": "python",
   "pygments_lexer": "ipython3",
   "version": "3.11.1"
  },
  "orig_nbformat": 4,
  "vscode": {
   "interpreter": {
    "hash": "5c7b89af1651d0b8571dde13640ecdccf7d5a6204171d6ab33e7c296e100e08a"
   }
  }
 },
 "nbformat": 4,
 "nbformat_minor": 2
}
