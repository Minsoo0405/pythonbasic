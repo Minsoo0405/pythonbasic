{
 "cells": [
  {
   "cell_type": "code",
   "execution_count": 54,
   "metadata": {},
   "outputs": [
    {
     "name": "stdout",
     "output_type": "stream",
     "text": [
      "*****\n",
      "*****\n",
      "*****\n",
      "*****\n",
      "*****\n"
     ]
    }
   ],
   "source": [
    "for i in range(5):\n",
    "    for j in range(5):\n",
    "        print(\"*\", end=\"\")\n",
    "    print()"
   ]
  },
  {
   "cell_type": "code",
   "execution_count": 55,
   "metadata": {},
   "outputs": [
    {
     "name": "stdout",
     "output_type": "stream",
     "text": [
      "2\t4\t6\t8\t10\t12\t14\t16\t18\t20\t22\t24\t26\t28\t30\t32\t34\t36\t38\t40\t42\t44\t46\t48\t50\t52\t54\t56\t58\t60\t62\t64\t66\t68\t70\t72\t74\t76\t78\t80\t82\t84\t86\t88\t90\t92\t94\t96\t98\t100\t"
     ]
    }
   ],
   "source": [
    "i = 1\n",
    "while i >= 1 and i <= 100:\n",
    "    if i % 2 == 0:\n",
    "        print(i, end=\"\\t\")\n",
    "    i += 1"
   ]
  },
  {
   "cell_type": "code",
   "execution_count": 56,
   "metadata": {},
   "outputs": [
    {
     "ename": "ValueError",
     "evalue": "invalid literal for int() with base 10: ''",
     "output_type": "error",
     "traceback": [
      "\u001b[0;31m---------------------------------------------------------------------------\u001b[0m",
      "\u001b[0;31mValueError\u001b[0m                                Traceback (most recent call last)",
      "\u001b[1;32m/Users/kimminsoo/Desktop/pythonbasic/2주차 복습.ipynb Cell 3\u001b[0m in \u001b[0;36m<cell line: 1>\u001b[0;34m()\u001b[0m\n\u001b[0;32m----> <a href='vscode-notebook-cell:/Users/kimminsoo/Desktop/pythonbasic/2%EC%A3%BC%EC%B0%A8%20%EB%B3%B5%EC%8A%B5.ipynb#W3sZmlsZQ%3D%3D?line=0'>1</a>\u001b[0m number \u001b[39m=\u001b[39m \u001b[39mint\u001b[39;49m(\u001b[39minput\u001b[39;49m(\u001b[39m\"\u001b[39;49m\u001b[39m구구단을 알려드립니다. 숫자를 입력하세요.\u001b[39;49m\u001b[39m\"\u001b[39;49m))\n\u001b[1;32m      <a href='vscode-notebook-cell:/Users/kimminsoo/Desktop/pythonbasic/2%EC%A3%BC%EC%B0%A8%20%EB%B3%B5%EC%8A%B5.ipynb#W3sZmlsZQ%3D%3D?line=2'>3</a>\u001b[0m i \u001b[39m=\u001b[39m \u001b[39m1\u001b[39m\n\u001b[1;32m      <a href='vscode-notebook-cell:/Users/kimminsoo/Desktop/pythonbasic/2%EC%A3%BC%EC%B0%A8%20%EB%B3%B5%EC%8A%B5.ipynb#W3sZmlsZQ%3D%3D?line=3'>4</a>\u001b[0m \u001b[39mwhile\u001b[39;00m number \u001b[39m>\u001b[39m \u001b[39m0\u001b[39m:\n",
      "\u001b[0;31mValueError\u001b[0m: invalid literal for int() with base 10: ''"
     ]
    }
   ],
   "source": [
    "number = int(input(\"구구단을 알려드립니다. 숫자를 입력하세요.\"))\n",
    "\n",
    "i = 1\n",
    "while number > 0:\n",
    "    if i < 10:\n",
    "        print(f'{number} * {i} = {number * i}', sep=\"\")\n",
    "        i += 1\n",
    "    else: break"
   ]
  },
  {
   "cell_type": "code",
   "execution_count": null,
   "metadata": {},
   "outputs": [
    {
     "name": "stdout",
     "output_type": "stream",
     "text": [
      "79.0\n"
     ]
    }
   ],
   "source": [
    "class_a = (70, 60, 55 ,75, 95, 90, 80, 80, 85, 100)\n",
    "\n",
    "class_total = 0\n",
    "i = 0\n",
    "while len(class_a) > i:\n",
    "    class_total += class_a[i]\n",
    "    i += 1\n",
    "print(class_total / len(class_a))"
   ]
  },
  {
   "cell_type": "code",
   "execution_count": null,
   "metadata": {},
   "outputs": [
    {
     "name": "stdout",
     "output_type": "stream",
     "text": [
      "5050\n"
     ]
    }
   ],
   "source": [
    "i = 0 \n",
    "total = 0\n",
    "while True:\n",
    "    if i < 100:\n",
    "        i += 1\n",
    "        total += i\n",
    "    else: break\n",
    "print(total)"
   ]
  },
  {
   "cell_type": "code",
   "execution_count": 58,
   "metadata": {},
   "outputs": [
    {
     "name": "stdout",
     "output_type": "stream",
     "text": [
      "3 13 23 33 43 53 63 73 83 93 "
     ]
    }
   ],
   "source": [
    "i = 0 \n",
    "while True:\n",
    "    if i % 10 != 3:\n",
    "        i += 1\n",
    "        continue\n",
    "    if i > 100:\n",
    "        break\n",
    "    print(i, end=\" \")\n",
    "    i += 1"
   ]
  },
  {
   "cell_type": "code",
   "execution_count": 61,
   "metadata": {},
   "outputs": [
    {
     "name": "stdout",
     "output_type": "stream",
     "text": [
      "11부터 10까지의 합은 55 입니다.\n"
     ]
    }
   ],
   "source": [
    "n = int(input(\"시작하는 정수 입력\"))\n",
    "m = int(input(\"끝나는 정수 입력\"))\n",
    "\n",
    "i = 0\n",
    "total = 0\n",
    "while i < m:\n",
    "    total += n\n",
    "    n += 1\n",
    "    i += 1\n",
    "print(f'{n}부터 {m}까지의 합은 {total} 입니다.')\n"
   ]
  },
  {
   "cell_type": "code",
   "execution_count": 65,
   "metadata": {},
   "outputs": [
    {
     "name": "stdout",
     "output_type": "stream",
     "text": [
      "4부터 7사이의 짝수 제곱의 합은 52입니다\n"
     ]
    }
   ],
   "source": [
    "n = int(input(\"시작하는 정수 입력\"))\n",
    "m = int(input(\"끝나는 정수 입력\"))\n",
    "total = 0\n",
    "for _ in range(n,m+1):\n",
    "    if _ % 2 == 0:\n",
    "        total += _ ** 2\n",
    "    \n",
    "print(f'{n}부터 {m}사이의 짝수 제곱의 합은 {total}입니다')\n"
   ]
  },
  {
   "cell_type": "code",
   "execution_count": 66,
   "metadata": {},
   "outputs": [
    {
     "name": "stdout",
     "output_type": "stream",
     "text": [
      "79.0\n"
     ]
    }
   ],
   "source": [
    "Kor = [70, 60, 55, 75, 95, 90, 80, 80, 85, 100]\n",
    "\n",
    "tot_kor = 0\n",
    "for _ in range(len(Kor)):\n",
    "    tot_kor += Kor[_]\n",
    "avg_kor = tot_kor / len(Kor)\n",
    "print(avg_kor)"
   ]
  },
  {
   "cell_type": "code",
   "execution_count": 72,
   "metadata": {},
   "outputs": [
    {
     "name": "stdout",
     "output_type": "stream",
     "text": [
      "233168\n"
     ]
    }
   ],
   "source": [
    "number = 1\n",
    "total = 0\n",
    "\n",
    "while number < 1000:\n",
    "    if number % 3 == 0 or number % 5 == 0:\n",
    "        total += number\n",
    "    number += 1\n",
    "print(total)"
   ]
  },
  {
   "cell_type": "code",
   "execution_count": 84,
   "metadata": {},
   "outputs": [
    {
     "name": "stdout",
     "output_type": "stream",
     "text": [
      "실기점수를 입력하세요 [70, 50, 85, 98, 82]\n",
      "98 50\n",
      "이 학생의 평균 점수는 79\n"
     ]
    }
   ],
   "source": [
    "scores = list(map(int,input(\"실기 점수를 입력하세요.\").split(\" \")))\n",
    "\n",
    "max_score = 0\n",
    "min_score = 100\n",
    "total_score = 0\n",
    "\n",
    "for _ in scores:\n",
    "    total_score += _\n",
    "for _ in scores:\n",
    "    if _ > max_score:\n",
    "        max_score = _\n",
    "for _ in scores:\n",
    "    if _ < min_score:\n",
    "        min_score = _\n",
    "avg_score = int((total_score - max_score - min_score) / (len(scores) - 2))\n",
    "print(\"실기점수를 입력하세요\", str(scores))\n",
    "print(max_score, min_score)\n",
    "print(\"이 학생의 평균 점수는\", avg_score)"
   ]
  }
 ],
 "metadata": {
  "kernelspec": {
   "display_name": "base",
   "language": "python",
   "name": "python3"
  },
  "language_info": {
   "codemirror_mode": {
    "name": "ipython",
    "version": 3
   },
   "file_extension": ".py",
   "mimetype": "text/x-python",
   "name": "python",
   "nbconvert_exporter": "python",
   "pygments_lexer": "ipython3",
   "version": "3.9.13"
  },
  "orig_nbformat": 4,
  "vscode": {
   "interpreter": {
    "hash": "29022363fef606f9f23df6f4a22f2b4728bceb42fab3e5e3f1a324182233d5f0"
   }
  }
 },
 "nbformat": 4,
 "nbformat_minor": 2
}
