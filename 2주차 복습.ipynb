{
 "cells": [
  {
   "cell_type": "code",
   "execution_count": 54,
   "metadata": {},
   "outputs": [
    {
     "name": "stdout",
     "output_type": "stream",
     "text": [
      "*****\n",
      "*****\n",
      "*****\n",
      "*****\n",
      "*****\n"
     ]
    }
   ],
   "source": [
    "for i in range(5):\n",
    "    for j in range(5):\n",
    "        print(\"*\", end=\"\")\n",
    "    print()"
   ]
  },
  {
   "cell_type": "code",
   "execution_count": 55,
   "metadata": {},
   "outputs": [
    {
     "name": "stdout",
     "output_type": "stream",
     "text": [
      "2\t4\t6\t8\t10\t12\t14\t16\t18\t20\t22\t24\t26\t28\t30\t32\t34\t36\t38\t40\t42\t44\t46\t48\t50\t52\t54\t56\t58\t60\t62\t64\t66\t68\t70\t72\t74\t76\t78\t80\t82\t84\t86\t88\t90\t92\t94\t96\t98\t100\t"
     ]
    }
   ],
   "source": [
    "i = 1\n",
    "while i >= 1 and i <= 100:\n",
    "    if i % 2 == 0:\n",
    "        print(i, end=\"\\t\")\n",
    "    i += 1"
   ]
  },
  {
   "cell_type": "code",
   "execution_count": 56,
   "metadata": {},
   "outputs": [
    {
     "ename": "ValueError",
     "evalue": "invalid literal for int() with base 10: ''",
     "output_type": "error",
     "traceback": [
      "\u001b[0;31m---------------------------------------------------------------------------\u001b[0m",
      "\u001b[0;31mValueError\u001b[0m                                Traceback (most recent call last)",
      "\u001b[1;32m/Users/kimminsoo/Desktop/pythonbasic/2주차 복습.ipynb Cell 3\u001b[0m in \u001b[0;36m<cell line: 1>\u001b[0;34m()\u001b[0m\n\u001b[0;32m----> <a href='vscode-notebook-cell:/Users/kimminsoo/Desktop/pythonbasic/2%EC%A3%BC%EC%B0%A8%20%EB%B3%B5%EC%8A%B5.ipynb#W3sZmlsZQ%3D%3D?line=0'>1</a>\u001b[0m number \u001b[39m=\u001b[39m \u001b[39mint\u001b[39;49m(\u001b[39minput\u001b[39;49m(\u001b[39m\"\u001b[39;49m\u001b[39m구구단을 알려드립니다. 숫자를 입력하세요.\u001b[39;49m\u001b[39m\"\u001b[39;49m))\n\u001b[1;32m      <a href='vscode-notebook-cell:/Users/kimminsoo/Desktop/pythonbasic/2%EC%A3%BC%EC%B0%A8%20%EB%B3%B5%EC%8A%B5.ipynb#W3sZmlsZQ%3D%3D?line=2'>3</a>\u001b[0m i \u001b[39m=\u001b[39m \u001b[39m1\u001b[39m\n\u001b[1;32m      <a href='vscode-notebook-cell:/Users/kimminsoo/Desktop/pythonbasic/2%EC%A3%BC%EC%B0%A8%20%EB%B3%B5%EC%8A%B5.ipynb#W3sZmlsZQ%3D%3D?line=3'>4</a>\u001b[0m \u001b[39mwhile\u001b[39;00m number \u001b[39m>\u001b[39m \u001b[39m0\u001b[39m:\n",
      "\u001b[0;31mValueError\u001b[0m: invalid literal for int() with base 10: ''"
     ]
    }
   ],
   "source": [
    "number = int(input(\"구구단을 알려드립니다. 숫자를 입력하세요.\"))\n",
    "\n",
    "i = 1\n",
    "while number > 0:\n",
    "    if i < 10:\n",
    "        print(f'{number} * {i} = {number * i}', sep=\"\")\n",
    "        i += 1\n",
    "    else: break"
   ]
  },
  {
   "cell_type": "code",
   "execution_count": null,
   "metadata": {},
   "outputs": [
    {
     "name": "stdout",
     "output_type": "stream",
     "text": [
      "79.0\n"
     ]
    }
   ],
   "source": [
    "class_a = (70, 60, 55 ,75, 95, 90, 80, 80, 85, 100)\n",
    "\n",
    "class_total = 0\n",
    "i = 0\n",
    "while len(class_a) > i:\n",
    "    class_total += class_a[i]\n",
    "    i += 1\n",
    "print(class_total / len(class_a))"
   ]
  },
  {
   "cell_type": "code",
   "execution_count": null,
   "metadata": {},
   "outputs": [
    {
     "name": "stdout",
     "output_type": "stream",
     "text": [
      "5050\n"
     ]
    }
   ],
   "source": [
    "i = 0 \n",
    "total = 0\n",
    "while True:\n",
    "    if i < 100:\n",
    "        i += 1\n",
    "        total += i\n",
    "    else: break\n",
    "print(total)"
   ]
  },
  {
   "cell_type": "code",
   "execution_count": 58,
   "metadata": {},
   "outputs": [
    {
     "name": "stdout",
     "output_type": "stream",
     "text": [
      "3 13 23 33 43 53 63 73 83 93 "
     ]
    }
   ],
   "source": [
    "i = 0 \n",
    "while True:\n",
    "    if i % 10 != 3:\n",
    "        i += 1\n",
    "        continue\n",
    "    if i > 100:\n",
    "        break\n",
    "    print(i, end=\" \")\n",
    "    i += 1"
   ]
  },
  {
   "cell_type": "code",
   "execution_count": 61,
   "metadata": {},
   "outputs": [
    {
     "name": "stdout",
     "output_type": "stream",
     "text": [
      "11부터 10까지의 합은 55 입니다.\n"
     ]
    }
   ],
   "source": [
    "n = int(input(\"시작하는 정수 입력\"))\n",
    "m = int(input(\"끝나는 정수 입력\"))\n",
    "\n",
    "i = 0\n",
    "total = 0\n",
    "while i < m:\n",
    "    total += n\n",
    "    n += 1\n",
    "    i += 1\n",
    "print(f'{n}부터 {m}까지의 합은 {total} 입니다.')\n"
   ]
  },
  {
   "cell_type": "code",
   "execution_count": 65,
   "metadata": {},
   "outputs": [
    {
     "name": "stdout",
     "output_type": "stream",
     "text": [
      "4부터 7사이의 짝수 제곱의 합은 52입니다\n"
     ]
    }
   ],
   "source": [
    "n = int(input(\"시작하는 정수 입력\"))\n",
    "m = int(input(\"끝나는 정수 입력\"))\n",
    "total = 0\n",
    "for _ in range(n,m+1):\n",
    "    if _ % 2 == 0:\n",
    "        total += _ ** 2\n",
    "    \n",
    "print(f'{n}부터 {m}사이의 짝수 제곱의 합은 {total}입니다')\n"
   ]
  },
  {
   "cell_type": "code",
   "execution_count": 66,
   "metadata": {},
   "outputs": [
    {
     "name": "stdout",
     "output_type": "stream",
     "text": [
      "79.0\n"
     ]
    }
   ],
   "source": [
    "Kor = [70, 60, 55, 75, 95, 90, 80, 80, 85, 100]\n",
    "\n",
    "tot_kor = 0\n",
    "for _ in range(len(Kor)):\n",
    "    tot_kor += Kor[_]\n",
    "avg_kor = tot_kor / len(Kor)\n",
    "print(avg_kor)"
   ]
  },
  {
   "cell_type": "code",
   "execution_count": 72,
   "metadata": {},
   "outputs": [
    {
     "name": "stdout",
     "output_type": "stream",
     "text": [
      "233168\n"
     ]
    }
   ],
   "source": [
    "number = 1\n",
    "total = 0\n",
    "\n",
    "while number < 1000:\n",
    "    if number % 3 == 0 or number % 5 == 0:\n",
    "        total += number\n",
    "    number += 1\n",
    "print(total)"
   ]
  },
  {
   "cell_type": "code",
   "execution_count": 84,
   "metadata": {},
   "outputs": [
    {
     "name": "stdout",
     "output_type": "stream",
     "text": [
      "실기점수를 입력하세요 [70, 50, 85, 98, 82]\n",
      "98 50\n",
      "이 학생의 평균 점수는 79\n"
     ]
    }
   ],
   "source": [
    "scores = list(map(int,input(\"실기 점수를 입력하세요.\").split(\" \")))\n",
    "\n",
    "max_score = 0\n",
    "min_score = 100\n",
    "total_score = 0\n",
    "\n",
    "for _ in scores:\n",
    "    total_score += _\n",
    "for _ in scores:\n",
    "    if _ > max_score:\n",
    "        max_score = _\n",
    "for _ in scores:\n",
    "    if _ < min_score:\n",
    "        min_score = _\n",
    "avg_score = int((total_score - max_score - min_score) / (len(scores) - 2))\n",
    "print(\"실기점수를 입력하세요\", str(scores))\n",
    "print(max_score, min_score)\n",
    "print(\"이 학생의 평균 점수는\", avg_score)"
   ]
  },
  {
   "cell_type": "code",
   "execution_count": 85,
   "metadata": {},
   "outputs": [
    {
     "name": "stdout",
     "output_type": "stream",
     "text": [
      "[2, 1, 1, 1, 0]\n"
     ]
    }
   ],
   "source": [
    "points = [86, 72, 98, 60, 45]\n",
    "\n",
    "grade_counter = [0, 0, 0, 0, 0]\n",
    "for _ in points:\n",
    "    if _ > 85:\n",
    "        grade_counter[0] += 1\n",
    "    elif _ > 70:\n",
    "        grade_counter[1] += 1\n",
    "    elif _ > 55:\n",
    "        grade_counter[2] += 1\n",
    "    elif _ > 40:\n",
    "        grade_counter[3] += 1\n",
    "    else:\n",
    "        grade_counter[4] += 1\n",
    "print(grade_counter)"
   ]
  },
  {
   "cell_type": "code",
   "execution_count": 91,
   "metadata": {},
   "outputs": [
    {
     "name": "stdout",
     "output_type": "stream",
     "text": [
      "1\t2\tFizz\t4\tBuzz\tFizz\t7\t8\tFizz\tBuzz\t11\tFizz\t13\t14\tFizzBuzz\t16\t17\tFizz\t19\tBuzz\tFizz\t22\t23\tFizz\tBuzz\t26\tFizz\t28\t29\tFizzBuzz\t31\t32\tFizz\t34\tBuzz\tFizz\t37\t38\tFizz\tBuzz\t41\tFizz\t43\t44\tFizzBuzz\t46\t47\tFizz\t49\tBuzz\tFizz\t52\t53\tFizz\tBuzz\t56\tFizz\t58\t59\tFizzBuzz\t61\t62\tFizz\t64\tBuzz\tFizz\t67\t68\tFizz\tBuzz\t71\tFizz\t73\t74\tFizzBuzz\t76\t77\tFizz\t79\tBuzz\tFizz\t82\t83\tFizz\tBuzz\t86\tFizz\t88\t89\tFizzBuzz\t91\t92\tFizz\t94\tBuzz\tFizz\t97\t98\tFizz\tBuzz\t"
     ]
    }
   ],
   "source": [
    "for _ in range(1,101):\n",
    "    if _ % 3 == 0 and _ % 5 ==0:\n",
    "        print(\"FizzBuzz\", end=\"\\t\")\n",
    "    elif _ % 3 == 0:\n",
    "        print(\"Fizz\", end=\"\\t\")\n",
    "    elif _ % 5 == 0:\n",
    "        print(\"Buzz\", end=\"\\t\")\n",
    "    else:\n",
    "        print(_, end=\"\\t\")"
   ]
  },
  {
   "cell_type": "code",
   "execution_count": 92,
   "metadata": {},
   "outputs": [
    {
     "name": "stdout",
     "output_type": "stream",
     "text": [
      "m 또는 h가 이름에 포함된 사람은 3 명 입니다.\n"
     ]
    }
   ],
   "source": [
    "name_list = ['matthew', 'mark', 'luke', 'john', 'paul', 'peter']\n",
    "counts = 0\n",
    "\n",
    "for name in name_list:\n",
    "    if 'm' in name or 'h' in name:\n",
    "        counts += 1\n",
    "print(f'm 또는 h가 이름에 포함된 사람은 {counts} 명 입니다.')"
   ]
  },
  {
   "cell_type": "code",
   "execution_count": 93,
   "metadata": {},
   "outputs": [
    {
     "name": "stdout",
     "output_type": "stream",
     "text": [
      "1번 학생 축하합니다. 합격입니다.\n",
      "3번 학생 축하합니다. 합격입니다.\n",
      "5번 학생 축하합니다. 합격입니다.\n"
     ]
    },
    {
     "ename": "IndexError",
     "evalue": "list index out of range",
     "output_type": "error",
     "traceback": [
      "\u001b[0;31m---------------------------------------------------------------------------\u001b[0m",
      "\u001b[0;31mIndexError\u001b[0m                                Traceback (most recent call last)",
      "\u001b[1;32m/Users/kimminsoo/Desktop/pythonbasic/2주차 복습.ipynb Cell 15\u001b[0m in \u001b[0;36m<cell line: 4>\u001b[0;34m()\u001b[0m\n\u001b[1;32m      <a href='vscode-notebook-cell:/Users/kimminsoo/Desktop/pythonbasic/2%EC%A3%BC%EC%B0%A8%20%EB%B3%B5%EC%8A%B5.ipynb#X23sZmlsZQ%3D%3D?line=2'>3</a>\u001b[0m i \u001b[39m=\u001b[39m \u001b[39m0\u001b[39m\n\u001b[1;32m      <a href='vscode-notebook-cell:/Users/kimminsoo/Desktop/pythonbasic/2%EC%A3%BC%EC%B0%A8%20%EB%B3%B5%EC%8A%B5.ipynb#X23sZmlsZQ%3D%3D?line=3'>4</a>\u001b[0m \u001b[39mwhile\u001b[39;00m i \u001b[39m<\u001b[39m\u001b[39m=\u001b[39m \u001b[39m5\u001b[39m:\n\u001b[0;32m----> <a href='vscode-notebook-cell:/Users/kimminsoo/Desktop/pythonbasic/2%EC%A3%BC%EC%B0%A8%20%EB%B3%B5%EC%8A%B5.ipynb#X23sZmlsZQ%3D%3D?line=4'>5</a>\u001b[0m     \u001b[39mif\u001b[39;00m marks[i] \u001b[39m>\u001b[39m\u001b[39m=\u001b[39m \u001b[39m60\u001b[39m:\n\u001b[1;32m      <a href='vscode-notebook-cell:/Users/kimminsoo/Desktop/pythonbasic/2%EC%A3%BC%EC%B0%A8%20%EB%B3%B5%EC%8A%B5.ipynb#X23sZmlsZQ%3D%3D?line=5'>6</a>\u001b[0m         \u001b[39mprint\u001b[39m(\u001b[39mf\u001b[39m\u001b[39m'\u001b[39m\u001b[39m{\u001b[39;00mi\u001b[39m+\u001b[39m\u001b[39m1\u001b[39m\u001b[39m}\u001b[39;00m\u001b[39m번 학생 축하합니다. 합격입니다.\u001b[39m\u001b[39m'\u001b[39m)\n\u001b[1;32m      <a href='vscode-notebook-cell:/Users/kimminsoo/Desktop/pythonbasic/2%EC%A3%BC%EC%B0%A8%20%EB%B3%B5%EC%8A%B5.ipynb#X23sZmlsZQ%3D%3D?line=6'>7</a>\u001b[0m     i \u001b[39m+\u001b[39m\u001b[39m=\u001b[39m \u001b[39m1\u001b[39m\n",
      "\u001b[0;31mIndexError\u001b[0m: list index out of range"
     ]
    }
   ],
   "source": [
    "marks = [90, 25, 67, 45, 80]\n",
    "\n",
    "i = 0\n",
    "while i <= 5:\n",
    "    if marks[i] >= 60:\n",
    "        print(f'{i+1}번 학생 축하합니다. 합격입니다.')\n",
    "    i += 1\n",
    "print()"
   ]
  },
  {
   "cell_type": "code",
   "execution_count": 96,
   "metadata": {},
   "outputs": [
    {
     "name": "stdout",
     "output_type": "stream",
     "text": [
      "구구단: 9\n",
      "9 * 2 = 18\n",
      "9 * 3 = 27\n",
      "9 * 4 = 36\n",
      "9 * 5 = 45\n",
      "9 * 6 = 54\n",
      "9 * 7 = 63\n",
      "9 * 8 = 72\n",
      "9 * 9 = 81\n"
     ]
    }
   ],
   "source": [
    "number = int(input(\"구구단\"))\n",
    "print(f'구구단: {number}')\n",
    "\n",
    "for i in range(2,10):\n",
    "    print(f'{number} * {i} = {number * i}')"
   ]
  },
  {
   "cell_type": "code",
   "execution_count": 109,
   "metadata": {},
   "outputs": [
    {
     "name": "stdout",
     "output_type": "stream",
     "text": [
      "2 * 1 = 2\t3 * 1 = 3\t4 * 1 = 4\t5 * 1 = 5\t6 * 1 = 6\t7 * 1 = 7\t8 * 1 = 8\t9 * 1 = 9\t\n",
      "2 * 2 = 4\t3 * 2 = 6\t4 * 2 = 8\t5 * 2 = 10\t6 * 2 = 12\t7 * 2 = 14\t8 * 2 = 16\t9 * 2 = 18\t\n",
      "2 * 3 = 6\t3 * 3 = 9\t4 * 3 = 12\t5 * 3 = 15\t6 * 3 = 18\t7 * 3 = 21\t8 * 3 = 24\t9 * 3 = 27\t\n",
      "2 * 4 = 8\t3 * 4 = 12\t4 * 4 = 16\t5 * 4 = 20\t6 * 4 = 24\t7 * 4 = 28\t8 * 4 = 32\t9 * 4 = 36\t\n",
      "2 * 5 = 10\t3 * 5 = 15\t4 * 5 = 20\t5 * 5 = 25\t6 * 5 = 30\t7 * 5 = 35\t8 * 5 = 40\t9 * 5 = 45\t\n",
      "2 * 6 = 12\t3 * 6 = 18\t4 * 6 = 24\t5 * 6 = 30\t6 * 6 = 36\t7 * 6 = 42\t8 * 6 = 48\t9 * 6 = 54\t\n",
      "2 * 7 = 14\t3 * 7 = 21\t4 * 7 = 28\t5 * 7 = 35\t6 * 7 = 42\t7 * 7 = 49\t8 * 7 = 56\t9 * 7 = 63\t\n",
      "2 * 8 = 16\t3 * 8 = 24\t4 * 8 = 32\t5 * 8 = 40\t6 * 8 = 48\t7 * 8 = 56\t8 * 8 = 64\t9 * 8 = 72\t\n",
      "2 * 9 = 18\t3 * 9 = 27\t4 * 9 = 36\t5 * 9 = 45\t6 * 9 = 54\t7 * 9 = 63\t8 * 9 = 72\t9 * 9 = 81\t\n"
     ]
    }
   ],
   "source": [
    "number = 2\n",
    "line = 0\n",
    "for i in range(1,10):\n",
    "    for j in range(2,10):\n",
    "        print(f'{j} * {i} = {j * i}', sep=\"\", end=\"\\t\")\n",
    "    print()"
   ]
  },
  {
   "cell_type": "code",
   "execution_count": 12,
   "metadata": {},
   "outputs": [
    {
     "name": "stdout",
     "output_type": "stream",
     "text": [
      "[0, 2, 1, 2, 1, 4]\n",
      "김태형 후보가 4 표를 얻어 당선되었습니다.\n"
     ]
    }
   ],
   "source": [
    "votes = [2, 5, 3, 4, 1, 5, 1, 5, 5, 3]\n",
    "candidates = [\"\", \"전정국\", \"김남준\", \"박지민\", \"정호석\", \"김태형\"]\n",
    "\n",
    "counter = [0] * 6\n",
    "for _ in votes:\n",
    "    counter[_] += 1\n",
    "print(counter)\n",
    "\n",
    "max = 0\n",
    "i = 0\n",
    "while i < len(candidates):\n",
    "    if counter[i] > max:\n",
    "        max = counter[i]\n",
    "    elected = i\n",
    "    i += 1\n",
    "\n",
    "print(f'{candidates[elected]} 후보가 {counter[elected]} 표를 얻어 당선되었습니다.')"
   ]
  },
  {
   "cell_type": "code",
   "execution_count": 13,
   "metadata": {},
   "outputs": [
    {
     "name": "stdout",
     "output_type": "stream",
     "text": [
      "1 2 3 4 5 6 7 8 9 10 \n",
      "2 3 4 5 6 7 8 9 10 1 \n",
      "3 4 5 6 7 8 9 10 1 2 \n",
      "4 5 6 7 8 9 10 1 2 3 \n",
      "5 6 7 8 9 10 1 2 3 4 \n",
      "6 7 8 9 10 1 2 3 4 5 \n",
      "7 8 9 10 1 2 3 4 5 6 \n",
      "8 9 10 1 2 3 4 5 6 7 \n",
      "9 10 1 2 3 4 5 6 7 8 \n",
      "10 1 2 3 4 5 6 7 8 9 \n"
     ]
    }
   ],
   "source": [
    "number = 0\n",
    "i = 0\n",
    "number = int(input(\"순환할 숫자를 입력하세요.\"))\n",
    "while i < number:\n",
    "    j = 0\n",
    "    while j < number:\n",
    "        print((i + j) % number + 1, end=\" \")\n",
    "        j += 1\n",
    "    print()\n",
    "    i += 1"
   ]
  }
 ],
 "metadata": {
  "kernelspec": {
   "display_name": "base",
   "language": "python",
   "name": "python3"
  },
  "language_info": {
   "codemirror_mode": {
    "name": "ipython",
    "version": 3
   },
   "file_extension": ".py",
   "mimetype": "text/x-python",
   "name": "python",
   "nbconvert_exporter": "python",
   "pygments_lexer": "ipython3",
   "version": "3.9.13"
  },
  "orig_nbformat": 4,
  "vscode": {
   "interpreter": {
    "hash": "29022363fef606f9f23df6f4a22f2b4728bceb42fab3e5e3f1a324182233d5f0"
   }
  }
 },
 "nbformat": 4,
 "nbformat_minor": 2
}
