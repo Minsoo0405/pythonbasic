{
 "cells": [
  {
   "cell_type": "code",
   "execution_count": 2,
   "metadata": {},
   "outputs": [
    {
     "name": "stdout",
     "output_type": "stream",
     "text": [
      "[1, 2, 2, 2, 1, 2, 2, 1, 2, 1]\n"
     ]
    }
   ],
   "source": [
    "import random\n",
    "random_list = [random.randint(1, 2) for _ in range(10)]\n",
    "print(random_list)"
   ]
  },
  {
   "cell_type": "code",
   "execution_count": 49,
   "metadata": {},
   "outputs": [
    {
     "name": "stdout",
     "output_type": "stream",
     "text": [
      "[2, 16, 22, 31, 40, 41]\n",
      "[1, 10, 20, 26, 29, 45]\n",
      "[1, 6, 9, 16, 21, 33]\n",
      "[9, 10, 26, 31, 37, 40]\n",
      "[15, 16, 21, 24, 30, 39]\n"
     ]
    }
   ],
   "source": [
    "# 번호를 하나씩 랜덤하게 뽑으면서 중복이 생기지 않을 때 리스트에 추가함. 그리고 리스트 요소의 갯수가 6개이면, 새로운 리스트 만들기. \n",
    "count = int(input(\"로또 번호 몇 개 드릴까요?\"))\n",
    "\n",
    "for _ in range(count):\n",
    "    lotto_numbers = []\n",
    "    while len(lotto_numbers) < 6:\n",
    "        lotto_number = random.randint(1,45)\n",
    "        if lotto_number not in lotto_numbers:\n",
    "            lotto_numbers.append(lotto_number)\n",
    "    lotto_numbers.sort()\n",
    "    print(lotto_numbers)\n"
   ]
  },
  {
   "cell_type": "code",
   "execution_count": 50,
   "metadata": {},
   "outputs": [
    {
     "name": "stdout",
     "output_type": "stream",
     "text": [
      "[8, 10, 12, 20, 24, 44]\n",
      "[6, 14, 15, 17, 33, 38]\n",
      "[7, 12, 17, 19, 41, 45]\n",
      "[2, 10, 14, 26, 31, 37]\n",
      "[6, 9, 12, 20, 22, 39]\n"
     ]
    }
   ],
   "source": [
    "# 1~45개의 로또번호를 한번씩 뽑으면서 다시 넣지 않고 리스트에 입력\n",
    "count = int(input(\"로또 번호 몇 개 드릴까요?\"))\n",
    "for i in range(count):\n",
    "    lotto = [j for j in range(1, 46)]\n",
    "    lotto_numbers = []\n",
    "    for _ in range(6):\n",
    "        lotto_number = lotto[random.randint(1, len(lotto) - 1)]\n",
    "        lotto_numbers.append(lotto_number)\n",
    "        lotto.remove(lotto_number)\n",
    "        lotto_numbers.sort()\n",
    "    print(lotto_numbers)\n"
   ]
  },
  {
   "cell_type": "code",
   "execution_count": null,
   "metadata": {},
   "outputs": [],
   "source": [
    "random_num = int(input(\"로또 번호 몇 개 드릴까요?\"))\n",
    "random_list = [random.randint(1,45) for _ in range(6)]\n",
    "\n",
    "i = 0\n",
    "line = 0\n",
    "while line < random_num:\n",
    "    line += 1\n",
    "    print(random_list)\n",
    "    while i < random_num:\n",
    "        if random_list[i] == random_list[i+1]:\n",
    "            del random_list[i+1]\n",
    "        i += 1\n",
    "print()\n"
   ]
  },
  {
   "attachments": {},
   "cell_type": "markdown",
   "metadata": {},
   "source": [
    "    # 세트 자료형(set)\n",
    "        1. 딕셔너리 key처럼 중복되는 값을 갖지 않는다. \n",
    "        2. 중괄호{}를 사용함. - 빈 세트는 set()함수로 사용하고 빈 중괄호{}는 딕셔너리로 처리됨\n",
    "        3. 세트 컴프리헨션 - {expression for 변수 in iterable if 조건식}\n",
    "        4. 세트에 값을 넣는 방법 - add(요소)매서드는 한 번에 한나의 값만 넣을 수 있음.\n",
    "        5. 세트에 요소 삭제 - .remove(요소) - .discard(요소)\n",
    "        6. 세트에 요소 임의 삭제 - .pop : 임의로 선택하고(순서를 보장하지않고) 반환한 뒤 삭제. 더 이상 삭제할 요소가 없다면 KeyError 발생.\n",
    "        7. 세트에 전체 삭제 - .clear\n",
    "        8. 세트에 요소개수(크기) 구하기 - len()\n",
    "        9. 세트 합집합 : .union() 또는 Vertical bar(|)\n",
    "        10. 세트 교집합 : .intersection() 또는 &\n",
    "        11. 세트 차집합 : .difference() 또는 -\n",
    "        12. 세트 대칭차집합 : .symmetric_difference() 혹은 ^\n",
    "        13. 세트 한 집합에 대입: .update() 또는 /=\n",
    "        14. 세트 교집합을 한 집합에 대입: .intersection_update() 또는 &=\n",
    "        15. set.dfference_update() 또는 -=\n",
    "        16. symmetric_difference)update() 또는 ^=\n",
    "        17. 부분집합 : .issubset\n",
    "        18. 상위집합 : .issuperset()\n",
    "        18. 진부분집합, 진상위집합 : > , <\n",
    "        20. 같을 때 : ==\n",
    "        21. 겹치지 않을 때 : isdisjoint()"
   ]
  },
  {
   "cell_type": "code",
   "execution_count": 52,
   "metadata": {},
   "outputs": [
    {
     "name": "stdout",
     "output_type": "stream",
     "text": [
      "{1}\n"
     ]
    }
   ],
   "source": [
    "set_variable = set()\n",
    "{set_variable.add(1) for _ in range(5)}\n",
    "print(set_variable)"
   ]
  },
  {
   "cell_type": "code",
   "execution_count": null,
   "metadata": {},
   "outputs": [],
   "source": [
    "set_variable = {1,2,3,4,5,6,7}\n",
    "set_variable.remove{'없는값'}\n",
    "set_variable.discard{'없는값'}"
   ]
  },
  {
   "cell_type": "code",
   "execution_count": 54,
   "metadata": {},
   "outputs": [
    {
     "name": "stdout",
     "output_type": "stream",
     "text": [
      "A:  {1, 2, 3, 4} \n",
      "B:  {2, 4, 5}\n",
      "A|B:  {1, 2, 3, 4, 5}\n"
     ]
    }
   ],
   "source": [
    "A = {_ for _ in range(1,5)}\n",
    "B = {_ for _ in range(2,6) if _ !=3}\n",
    "print(\"A: \", A, \"\\nB: \", B)\n",
    "print(\"A|B: \", set.union(A,B))\n"
   ]
  },
  {
   "cell_type": "code",
   "execution_count": 55,
   "metadata": {},
   "outputs": [
    {
     "name": "stdout",
     "output_type": "stream",
     "text": [
      "A:  {1, 2, 3, 4} \n",
      "B:  {2, 4, 5}\n",
      "A|B:  {1, 3}\n"
     ]
    }
   ],
   "source": [
    "A = {_ for _ in range(1,5)}\n",
    "B = {_ for _ in range(2,6) if _ !=3}\n",
    "print(\"A: \", A, \"\\nB: \", B)\n",
    "print(\"A|B: \", set.difference(A,B))\n"
   ]
  },
  {
   "cell_type": "code",
   "execution_count": null,
   "metadata": {},
   "outputs": [],
   "source": [
    "A = {_ for _ in range(0,3)}\n",
    "B = {_ for _ in range(0,3)}"
   ]
  },
  {
   "cell_type": "code",
   "execution_count": 77,
   "metadata": {},
   "outputs": [
    {
     "name": "stdout",
     "output_type": "stream",
     "text": [
      "[2, 4, 8, 14, 18, 29]\n"
     ]
    }
   ],
   "source": [
    "import random\n",
    "\n",
    "counts = int(input(\"로또 번호를 몇 개 드릴까요?\"))\n",
    "lotto = set()\n",
    "line = 0\n",
    "\n",
    "# 6개를 랜덤하게 숫자를 뽑음.\n",
    "while len(lotto) != 6:\n",
    "    lotto = {random.randint(1,45) for _ in range(6)}\n",
    "# set은 순서를 가지고 있지 않으므로 list로 변환 후, 숫자 순서대로 정렬\n",
    "result = list(lotto)\n",
    "result.sort()\n",
    "print(result)\n",
    "\n"
   ]
  },
  {
   "cell_type": "code",
   "execution_count": 71,
   "metadata": {},
   "outputs": [
    {
     "name": "stdout",
     "output_type": "stream",
     "text": [
      "{1, 2, 3, 4}\n"
     ]
    }
   ],
   "source": [
    "list_sample = [1,2,2,3,3,3,4,4,4,4]\n",
    "print(set(list_sample))"
   ]
  },
  {
   "cell_type": "code",
   "execution_count": 76,
   "metadata": {},
   "outputs": [
    {
     "name": "stdout",
     "output_type": "stream",
     "text": [
      "{3, 6, 9, 12, 15, 18, 21, 24, 27, 30, 33, 36, 39, 42, 45, 48, 51, 54, 57, 60, 63, 66, 69, 72, 75, 78, 81, 84, 87, 90, 93, 96, 99}\n",
      "{5, 10, 15, 20, 25, 30, 35, 40, 45, 50, 55, 60, 65, 70, 75, 80, 85, 90, 95, 100}\n",
      "{75, 45, 15, 90, 60, 30}\n"
     ]
    }
   ],
   "source": [
    "set_3 = set(_ for _ in range(1,101) if _ % 3 == 0)\n",
    "set_5 = set(_ for _ in range(1,101) if _ % 5 == 0)\n",
    "\n",
    "result_set = set_3 & set_5\n",
    "\n",
    "print(set_3)\n",
    "print(set_5)\n",
    "print(result_set)"
   ]
  },
  {
   "attachments": {},
   "cell_type": "markdown",
   "metadata": {},
   "source": [
    "### .sort() VS sorted \n",
    "    1. .sort() : 변수를 영구적으로 오름차순으로 정렬해준다.\n",
    "    2. sorted : 변수를 일시적으로 오름차순으로 정렬해준다."
   ]
  },
  {
   "cell_type": "code",
   "execution_count": 105,
   "metadata": {},
   "outputs": [
    {
     "name": "stdout",
     "output_type": "stream",
     "text": [
      "['개인정보 조회', '구매 관리', '근태 관리', '시스템 관리', '인사 관리', '회계 관리']\n"
     ]
    }
   ],
   "source": [
    "role_admin = (\"회계 관리\", \"인사 관리\", \"구매 관리\", \"시스템 관리\")\n",
    "role_hr = (\"인사 관리\", \"개인정보 조회\", \"회계 관리\", \"근태 관리\")\n",
    "role_user = (\"개인정보 조회\", \"근태 관리\")\n",
    "\n",
    "role_total = set(role_admin + role_hr + role_user)\n",
    "role_list = sorted(list(role_total))                    # 리스트로 만든 후 .sort()를 진행해주면 오름차순으로 정렬됨.\n",
    "print(role_list)"
   ]
  },
  {
   "cell_type": "code",
   "execution_count": 106,
   "metadata": {},
   "outputs": [
    {
     "name": "stdout",
     "output_type": "stream",
     "text": [
      "['개인정보 조회', '구매 관리', '근태 관리', '시스템 관리', '인사 관리', '회계 관리']\n"
     ]
    }
   ],
   "source": [
    "role_admin = (\"회계 관리\", \"인사 관리\", \"구매 관리\", \"시스템 관리\")\n",
    "role_hr = (\"인사 관리\", \"개인정보 조회\", \"회계 관리\", \"근태 관리\")\n",
    "role_user = (\"개인정보 조회\", \"근태 관리\")\n",
    "\n",
    "role_total = set(role_admin + role_hr + role_user)\n",
    "role_list = list(role_total)\n",
    "role_list.sort()\n",
    "print(role_list)"
   ]
  },
  {
   "cell_type": "code",
   "execution_count": null,
   "metadata": {},
   "outputs": [],
   "source": [
    "number = int(input(\"2부터 입력하신 수까지의 모든 소수를 찾는 프로그램입니다. 찾는범위를 입력하세요.\"))\n",
    "set_number = {}\n",
    "\n",
    "for i in range(2,number+1):\n",
    "    for j in range(i,number+1):\n",
    "        if i % j == 0:\n",
    "            print(i)"
   ]
  },
  {
   "cell_type": "code",
   "execution_count": 166,
   "metadata": {},
   "outputs": [
    {
     "name": "stdout",
     "output_type": "stream",
     "text": [
      "2 3 5 7 \n",
      "11 13 \n",
      "17 19 \n",
      "23 29 \n",
      "31 \n",
      "37 41 43 \n",
      "47 \n",
      "53 \n",
      "59 61 \n",
      "67 71 \n",
      "73 \n",
      "79 83 \n",
      "89 \n",
      "97 \n"
     ]
    }
   ],
   "source": [
    "number = int(input(\"2부터 입력하신 수까지의 모든 소수를 찾는 프로그램입니다. 찾는범위를 입력하세요.\"))\n",
    "\n",
    "a = 1\n",
    "b = 0\n",
    "line = 0\n",
    "\n",
    "for i in range(2,number+1):\n",
    "    while a < i:\n",
    "        if i % a == 0:\n",
    "            b += 1\n",
    "        a += 1\n",
    "    if b == 1:\n",
    "        print(i, end=\" \")\n",
    "    a = 1\n",
    "    b = 0\n",
    "    line = line + 1\n",
    "    if line == 7:\n",
    "        line = 0   \n",
    "        print()"
   ]
  },
  {
   "attachments": {},
   "cell_type": "markdown",
   "metadata": {},
   "source": [
    "# 함수(fuction)\n",
    "        * 인수 : argument / 인자 : parameter\n",
    "    1. def 함수명(인자, 인자, ...):\n",
    "            함수 코드...\n",
    "            return 반환값\n",
    "    2. 함수가 정의된 곳에 입력한 인수(argument)를 인자(parameter)를 대입하여 반환함\n",
    "    3. 한번 정의해두고 필요할 때마다 재사용할 수 있음.\n",
    "    4. 코드의 중복을 줄일 수 있어서 유지보수에 좋음.\n",
    "    5. 함수는 클래스에 포함되지 않은 채로 사용이 되고, 메서드는 클래스에 포함되어 객체를 통해 호출이 됨.\n",
    "    6. Doc String : \"\"\"    \"\"\"\n",
    "    7. 인자(parameter) : 함수 정의에서 함수가 받을 수 있는 변수./ 매개변수라고도 부름.\n",
    "        7.1. 위치-키워드 : 위치 순서대로 인수를 보내거나 키워드에 맞게 인수를 보내는것.\n",
    "        7.2. 위치 전용 : / 를 기준으로 함수에 인수를 보낼때 위치대로 작성해야함. \n",
    "        7.3. 키워드 전용 : *를 기준으로 함수에 인수를 보낼때 키워드에 맞게 작성해야함. 키워드만 순서가 상관없다.\n",
    "        7.4. 가변 위치\n",
    "        7.5. 가변 키워드"
   ]
  },
  {
   "cell_type": "code",
   "execution_count": null,
   "metadata": {},
   "outputs": [],
   "source": [
    "# 함수 정의절\n",
    "def function_name(positional1, positional2, *args, keyword=1, **kargs)\n",
    "                  # 위치전용        위치전용              키워드      \n",
    "    pass # body"
   ]
  },
  {
   "cell_type": "code",
   "execution_count": 167,
   "metadata": {},
   "outputs": [],
   "source": [
    "def function():\n",
    "    \"\"\"\n",
    "    Doc String 부분입니다.\n",
    "    이곳에 함수의 설명에 대해 적어놓으면 좋습니다.\n",
    "    \"\"\"\n",
    "    pass"
   ]
  },
  {
   "cell_type": "code",
   "execution_count": 170,
   "metadata": {},
   "outputs": [
    {
     "name": "stdout",
     "output_type": "stream",
     "text": [
      "\n",
      "    Doc String 부분입니다.\n",
      "    이곳에 함수의 설명에 대해 적어놓으면 좋습니다.\n",
      "    \n"
     ]
    }
   ],
   "source": [
    "print(function.__doc__)"
   ]
  },
  {
   "cell_type": "code",
   "execution_count": 171,
   "metadata": {},
   "outputs": [
    {
     "name": "stdout",
     "output_type": "stream",
     "text": [
      "Built-in mutable sequence.\n",
      "\n",
      "If no argument is given, the constructor creates a new empty list.\n",
      "The argument must be an iterable if specified.\n"
     ]
    }
   ],
   "source": [
    "print(list.__doc__)"
   ]
  },
  {
   "cell_type": "code",
   "execution_count": 181,
   "metadata": {},
   "outputs": [],
   "source": [
    "# 함수 정의절\n",
    "# 인자(parameter)\n",
    "# name=\"김민수\" 입력해보기, 순서 바꿔보기 \n",
    "def get_grade(score, name, student_number):\n",
    "    \"\"\"\n",
    "    숫자로된 점수를 넣으시면 학점의 결과를 반환합니다.\n",
    "    \"\"\"\n",
    "    print(f'{student_number}, {name}의 성적을 확인합니다.')\n",
    "    if 85 <= score <= 100:\n",
    "        return \"A\"\n",
    "    elif 70 <= score <= 84:\n",
    "        return \"B\"\n",
    "    elif 55 <= score <= 69:\n",
    "        return \"C\"\n",
    "    elif 40 <= score <= 54:\n",
    "        return \"D\"\n",
    "    elif 0 <= score <= 39:\n",
    "        return \"E\""
   ]
  },
  {
   "cell_type": "code",
   "execution_count": 180,
   "metadata": {},
   "outputs": [
    {
     "name": "stdout",
     "output_type": "stream",
     "text": [
      "\n",
      "    숫자로된 점수를 넣으시면 학점의 결과를 반환합니다.\n",
      "    \n"
     ]
    }
   ],
   "source": [
    "print(get_grade.__doc__)"
   ]
  },
  {
   "cell_type": "code",
   "execution_count": 174,
   "metadata": {},
   "outputs": [
    {
     "name": "stdout",
     "output_type": "stream",
     "text": [
      "A\n"
     ]
    }
   ],
   "source": [
    "result = get_grade(100) # get_grade(100)이 함수를 통해 \"A\"를 반환\n",
    "print(result)"
   ]
  },
  {
   "cell_type": "code",
   "execution_count": 177,
   "metadata": {},
   "outputs": [
    {
     "name": "stdout",
     "output_type": "stream",
     "text": [
      "[57, 91, 11, 2, 17, 26, 83, 38, 39, 52, 14, 93, 77, 51, 100, 45, 11, 40, 62, 69]\n"
     ]
    }
   ],
   "source": [
    "import random\n",
    "\n",
    "# 20명의 점수를 입력했다.\n",
    "scores = [random.randint(1,100) for _ in range(20)]\n",
    "print(scores)"
   ]
  },
  {
   "cell_type": "code",
   "execution_count": 178,
   "metadata": {},
   "outputs": [
    {
     "name": "stdout",
     "output_type": "stream",
     "text": [
      "['C', 'A', 'E', 'E', 'E', 'E', 'B', 'E', 'E', 'D', 'E', 'A', 'B', 'D', 'A', 'D', 'E', 'D', 'C', 'C']\n"
     ]
    }
   ],
   "source": [
    "# 20명의 점수를 함수에 입력하여 하나씩 리스트로 만든다.\n",
    "grades = list(map(get_grade, scores))\n",
    "print(grades)"
   ]
  },
  {
   "cell_type": "code",
   "execution_count": 184,
   "metadata": {},
   "outputs": [
    {
     "name": "stdout",
     "output_type": "stream",
     "text": [
      "1413002, 김민수의 성적을 확인합니다.\n",
      "1413002, 100의 성적을 확인합니다.\n"
     ]
    },
    {
     "ename": "TypeError",
     "evalue": "'<=' not supported between instances of 'int' and 'str'",
     "output_type": "error",
     "traceback": [
      "\u001b[0;31m---------------------------------------------------------------------------\u001b[0m",
      "\u001b[0;31mTypeError\u001b[0m                                 Traceback (most recent call last)",
      "Cell \u001b[0;32mIn [184], line 2\u001b[0m\n\u001b[1;32m      1\u001b[0m get_grade(\u001b[39m100\u001b[39m,\u001b[39m\"\u001b[39m\u001b[39m김민수\u001b[39m\u001b[39m\"\u001b[39m,\u001b[39m\"\u001b[39m\u001b[39m1413002\u001b[39m\u001b[39m\"\u001b[39m)\n\u001b[0;32m----> 2\u001b[0m get_grade(\u001b[39m\"\u001b[39;49m\u001b[39m김민수\u001b[39;49m\u001b[39m\"\u001b[39;49m,\u001b[39m100\u001b[39;49m,\u001b[39m\"\u001b[39;49m\u001b[39m1413002\u001b[39;49m\u001b[39m\"\u001b[39;49m)\n\u001b[1;32m      3\u001b[0m get_grade(\u001b[39m100\u001b[39m,\u001b[39m\"\u001b[39m\u001b[39m1413002\u001b[39m\u001b[39m\"\u001b[39m)\n",
      "Cell \u001b[0;32mIn [181], line 7\u001b[0m, in \u001b[0;36mget_grade\u001b[0;34m(score, name, student_number)\u001b[0m\n\u001b[1;32m      3\u001b[0m \u001b[39m\"\"\"\u001b[39;00m\n\u001b[1;32m      4\u001b[0m \u001b[39m숫자로된 점수를 넣으시면 학점의 결과를 반환합니다.\u001b[39;00m\n\u001b[1;32m      5\u001b[0m \u001b[39m\"\"\"\u001b[39;00m\n\u001b[1;32m      6\u001b[0m \u001b[39mprint\u001b[39m(\u001b[39mf\u001b[39m\u001b[39m'\u001b[39m\u001b[39m{\u001b[39;00mstudent_number\u001b[39m}\u001b[39;00m\u001b[39m, \u001b[39m\u001b[39m{\u001b[39;00mname\u001b[39m}\u001b[39;00m\u001b[39m의 성적을 확인합니다.\u001b[39m\u001b[39m'\u001b[39m)\n\u001b[0;32m----> 7\u001b[0m \u001b[39mif\u001b[39;00m \u001b[39m85\u001b[39m \u001b[39m<\u001b[39m\u001b[39m=\u001b[39m score \u001b[39m<\u001b[39m\u001b[39m=\u001b[39m \u001b[39m100\u001b[39m:\n\u001b[1;32m      8\u001b[0m     \u001b[39mreturn\u001b[39;00m \u001b[39m\"\u001b[39m\u001b[39mA\u001b[39m\u001b[39m\"\u001b[39m\n\u001b[1;32m      9\u001b[0m \u001b[39melif\u001b[39;00m \u001b[39m70\u001b[39m \u001b[39m<\u001b[39m\u001b[39m=\u001b[39m score \u001b[39m<\u001b[39m\u001b[39m=\u001b[39m \u001b[39m84\u001b[39m:\n",
      "\u001b[0;31mTypeError\u001b[0m: '<=' not supported between instances of 'int' and 'str'"
     ]
    }
   ],
   "source": [
    "# 함수 호출\n",
    "# 인수(argument)\n",
    "# 순서 바꿔보기, name=\"김민수\" 입력해보기\n",
    "get_grade(100,\"김민수\",\"1413002\")\n",
    "get_grade(\"김민수\",100,\"1413002\")\n",
    "get_grade(100,\"1413002\")"
   ]
  },
  {
   "cell_type": "code",
   "execution_count": 189,
   "metadata": {},
   "outputs": [],
   "source": [
    "# 함수 정의절\n",
    "# 인자(매개변수, parameter) - non-defualt, deault 종류\n",
    "# positional-only : /문자를 기준으로 왼편에 온다.\n",
    "def add_number(number1, number2, *):\n",
    "    \"\"\"\n",
    "    숫자 number1과 숫자 number2를 전달받아 더한 결과를 반환합니다.\n",
    "    \"\"\"\n",
    "    return number1 + number2"
   ]
  },
  {
   "cell_type": "code",
   "execution_count": 186,
   "metadata": {},
   "outputs": [
    {
     "name": "stdout",
     "output_type": "stream",
     "text": [
      "\n",
      "    숫자 number1과 숫자 number2를 전달받아 더한 결과를 반환합니다.\n",
      "    \n"
     ]
    }
   ],
   "source": [
    "print(add_number.__doc__)"
   ]
  },
  {
   "cell_type": "code",
   "execution_count": 195,
   "metadata": {},
   "outputs": [
    {
     "ename": "NameError",
     "evalue": "name 'number1' is not defined",
     "output_type": "error",
     "traceback": [
      "\u001b[0;31m---------------------------------------------------------------------------\u001b[0m",
      "\u001b[0;31mNameError\u001b[0m                                 Traceback (most recent call last)",
      "Cell \u001b[0;32mIn [195], line 2\u001b[0m\n\u001b[1;32m      1\u001b[0m \u001b[39m# 인수(argument) - positional argument, keyword argument\u001b[39;00m\n\u001b[0;32m----> 2\u001b[0m result \u001b[39m=\u001b[39m add_number(number1, number2 \u001b[39m=\u001b[39m \u001b[39m3\u001b[39m) \u001b[39m# 소괄호 --> call\u001b[39;00m\n\u001b[1;32m      3\u001b[0m \u001b[39mprint\u001b[39m(result)\n",
      "\u001b[0;31mNameError\u001b[0m: name 'number1' is not defined"
     ]
    }
   ],
   "source": [
    "# 인수(argument) - positional argument, keyword argument\n",
    "result = add_number(number1, number2 = 3) # 소괄호 --> call\n",
    "print(result)"
   ]
  },
  {
   "cell_type": "code",
   "execution_count": 199,
   "metadata": {},
   "outputs": [],
   "source": [
    "# 함수 정의절\n",
    "# 인자(매개변수, parameter) - non-defualt, deault 종류\n",
    "# keyword-only : *문자를 기준으로 키워드에 맞게 작성\n",
    "def minus_number(*, number1=2, number2=1):\n",
    "    \"\"\"\n",
    "    숫자 number1과 숫자 number2를 전달받아 더한 결과를 반환합니다.\n",
    "    \"\"\"\n",
    "    return number1 + number2"
   ]
  },
  {
   "cell_type": "code",
   "execution_count": 201,
   "metadata": {},
   "outputs": [
    {
     "ename": "NameError",
     "evalue": "name 'number1' is not defined",
     "output_type": "error",
     "traceback": [
      "\u001b[0;31m---------------------------------------------------------------------------\u001b[0m",
      "\u001b[0;31mNameError\u001b[0m                                 Traceback (most recent call last)",
      "Cell \u001b[0;32mIn [201], line 2\u001b[0m\n\u001b[1;32m      1\u001b[0m \u001b[39m# 인수(argument) - positional argument, keyword argument\u001b[39;00m\n\u001b[0;32m----> 2\u001b[0m result \u001b[39m=\u001b[39m minus_number(number1, number2) \u001b[39m# 소괄호 --> call\u001b[39;00m\n\u001b[1;32m      3\u001b[0m \u001b[39mprint\u001b[39m(result)\n",
      "\u001b[0;31mNameError\u001b[0m: name 'number1' is not defined"
     ]
    }
   ],
   "source": [
    "# 인수(argument) - positional argument, keyword argument\n",
    "result = minus_number(number1, number2) # 소괄호 --> call\n",
    "print(result)"
   ]
  },
  {
   "cell_type": "code",
   "execution_count": 202,
   "metadata": {},
   "outputs": [],
   "source": [
    "def string_line(str_value, /, str_len=70, *, sep=\"#\"):\n",
    "    \"\"\"\n",
    "    str_value는 가운데 오는 텍스트입니다.\n",
    "    str_len은 텍스트의 설정할 길이입니다.\n",
    "    sep는 구분선을 그을때 쓰는 문자입니다.\n",
    "    \"\"\"\n",
    "    print(str_value.center(str_len, sep))"
   ]
  },
  {
   "cell_type": "code",
   "execution_count": 203,
   "metadata": {},
   "outputs": [
    {
     "name": "stdout",
     "output_type": "stream",
     "text": [
      "************************구분************************\n"
     ]
    }
   ],
   "source": [
    "string_line(\"구분\", 50, sep=\"*\")"
   ]
  },
  {
   "cell_type": "code",
   "execution_count": 204,
   "metadata": {},
   "outputs": [
    {
     "data": {
      "text/plain": [
       "50"
      ]
     },
     "execution_count": 204,
     "metadata": {},
     "output_type": "execute_result"
    }
   ],
   "source": [
    "len(\"************************구분************************\")"
   ]
  },
  {
   "cell_type": "code",
   "execution_count": 205,
   "metadata": {},
   "outputs": [
    {
     "name": "stdout",
     "output_type": "stream",
     "text": [
      "------------------------------------------------절취선-------------------------------------------------\n"
     ]
    }
   ],
   "source": [
    "string_line(\"절취선\", str_len=100, sep=\"-\")"
   ]
  },
  {
   "cell_type": "code",
   "execution_count": 207,
   "metadata": {},
   "outputs": [
    {
     "data": {
      "text/plain": [
       "100"
      ]
     },
     "execution_count": 207,
     "metadata": {},
     "output_type": "execute_result"
    }
   ],
   "source": [
    "len('------------------------------------------------절취선-------------------------------------------------')"
   ]
  },
  {
   "cell_type": "code",
   "execution_count": 208,
   "metadata": {},
   "outputs": [],
   "source": [
    "# *argu: var positional 가변위치\n",
    "# c와 *argu를 자리 바꿔보기\n",
    "def test_func(a, b, c, *args, ):\n",
    "    print(f'a: {a} b: {b} c: {c}')\n",
    "    print(type(args))\n",
    "    print(args)"
   ]
  },
  {
   "cell_type": "code",
   "execution_count": 210,
   "metadata": {},
   "outputs": [
    {
     "name": "stdout",
     "output_type": "stream",
     "text": [
      "a: a 위치입니다. b: b 위치입니다. c: c 위치입니다.\n",
      "<class 'tuple'>\n",
      "('여기는', '어딜까요?', '몇 개', '더')\n"
     ]
    }
   ],
   "source": [
    "test_func(\"a 위치입니다.\", \"b 위치입니다.\", \"c 위치입니다.\", \"여기는\", \"어딜까요?\", \"몇 개\", \"더\")"
   ]
  },
  {
   "cell_type": "code",
   "execution_count": 212,
   "metadata": {},
   "outputs": [],
   "source": [
    "# **kargu: var keyword 가변키워드``\n",
    "def test_func2(a=\"a\", b=\"b\", **kargs):\n",
    "    print(a, b)\n",
    "    print(type(kargs))\n",
    "    print(kargs)"
   ]
  },
  {
   "cell_type": "code",
   "execution_count": 213,
   "metadata": {},
   "outputs": [
    {
     "name": "stdout",
     "output_type": "stream",
     "text": [
      "ab bc\n",
      "<class 'dict'>\n",
      "{'key': 'value', 'key2': 'value2'}\n"
     ]
    }
   ],
   "source": [
    "test_func2(a = \"ab\", b = \"bc\", key=\"value\", key2=\"value2\")"
   ]
  },
  {
   "cell_type": "code",
   "execution_count": 214,
   "metadata": {},
   "outputs": [],
   "source": [
    "def plus_ten(a):\n",
    "    \"\"\"\n",
    "    각 입력받은 정수를 10씩 더해서 반환하는 함수\n",
    "    \"\"\"\n",
    "    print(a + 10)"
   ]
  },
  {
   "cell_type": "code",
   "execution_count": 216,
   "metadata": {},
   "outputs": [
    {
     "name": "stdout",
     "output_type": "stream",
     "text": [
      "80\n"
     ]
    }
   ],
   "source": [
    "plus_ten(70)"
   ]
  }
 ],
 "metadata": {
  "kernelspec": {
   "display_name": "Python 3",
   "language": "python",
   "name": "python3"
  },
  "language_info": {
   "codemirror_mode": {
    "name": "ipython",
    "version": 3
   },
   "file_extension": ".py",
   "mimetype": "text/x-python",
   "name": "python",
   "nbconvert_exporter": "python",
   "pygments_lexer": "ipython3",
   "version": "3.9.6 (default, Oct 18 2022, 12:41:40) \n[Clang 14.0.0 (clang-1400.0.29.202)]"
  },
  "orig_nbformat": 4,
  "vscode": {
   "interpreter": {
    "hash": "31f2aee4e71d21fbe5cf8b01ff0e069b9275f58929596ceb00d14d90e3e16cd6"
   }
  }
 },
 "nbformat": 4,
 "nbformat_minor": 2
}
