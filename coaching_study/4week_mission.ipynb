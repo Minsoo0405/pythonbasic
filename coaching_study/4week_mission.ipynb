{
 "cells": [
  {
   "cell_type": "code",
   "execution_count": 1,
   "metadata": {},
   "outputs": [],
   "source": [
    "import pandas as pd\n",
    "import numpy as np\n",
    "import seaborn as sns\n",
    "import matplotlib.pyplot as plt\n",
    "\n",
    "# 한글폰트 사용을 위해 설치\n",
    "# 아래 모듈을 설치하고 불러오면 별도의 한글폰트 설정이 필요 없습니다.\n",
    "# !pip install koreanize-matplotlib\n",
    "\n",
    "import koreanize_matplotlib\n",
    "\n",
    "df = pd.read_csv(\n",
    "    \"https://raw.githubusercontent.com/corazzon/boostcourse-ds-510/master/data/online_oversea_sale_202210.csv.zip\", \n",
    "    encoding=\"cp949\")"
   ]
  },
  {
   "cell_type": "code",
   "execution_count": 2,
   "metadata": {},
   "outputs": [
    {
     "data": {
      "text/html": [
       "<div>\n",
       "<style scoped>\n",
       "    .dataframe tbody tr th:only-of-type {\n",
       "        vertical-align: middle;\n",
       "    }\n",
       "\n",
       "    .dataframe tbody tr th {\n",
       "        vertical-align: top;\n",
       "    }\n",
       "\n",
       "    .dataframe thead th {\n",
       "        text-align: right;\n",
       "    }\n",
       "</style>\n",
       "<table border=\"1\" class=\"dataframe\">\n",
       "  <thead>\n",
       "    <tr style=\"text-align: right;\">\n",
       "      <th></th>\n",
       "      <th>국가(대륙)별</th>\n",
       "      <th>상품군별</th>\n",
       "      <th>판매유형별</th>\n",
       "      <th>시점</th>\n",
       "      <th>데이터</th>\n",
       "    </tr>\n",
       "  </thead>\n",
       "  <tbody>\n",
       "    <tr>\n",
       "      <th>0</th>\n",
       "      <td>미국</td>\n",
       "      <td>컴퓨터 및 주변기기</td>\n",
       "      <td>면세점 이외</td>\n",
       "      <td>2017.1/4</td>\n",
       "      <td>1054</td>\n",
       "    </tr>\n",
       "    <tr>\n",
       "      <th>1</th>\n",
       "      <td>미국</td>\n",
       "      <td>컴퓨터 및 주변기기</td>\n",
       "      <td>면세점 이외</td>\n",
       "      <td>2017.2/4</td>\n",
       "      <td>946</td>\n",
       "    </tr>\n",
       "    <tr>\n",
       "      <th>2</th>\n",
       "      <td>미국</td>\n",
       "      <td>컴퓨터 및 주변기기</td>\n",
       "      <td>면세점 이외</td>\n",
       "      <td>2017.3/4</td>\n",
       "      <td>791</td>\n",
       "    </tr>\n",
       "    <tr>\n",
       "      <th>3</th>\n",
       "      <td>미국</td>\n",
       "      <td>컴퓨터 및 주변기기</td>\n",
       "      <td>면세점 이외</td>\n",
       "      <td>2017.4/4</td>\n",
       "      <td>854</td>\n",
       "    </tr>\n",
       "    <tr>\n",
       "      <th>4</th>\n",
       "      <td>미국</td>\n",
       "      <td>컴퓨터 및 주변기기</td>\n",
       "      <td>면세점 이외</td>\n",
       "      <td>2018.1/4</td>\n",
       "      <td>2033</td>\n",
       "    </tr>\n",
       "    <tr>\n",
       "      <th>...</th>\n",
       "      <td>...</td>\n",
       "      <td>...</td>\n",
       "      <td>...</td>\n",
       "      <td>...</td>\n",
       "      <td>...</td>\n",
       "    </tr>\n",
       "    <tr>\n",
       "      <th>2767</th>\n",
       "      <td>기타</td>\n",
       "      <td>기 타</td>\n",
       "      <td>면세점 이외</td>\n",
       "      <td>2021.2/4</td>\n",
       "      <td>1278</td>\n",
       "    </tr>\n",
       "    <tr>\n",
       "      <th>2768</th>\n",
       "      <td>기타</td>\n",
       "      <td>기 타</td>\n",
       "      <td>면세점 이외</td>\n",
       "      <td>2021.3/4</td>\n",
       "      <td>1154</td>\n",
       "    </tr>\n",
       "    <tr>\n",
       "      <th>2769</th>\n",
       "      <td>기타</td>\n",
       "      <td>기 타</td>\n",
       "      <td>면세점 이외</td>\n",
       "      <td>2021.4/4</td>\n",
       "      <td>1076</td>\n",
       "    </tr>\n",
       "    <tr>\n",
       "      <th>2770</th>\n",
       "      <td>기타</td>\n",
       "      <td>기 타</td>\n",
       "      <td>면세점 이외</td>\n",
       "      <td>2022.1/4</td>\n",
       "      <td>2325</td>\n",
       "    </tr>\n",
       "    <tr>\n",
       "      <th>2771</th>\n",
       "      <td>기타</td>\n",
       "      <td>기 타</td>\n",
       "      <td>면세점 이외</td>\n",
       "      <td>2022.2/4 p)</td>\n",
       "      <td>725</td>\n",
       "    </tr>\n",
       "  </tbody>\n",
       "</table>\n",
       "<p>2772 rows × 5 columns</p>\n",
       "</div>"
      ],
      "text/plain": [
       "     국가(대륙)별        상품군별   판매유형별           시점   데이터\n",
       "0         미국  컴퓨터 및 주변기기  면세점 이외     2017.1/4  1054\n",
       "1         미국  컴퓨터 및 주변기기  면세점 이외     2017.2/4   946\n",
       "2         미국  컴퓨터 및 주변기기  면세점 이외     2017.3/4   791\n",
       "3         미국  컴퓨터 및 주변기기  면세점 이외     2017.4/4   854\n",
       "4         미국  컴퓨터 및 주변기기  면세점 이외     2018.1/4  2033\n",
       "...      ...         ...     ...          ...   ...\n",
       "2767      기타         기 타  면세점 이외     2021.2/4  1278\n",
       "2768      기타         기 타  면세점 이외     2021.3/4  1154\n",
       "2769      기타         기 타  면세점 이외     2021.4/4  1076\n",
       "2770      기타         기 타  면세점 이외     2022.1/4  2325\n",
       "2771      기타         기 타  면세점 이외  2022.2/4 p)   725\n",
       "\n",
       "[2772 rows x 5 columns]"
      ]
     },
     "execution_count": 2,
     "metadata": {},
     "output_type": "execute_result"
    }
   ],
   "source": [
    "df"
   ]
  },
  {
   "cell_type": "code",
   "execution_count": 3,
   "metadata": {},
   "outputs": [
    {
     "name": "stdout",
     "output_type": "stream",
     "text": [
      "(2772, 5)\n"
     ]
    },
    {
     "data": {
      "text/plain": [
       "면세점 이외    2772\n",
       "Name: 판매유형별, dtype: int64"
      ]
     },
     "execution_count": 3,
     "metadata": {},
     "output_type": "execute_result"
    }
   ],
   "source": [
    "print(df.shape)\n",
    "df.head()\n",
    "df.describe(include=\"object\")\n",
    "df[\"판매유형별\"].value_counts()"
   ]
  },
  {
   "cell_type": "markdown",
   "metadata": {},
   "source": [
    "### 📌 Q1. 시점 컬럼에서 연도와 분기에 대한 파생변수를 생성하고 기술통계를 구해주세요.\n",
    "- 데이터 컬럼을 단위인 \"백만\"으로 변경해 주세요.\n",
    "- describe() 로 기술통계를 구했을 때 다음과 같은 결과가 나오도록 합니다. 아래 결과는 예시로 소숫점 자리수가 다르게 표시되더라도 값이 같다면 괜찮습니다.\n",
    "- 전처리한 백만, 연도, 분기 컬럼이 수치형 데이터 일 때 아래와 같은 결과가 나오니 데이터가 수치 형태로 되어 있는지도 확인해 주세요!\n",
    "- 데이터는 위에서 제공된 데이터를 사용합니다.\n",
    "- 해당 기술통계로 알 수 있는 정보가 무엇인지도 함께 작성해 주세요!"
   ]
  },
  {
   "cell_type": "code",
   "execution_count": 4,
   "metadata": {},
   "outputs": [],
   "source": [
    "# 데이터 컬럼 \"백만\"으로 변경\n",
    "df.rename(columns={'데이터':'백만'}, inplace=True)"
   ]
  },
  {
   "cell_type": "code",
   "execution_count": 5,
   "metadata": {},
   "outputs": [],
   "source": [
    "df_list = df['시점'].str.split('.')\n",
    "\n",
    "df['연도'] = df_list.str.get(0)\n",
    "df['분기(str)'] = df_list.str.get(1)"
   ]
  },
  {
   "cell_type": "code",
   "execution_count": 6,
   "metadata": {},
   "outputs": [],
   "source": [
    "df_mon_list = df['분기(str)'].str.split('/')\n",
    "\n",
    "df['분기'] = df_mon_list.str.get(0)"
   ]
  },
  {
   "cell_type": "code",
   "execution_count": 7,
   "metadata": {},
   "outputs": [],
   "source": [
    "new_df = df.astype({'연도':'int64', '분기':'int64'})"
   ]
  },
  {
   "cell_type": "code",
   "execution_count": 8,
   "metadata": {},
   "outputs": [
    {
     "data": {
      "text/html": [
       "<div>\n",
       "<style scoped>\n",
       "    .dataframe tbody tr th:only-of-type {\n",
       "        vertical-align: middle;\n",
       "    }\n",
       "\n",
       "    .dataframe tbody tr th {\n",
       "        vertical-align: top;\n",
       "    }\n",
       "\n",
       "    .dataframe thead th {\n",
       "        text-align: right;\n",
       "    }\n",
       "</style>\n",
       "<table border=\"1\" class=\"dataframe\">\n",
       "  <thead>\n",
       "    <tr style=\"text-align: right;\">\n",
       "      <th></th>\n",
       "      <th>백만</th>\n",
       "      <th>연도</th>\n",
       "      <th>분기</th>\n",
       "    </tr>\n",
       "  </thead>\n",
       "  <tbody>\n",
       "    <tr>\n",
       "      <th>count</th>\n",
       "      <td>2772.00</td>\n",
       "      <td>2772.00</td>\n",
       "      <td>2772.00</td>\n",
       "    </tr>\n",
       "    <tr>\n",
       "      <th>mean</th>\n",
       "      <td>1613.12</td>\n",
       "      <td>2019.27</td>\n",
       "      <td>2.41</td>\n",
       "    </tr>\n",
       "    <tr>\n",
       "      <th>std</th>\n",
       "      <td>4273.43</td>\n",
       "      <td>1.60</td>\n",
       "      <td>1.11</td>\n",
       "    </tr>\n",
       "    <tr>\n",
       "      <th>min</th>\n",
       "      <td>-10003.00</td>\n",
       "      <td>2017.00</td>\n",
       "      <td>1.00</td>\n",
       "    </tr>\n",
       "    <tr>\n",
       "      <th>25%</th>\n",
       "      <td>41.75</td>\n",
       "      <td>2018.00</td>\n",
       "      <td>1.00</td>\n",
       "    </tr>\n",
       "    <tr>\n",
       "      <th>50%</th>\n",
       "      <td>291.50</td>\n",
       "      <td>2019.00</td>\n",
       "      <td>2.00</td>\n",
       "    </tr>\n",
       "    <tr>\n",
       "      <th>75%</th>\n",
       "      <td>1181.00</td>\n",
       "      <td>2021.00</td>\n",
       "      <td>3.00</td>\n",
       "    </tr>\n",
       "    <tr>\n",
       "      <th>max</th>\n",
       "      <td>47689.00</td>\n",
       "      <td>2022.00</td>\n",
       "      <td>4.00</td>\n",
       "    </tr>\n",
       "  </tbody>\n",
       "</table>\n",
       "</div>"
      ],
      "text/plain": [
       "             백만       연도       분기\n",
       "count   2772.00  2772.00  2772.00\n",
       "mean    1613.12  2019.27     2.41\n",
       "std     4273.43     1.60     1.11\n",
       "min   -10003.00  2017.00     1.00\n",
       "25%       41.75  2018.00     1.00\n",
       "50%      291.50  2019.00     2.00\n",
       "75%     1181.00  2021.00     3.00\n",
       "max    47689.00  2022.00     4.00"
      ]
     },
     "execution_count": 8,
     "metadata": {},
     "output_type": "execute_result"
    }
   ],
   "source": [
    "new_df.describe().round(2)"
   ]
  },
  {
   "cell_type": "markdown",
   "metadata": {},
   "source": [
    "### 📌 Q2. pivot_table을 사용하여 국가(대륙)별 연도별 판매액의 합계를 분석해 주세요.\n",
    "- 국가(대륙)별 연도별 판매액의 합계를 구해서 어느 지역에 판매액이 많은지를 알아보겠습니다.\n",
    "- pivot_table 을 사용하여 다음의 결과를 구하고 시각화 해주세요!\n",
    "- 그래프의 색상, 스타일은 자유롭게 원하는 스타일로 지정해도 됩니다."
   ]
  },
  {
   "cell_type": "code",
   "execution_count": 9,
   "metadata": {},
   "outputs": [
    {
     "data": {
      "text/html": [
       "<div>\n",
       "<style scoped>\n",
       "    .dataframe tbody tr th:only-of-type {\n",
       "        vertical-align: middle;\n",
       "    }\n",
       "\n",
       "    .dataframe tbody tr th {\n",
       "        vertical-align: top;\n",
       "    }\n",
       "\n",
       "    .dataframe thead th {\n",
       "        text-align: right;\n",
       "    }\n",
       "</style>\n",
       "<table border=\"1\" class=\"dataframe\">\n",
       "  <thead>\n",
       "    <tr style=\"text-align: right;\">\n",
       "      <th>연도</th>\n",
       "      <th>2017</th>\n",
       "      <th>2018</th>\n",
       "      <th>2019</th>\n",
       "      <th>2020</th>\n",
       "      <th>2021</th>\n",
       "      <th>2022</th>\n",
       "    </tr>\n",
       "    <tr>\n",
       "      <th>국가(대륙)별</th>\n",
       "      <th></th>\n",
       "      <th></th>\n",
       "      <th></th>\n",
       "      <th></th>\n",
       "      <th></th>\n",
       "      <th></th>\n",
       "    </tr>\n",
       "  </thead>\n",
       "  <tbody>\n",
       "    <tr>\n",
       "      <th>기타</th>\n",
       "      <td>41571</td>\n",
       "      <td>36141</td>\n",
       "      <td>40950</td>\n",
       "      <td>44438</td>\n",
       "      <td>57959</td>\n",
       "      <td>19501</td>\n",
       "    </tr>\n",
       "    <tr>\n",
       "      <th>대양주</th>\n",
       "      <td>18989</td>\n",
       "      <td>17520</td>\n",
       "      <td>13191</td>\n",
       "      <td>16255</td>\n",
       "      <td>16841</td>\n",
       "      <td>5044</td>\n",
       "    </tr>\n",
       "    <tr>\n",
       "      <th>미국</th>\n",
       "      <td>142292</td>\n",
       "      <td>156312</td>\n",
       "      <td>186617</td>\n",
       "      <td>255384</td>\n",
       "      <td>277579</td>\n",
       "      <td>103416</td>\n",
       "    </tr>\n",
       "    <tr>\n",
       "      <th>아세안(ASEAN)</th>\n",
       "      <td>66163</td>\n",
       "      <td>76450</td>\n",
       "      <td>82930</td>\n",
       "      <td>105360</td>\n",
       "      <td>94150</td>\n",
       "      <td>38072</td>\n",
       "    </tr>\n",
       "    <tr>\n",
       "      <th>유럽연합(EU)</th>\n",
       "      <td>31068</td>\n",
       "      <td>36826</td>\n",
       "      <td>39008</td>\n",
       "      <td>39865</td>\n",
       "      <td>32349</td>\n",
       "      <td>9019</td>\n",
       "    </tr>\n",
       "    <tr>\n",
       "      <th>일본</th>\n",
       "      <td>125442</td>\n",
       "      <td>178094</td>\n",
       "      <td>189330</td>\n",
       "      <td>220730</td>\n",
       "      <td>280029</td>\n",
       "      <td>131771</td>\n",
       "    </tr>\n",
       "    <tr>\n",
       "      <th>중국</th>\n",
       "      <td>167240</td>\n",
       "      <td>182068</td>\n",
       "      <td>210418</td>\n",
       "      <td>289446</td>\n",
       "      <td>194380</td>\n",
       "      <td>98572</td>\n",
       "    </tr>\n",
       "    <tr>\n",
       "      <th>중남미</th>\n",
       "      <td>10245</td>\n",
       "      <td>11669</td>\n",
       "      <td>12981</td>\n",
       "      <td>12563</td>\n",
       "      <td>8298</td>\n",
       "      <td>2629</td>\n",
       "    </tr>\n",
       "    <tr>\n",
       "      <th>중동</th>\n",
       "      <td>8030</td>\n",
       "      <td>8019</td>\n",
       "      <td>9325</td>\n",
       "      <td>11467</td>\n",
       "      <td>6164</td>\n",
       "      <td>1389</td>\n",
       "    </tr>\n",
       "  </tbody>\n",
       "</table>\n",
       "</div>"
      ],
      "text/plain": [
       "연도            2017    2018    2019    2020    2021    2022\n",
       "국가(대륙)별                                                   \n",
       "기타           41571   36141   40950   44438   57959   19501\n",
       "대양주          18989   17520   13191   16255   16841    5044\n",
       "미국          142292  156312  186617  255384  277579  103416\n",
       "아세안(ASEAN)   66163   76450   82930  105360   94150   38072\n",
       "유럽연합(EU)     31068   36826   39008   39865   32349    9019\n",
       "일본          125442  178094  189330  220730  280029  131771\n",
       "중국          167240  182068  210418  289446  194380   98572\n",
       "중남미          10245   11669   12981   12563    8298    2629\n",
       "중동            8030    8019    9325   11467    6164    1389"
      ]
     },
     "execution_count": 9,
     "metadata": {},
     "output_type": "execute_result"
    }
   ],
   "source": [
    "pd.pivot_table(data=new_df, index=\"국가(대륙)별\", columns=\"연도\", values=\"백만\", aggfunc=sum)"
   ]
  },
  {
   "cell_type": "code",
   "execution_count": 10,
   "metadata": {},
   "outputs": [
    {
     "data": {
      "text/plain": [
       "<matplotlib.legend.Legend at 0x116fd3eb0>"
      ]
     },
     "execution_count": 10,
     "metadata": {},
     "output_type": "execute_result"
    },
    {
     "data": {
      "image/png": "[encoded data removed]",
      "text/plain": [
       "<Figure size 640x480 with 1 Axes>"
      ]
     },
     "metadata": {},
     "output_type": "display_data"
    }
   ],
   "source": [
    "sns.lineplot(data=df, x=\"연도\", y=\"백만\", hue=\"국가(대륙)별\", errorbar=None)\n",
    "plt.legend(bbox_to_anchor=(1.05, 1), loc=2, borderaxespad=0.)"
   ]
  },
  {
   "cell_type": "markdown",
   "metadata": {},
   "source": [
    "### 📌 Q3. groupby를 사용하여 2020년의 온라인 해외판매 상품군을 지역별 합계를 구해 분석해 주세요.\n",
    "- 2020년은 코로나로 인해 전국민이 어려움을 겪었던 시기입니다. 또, 아마존 등의 해외 온라인 판매가 늘어난 시기이기도 합니다. 이 때, 해외 어느지역에 온라인 판매가 얼마나 되었는지를 groupby() 와 unstack()을 활용해서 합계를 구하고 분석해 주세요! 또 분석한 결과를 보고 어떤 인사이트를 얻었는지도 함께 작성해 주세요!\n",
    "- 그래프의 색상, 스타일은 자유롭게 원하는 스타일로 지정해도 됩니다."
   ]
  },
  {
   "cell_type": "code",
   "execution_count": null,
   "metadata": {},
   "outputs": [],
   "source": []
  },
  {
   "cell_type": "markdown",
   "metadata": {},
   "source": [
    "### 📌 Q4. 주요 판매 국가와 상품군에 대해 2021년까지의 연도별 온라인 직접 판매액 합계를 시각화 해주세요.\n",
    "- 온라인 직접 판매액이 높은 지역은 \"미국\", \"중국\", \"일본\" 이며, 주요 판매 상품군은 \"의류 및 패션 관련상품\", \"화장품\", \"음반·비디오·악기\" 입니다. 2021년까지의 각 지역별 제품별 판매액을 시각화 해주세요!\n",
    "- 시각화 결과의 색상이나 스타일이나 스타일은 달라도 괜찮습니다.\n"
   ]
  },
  {
   "cell_type": "code",
   "execution_count": null,
   "metadata": {},
   "outputs": [],
   "source": []
  },
  {
   "cell_type": "markdown",
   "metadata": {},
   "source": [
    "### 📌 Q5. KOSIS 에 있는 데이터를 하나 정해 자유롭게 분석해 주세요!\n",
    "- 지금까지 익힌 방법으로 다른 데이터에도 같은 방법을 통해 분석해 볼 수 있을 것입니다.\n",
    "- KOSIS(https://kosis.kr/) 사이트에서 관심있는 분야의 데이터를 찾고 원하는 시각화를 해주세요!\n",
    "- 조회조건에 계, 합계 등을 미리 제거하고 다운로드 받으면 전처리를 줄일 수 있습니다.\n",
    "- 행렬전환 기능을 사용하면 따로 melt를 진행하지 않아도 되기 때문에 이 또한 전처리를 줄일 수 있습니다."
   ]
  }
 ],
 "metadata": {
  "kernelspec": {
   "display_name": "Python 3",
   "language": "python",
   "name": "python3"
  },
  "language_info": {
   "codemirror_mode": {
    "name": "ipython",
    "version": 3
   },
   "file_extension": ".py",
   "mimetype": "text/x-python",
   "name": "python",
   "nbconvert_exporter": "python",
   "pygments_lexer": "ipython3",
   "version": "3.9.6"
  }
 },
 "nbformat": 4,
 "nbformat_minor": 2
}
