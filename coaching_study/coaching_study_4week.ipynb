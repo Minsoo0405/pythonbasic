{
 "cells": [
  {
   "cell_type": "markdown",
   "metadata": {},
   "source": [
    "# 1. 데이터 준비"
   ]
  },
  {
   "cell_type": "markdown",
   "metadata": {},
   "source": [
    "### 1) 라이브러리 임포트하기"
   ]
  },
  {
   "cell_type": "code",
   "execution_count": 83,
   "metadata": {},
   "outputs": [],
   "source": [
    "import numpy as np\n",
    "import pandas as pd\n",
    "import matplotlib.pyplot as plt\n",
    "import seaborn as sns\n",
    "\n",
    "%matplotlib inline"
   ]
  },
  {
   "cell_type": "code",
   "execution_count": 110,
   "metadata": {},
   "outputs": [],
   "source": [
    "import os\n",
    "os.name\n",
    "\n",
    "if os.name == \"posix\":\n",
    "    sns.set(font=\"AppleGothic\")\n",
    "elif os.name == \"nt\":\n",
    "    sns.set(font=\"Malgun Gothic\")"
   ]
  },
  {
   "cell_type": "markdown",
   "metadata": {},
   "source": [
    "### 2) 데이터셋 로드하기"
   ]
  },
  {
   "cell_type": "code",
   "execution_count": 84,
   "metadata": {},
   "outputs": [
    {
     "data": {
      "text/plain": [
       "(969, 30)"
      ]
     },
     "execution_count": 84,
     "metadata": {},
     "output_type": "execute_result"
    }
   ],
   "source": [
    "df = pd.read_csv('./data/101_DT_1KE10081_20231106160107.csv', encoding='cp949')\n",
    "df.shape"
   ]
  },
  {
   "cell_type": "code",
   "execution_count": 85,
   "metadata": {},
   "outputs": [
    {
     "data": {
      "text/plain": [
       "합계         51\n",
       "유럽         51\n",
       "아프리카       51\n",
       "중남미        51\n",
       "대양주        51\n",
       "기타 유럽      51\n",
       "영국         51\n",
       "유럽연합       51\n",
       "유럽연합+영국    51\n",
       "캐나다        51\n",
       "아시아        51\n",
       "미국         51\n",
       "북미         51\n",
       "기타 아시아     51\n",
       "중동         51\n",
       "아세안        51\n",
       "일본         51\n",
       "중국         51\n",
       "기타         51\n",
       "Name: 지역별, dtype: int64"
      ]
     },
     "execution_count": 85,
     "metadata": {},
     "output_type": "execute_result"
    }
   ],
   "source": [
    "df['지역별'].value_counts()"
   ]
  },
  {
   "cell_type": "code",
   "execution_count": 86,
   "metadata": {},
   "outputs": [
    {
     "name": "stdout",
     "output_type": "stream",
     "text": [
      "<class 'pandas.core.frame.DataFrame'>\n",
      "RangeIndex: 969 entries, 0 to 968\n",
      "Data columns (total 30 columns):\n",
      " #   Column       Non-Null Count  Dtype  \n",
      "---  ------       --------------  -----  \n",
      " 0   지역별          969 non-null    object \n",
      " 1   상품군별         969 non-null    object \n",
      " 2   판매유형별        969 non-null    object \n",
      " 3   항목           969 non-null    object \n",
      " 4   단위           969 non-null    object \n",
      " 5   2014.1/4     150 non-null    float64\n",
      " 6   2014.2/4     150 non-null    float64\n",
      " 7   2014.3/4     150 non-null    float64\n",
      " 8   2014.4/4     150 non-null    float64\n",
      " 9   2015.1/4     150 non-null    float64\n",
      " 10  2015.2/4     150 non-null    float64\n",
      " 11  2015.3/4     150 non-null    float64\n",
      " 12  2015.4/4     150 non-null    float64\n",
      " 13  2016.1/4     150 non-null    float64\n",
      " 14  2016.2/4     150 non-null    float64\n",
      " 15  2016.3/4     150 non-null    float64\n",
      " 16  2016.4/4     150 non-null    float64\n",
      " 17  2017.1/4     969 non-null    object \n",
      " 18  2017.2/4     969 non-null    object \n",
      " 19  2017.3/4     969 non-null    object \n",
      " 20  2017.4/4     969 non-null    object \n",
      " 21  2018.1/4     969 non-null    object \n",
      " 22  2018.2/4     969 non-null    object \n",
      " 23  2018.3/4     969 non-null    object \n",
      " 24  2018.4/4     969 non-null    object \n",
      " 25  2019.1/4     969 non-null    object \n",
      " 26  2019.2/4     969 non-null    object \n",
      " 27  2019.3/4     969 non-null    object \n",
      " 28  2019.4/4     969 non-null    object \n",
      " 29  Unnamed: 29  0 non-null      float64\n",
      "dtypes: float64(13), object(17)\n",
      "memory usage: 227.2+ KB\n"
     ]
    }
   ],
   "source": [
    "df.info()"
   ]
  },
  {
   "cell_type": "code",
   "execution_count": 87,
   "metadata": {},
   "outputs": [
    {
     "data": {
      "text/html": [
       "<div>\n",
       "<style scoped>\n",
       "    .dataframe tbody tr th:only-of-type {\n",
       "        vertical-align: middle;\n",
       "    }\n",
       "\n",
       "    .dataframe tbody tr th {\n",
       "        vertical-align: top;\n",
       "    }\n",
       "\n",
       "    .dataframe thead th {\n",
       "        text-align: right;\n",
       "    }\n",
       "</style>\n",
       "<table border=\"1\" class=\"dataframe\">\n",
       "  <thead>\n",
       "    <tr style=\"text-align: right;\">\n",
       "      <th></th>\n",
       "      <th>2014.1/4</th>\n",
       "      <th>2014.2/4</th>\n",
       "      <th>2014.3/4</th>\n",
       "      <th>2014.4/4</th>\n",
       "      <th>2015.1/4</th>\n",
       "      <th>2015.2/4</th>\n",
       "      <th>2015.3/4</th>\n",
       "      <th>2015.4/4</th>\n",
       "      <th>2016.1/4</th>\n",
       "      <th>2016.2/4</th>\n",
       "      <th>2016.3/4</th>\n",
       "      <th>2016.4/4</th>\n",
       "      <th>Unnamed: 29</th>\n",
       "    </tr>\n",
       "  </thead>\n",
       "  <tbody>\n",
       "    <tr>\n",
       "      <th>count</th>\n",
       "      <td>150.000000</td>\n",
       "      <td>150.000000</td>\n",
       "      <td>150.000000</td>\n",
       "      <td>150.000000</td>\n",
       "      <td>150.000000</td>\n",
       "      <td>150.000000</td>\n",
       "      <td>150.000000</td>\n",
       "      <td>150.000000</td>\n",
       "      <td>150.00000</td>\n",
       "      <td>150.000000</td>\n",
       "      <td>150.000000</td>\n",
       "      <td>150.000000</td>\n",
       "      <td>0.0</td>\n",
       "    </tr>\n",
       "    <tr>\n",
       "      <th>mean</th>\n",
       "      <td>3953.920000</td>\n",
       "      <td>4097.093333</td>\n",
       "      <td>4373.306667</td>\n",
       "      <td>5685.760000</td>\n",
       "      <td>7176.026667</td>\n",
       "      <td>7247.573333</td>\n",
       "      <td>7157.893333</td>\n",
       "      <td>12015.146667</td>\n",
       "      <td>13637.20000</td>\n",
       "      <td>13183.760000</td>\n",
       "      <td>14956.080000</td>\n",
       "      <td>19379.760000</td>\n",
       "      <td>NaN</td>\n",
       "    </tr>\n",
       "    <tr>\n",
       "      <th>std</th>\n",
       "      <td>14316.406803</td>\n",
       "      <td>15294.262587</td>\n",
       "      <td>16484.779102</td>\n",
       "      <td>22380.618718</td>\n",
       "      <td>30202.367950</td>\n",
       "      <td>31248.705252</td>\n",
       "      <td>30332.916978</td>\n",
       "      <td>55268.962799</td>\n",
       "      <td>64518.94157</td>\n",
       "      <td>61849.273377</td>\n",
       "      <td>73675.967574</td>\n",
       "      <td>96241.769115</td>\n",
       "      <td>NaN</td>\n",
       "    </tr>\n",
       "    <tr>\n",
       "      <th>min</th>\n",
       "      <td>0.000000</td>\n",
       "      <td>0.000000</td>\n",
       "      <td>0.000000</td>\n",
       "      <td>0.000000</td>\n",
       "      <td>0.000000</td>\n",
       "      <td>0.000000</td>\n",
       "      <td>0.000000</td>\n",
       "      <td>0.000000</td>\n",
       "      <td>0.00000</td>\n",
       "      <td>0.000000</td>\n",
       "      <td>0.000000</td>\n",
       "      <td>0.000000</td>\n",
       "      <td>NaN</td>\n",
       "    </tr>\n",
       "    <tr>\n",
       "      <th>25%</th>\n",
       "      <td>93.250000</td>\n",
       "      <td>88.000000</td>\n",
       "      <td>102.250000</td>\n",
       "      <td>109.000000</td>\n",
       "      <td>113.750000</td>\n",
       "      <td>108.000000</td>\n",
       "      <td>102.000000</td>\n",
       "      <td>67.000000</td>\n",
       "      <td>82.75000</td>\n",
       "      <td>72.750000</td>\n",
       "      <td>70.750000</td>\n",
       "      <td>77.750000</td>\n",
       "      <td>NaN</td>\n",
       "    </tr>\n",
       "  </tbody>\n",
       "</table>\n",
       "</div>"
      ],
      "text/plain": [
       "           2014.1/4      2014.2/4      2014.3/4      2014.4/4      2015.1/4  \\\n",
       "count    150.000000    150.000000    150.000000    150.000000    150.000000   \n",
       "mean    3953.920000   4097.093333   4373.306667   5685.760000   7176.026667   \n",
       "std    14316.406803  15294.262587  16484.779102  22380.618718  30202.367950   \n",
       "min        0.000000      0.000000      0.000000      0.000000      0.000000   \n",
       "25%       93.250000     88.000000    102.250000    109.000000    113.750000   \n",
       "\n",
       "           2015.2/4      2015.3/4      2015.4/4     2016.1/4      2016.2/4  \\\n",
       "count    150.000000    150.000000    150.000000    150.00000    150.000000   \n",
       "mean    7247.573333   7157.893333  12015.146667  13637.20000  13183.760000   \n",
       "std    31248.705252  30332.916978  55268.962799  64518.94157  61849.273377   \n",
       "min        0.000000      0.000000      0.000000      0.00000      0.000000   \n",
       "25%      108.000000    102.000000     67.000000     82.75000     72.750000   \n",
       "\n",
       "           2016.3/4      2016.4/4  Unnamed: 29  \n",
       "count    150.000000    150.000000          0.0  \n",
       "mean   14956.080000  19379.760000          NaN  \n",
       "std    73675.967574  96241.769115          NaN  \n",
       "min        0.000000      0.000000          NaN  \n",
       "25%       70.750000     77.750000          NaN  "
      ]
     },
     "execution_count": 87,
     "metadata": {},
     "output_type": "execute_result"
    }
   ],
   "source": [
    "df.describe().head()"
   ]
  },
  {
   "cell_type": "markdown",
   "metadata": {},
   "source": [
    "# 2. 데이터 전처리"
   ]
  },
  {
   "cell_type": "markdown",
   "metadata": {},
   "source": [
    "### 2.1 필요없는 컬럼 삭제하기 - '항목', '단위', 'Unnamed: 29'"
   ]
  },
  {
   "cell_type": "code",
   "execution_count": 88,
   "metadata": {},
   "outputs": [
    {
     "data": {
      "text/plain": [
       "(969, 27)"
      ]
     },
     "execution_count": 88,
     "metadata": {},
     "output_type": "execute_result"
    }
   ],
   "source": [
    "df = df.drop(['항목', '단위', 'Unnamed: 29'], axis=1)\n",
    "df.shape"
   ]
  },
  {
   "cell_type": "code",
   "execution_count": 89,
   "metadata": {},
   "outputs": [
    {
     "data": {
      "text/html": [
       "<div>\n",
       "<style scoped>\n",
       "    .dataframe tbody tr th:only-of-type {\n",
       "        vertical-align: middle;\n",
       "    }\n",
       "\n",
       "    .dataframe tbody tr th {\n",
       "        vertical-align: top;\n",
       "    }\n",
       "\n",
       "    .dataframe thead th {\n",
       "        text-align: right;\n",
       "    }\n",
       "</style>\n",
       "<table border=\"1\" class=\"dataframe\">\n",
       "  <thead>\n",
       "    <tr style=\"text-align: right;\">\n",
       "      <th></th>\n",
       "      <th>지역별</th>\n",
       "      <th>상품군별</th>\n",
       "      <th>판매유형별</th>\n",
       "      <th>2014.1/4</th>\n",
       "      <th>2014.2/4</th>\n",
       "      <th>2014.3/4</th>\n",
       "      <th>2014.4/4</th>\n",
       "      <th>2015.1/4</th>\n",
       "      <th>2015.2/4</th>\n",
       "      <th>2015.3/4</th>\n",
       "      <th>...</th>\n",
       "      <th>2017.3/4</th>\n",
       "      <th>2017.4/4</th>\n",
       "      <th>2018.1/4</th>\n",
       "      <th>2018.2/4</th>\n",
       "      <th>2018.3/4</th>\n",
       "      <th>2018.4/4</th>\n",
       "      <th>2019.1/4</th>\n",
       "      <th>2019.2/4</th>\n",
       "      <th>2019.3/4</th>\n",
       "      <th>2019.4/4</th>\n",
       "    </tr>\n",
       "  </thead>\n",
       "  <tbody>\n",
       "    <tr>\n",
       "      <th>0</th>\n",
       "      <td>합계</td>\n",
       "      <td>합계</td>\n",
       "      <td>계</td>\n",
       "      <td>148272.0</td>\n",
       "      <td>153641.0</td>\n",
       "      <td>163999.0</td>\n",
       "      <td>213216.0</td>\n",
       "      <td>269101.0</td>\n",
       "      <td>271784.0</td>\n",
       "      <td>268421.0</td>\n",
       "      <td>...</td>\n",
       "      <td>755101</td>\n",
       "      <td>858240</td>\n",
       "      <td>833672</td>\n",
       "      <td>897205</td>\n",
       "      <td>921586</td>\n",
       "      <td>974060</td>\n",
       "      <td>1251122</td>\n",
       "      <td>1345723</td>\n",
       "      <td>1526135</td>\n",
       "      <td>1881628</td>\n",
       "    </tr>\n",
       "    <tr>\n",
       "      <th>1</th>\n",
       "      <td>합계</td>\n",
       "      <td>합계</td>\n",
       "      <td>면세점</td>\n",
       "      <td>NaN</td>\n",
       "      <td>NaN</td>\n",
       "      <td>NaN</td>\n",
       "      <td>NaN</td>\n",
       "      <td>NaN</td>\n",
       "      <td>NaN</td>\n",
       "      <td>NaN</td>\n",
       "      <td>...</td>\n",
       "      <td>610630</td>\n",
       "      <td>677884</td>\n",
       "      <td>665613</td>\n",
       "      <td>725319</td>\n",
       "      <td>761836</td>\n",
       "      <td>770656</td>\n",
       "      <td>1070693</td>\n",
       "      <td>1157158</td>\n",
       "      <td>1336372</td>\n",
       "      <td>1655635</td>\n",
       "    </tr>\n",
       "    <tr>\n",
       "      <th>2</th>\n",
       "      <td>합계</td>\n",
       "      <td>합계</td>\n",
       "      <td>면세점 이외</td>\n",
       "      <td>NaN</td>\n",
       "      <td>NaN</td>\n",
       "      <td>NaN</td>\n",
       "      <td>NaN</td>\n",
       "      <td>NaN</td>\n",
       "      <td>NaN</td>\n",
       "      <td>NaN</td>\n",
       "      <td>...</td>\n",
       "      <td>144471</td>\n",
       "      <td>180356</td>\n",
       "      <td>168059</td>\n",
       "      <td>171886</td>\n",
       "      <td>159750</td>\n",
       "      <td>203404</td>\n",
       "      <td>180429</td>\n",
       "      <td>188565</td>\n",
       "      <td>189763</td>\n",
       "      <td>225993</td>\n",
       "    </tr>\n",
       "    <tr>\n",
       "      <th>3</th>\n",
       "      <td>합계</td>\n",
       "      <td>컴퓨터 및 주변기기</td>\n",
       "      <td>계</td>\n",
       "      <td>4915.0</td>\n",
       "      <td>4052.0</td>\n",
       "      <td>3912.0</td>\n",
       "      <td>3529.0</td>\n",
       "      <td>2903.0</td>\n",
       "      <td>2697.0</td>\n",
       "      <td>3804.0</td>\n",
       "      <td>...</td>\n",
       "      <td>2032</td>\n",
       "      <td>2158</td>\n",
       "      <td>5236</td>\n",
       "      <td>3854</td>\n",
       "      <td>4320</td>\n",
       "      <td>4511</td>\n",
       "      <td>3702</td>\n",
       "      <td>4038</td>\n",
       "      <td>3670</td>\n",
       "      <td>3827</td>\n",
       "    </tr>\n",
       "    <tr>\n",
       "      <th>4</th>\n",
       "      <td>합계</td>\n",
       "      <td>컴퓨터 및 주변기기</td>\n",
       "      <td>면세점</td>\n",
       "      <td>NaN</td>\n",
       "      <td>NaN</td>\n",
       "      <td>NaN</td>\n",
       "      <td>NaN</td>\n",
       "      <td>NaN</td>\n",
       "      <td>NaN</td>\n",
       "      <td>NaN</td>\n",
       "      <td>...</td>\n",
       "      <td>5</td>\n",
       "      <td>1</td>\n",
       "      <td>2</td>\n",
       "      <td>6</td>\n",
       "      <td>1</td>\n",
       "      <td>215</td>\n",
       "      <td>2</td>\n",
       "      <td>0</td>\n",
       "      <td>1</td>\n",
       "      <td>70</td>\n",
       "    </tr>\n",
       "  </tbody>\n",
       "</table>\n",
       "<p>5 rows × 27 columns</p>\n",
       "</div>"
      ],
      "text/plain": [
       "  지역별        상품군별   판매유형별  2014.1/4  2014.2/4  2014.3/4  2014.4/4  2015.1/4  \\\n",
       "0  합계          합계       계  148272.0  153641.0  163999.0  213216.0  269101.0   \n",
       "1  합계          합계     면세점       NaN       NaN       NaN       NaN       NaN   \n",
       "2  합계          합계  면세점 이외       NaN       NaN       NaN       NaN       NaN   \n",
       "3  합계  컴퓨터 및 주변기기       계    4915.0    4052.0    3912.0    3529.0    2903.0   \n",
       "4  합계  컴퓨터 및 주변기기     면세점       NaN       NaN       NaN       NaN       NaN   \n",
       "\n",
       "   2015.2/4  2015.3/4  ...  2017.3/4  2017.4/4  2018.1/4  2018.2/4  2018.3/4  \\\n",
       "0  271784.0  268421.0  ...    755101    858240    833672    897205    921586   \n",
       "1       NaN       NaN  ...    610630    677884    665613    725319    761836   \n",
       "2       NaN       NaN  ...    144471    180356    168059    171886    159750   \n",
       "3    2697.0    3804.0  ...      2032      2158      5236      3854      4320   \n",
       "4       NaN       NaN  ...         5         1         2         6         1   \n",
       "\n",
       "  2018.4/4 2019.1/4 2019.2/4 2019.3/4 2019.4/4  \n",
       "0   974060  1251122  1345723  1526135  1881628  \n",
       "1   770656  1070693  1157158  1336372  1655635  \n",
       "2   203404   180429   188565   189763   225993  \n",
       "3     4511     3702     4038     3670     3827  \n",
       "4      215        2        0        1       70  \n",
       "\n",
       "[5 rows x 27 columns]"
      ]
     },
     "execution_count": 89,
     "metadata": {},
     "output_type": "execute_result"
    }
   ],
   "source": [
    "df.head()"
   ]
  },
  {
   "cell_type": "markdown",
   "metadata": {},
   "source": [
    "### 2.2 melt 함수를 활용해서 tidy data로 구성하기"
   ]
  },
  {
   "cell_type": "code",
   "execution_count": 90,
   "metadata": {},
   "outputs": [
    {
     "data": {
      "text/plain": [
       "Index(['지역별', '상품군별', '판매유형별', '2014.1/4', '2014.2/4', '2014.3/4', '2014.4/4',\n",
       "       '2015.1/4', '2015.2/4', '2015.3/4', '2015.4/4', '2016.1/4', '2016.2/4',\n",
       "       '2016.3/4', '2016.4/4', '2017.1/4', '2017.2/4', '2017.3/4', '2017.4/4',\n",
       "       '2018.1/4', '2018.2/4', '2018.3/4', '2018.4/4', '2019.1/4', '2019.2/4',\n",
       "       '2019.3/4', '2019.4/4'],\n",
       "      dtype='object')"
      ]
     },
     "execution_count": 90,
     "metadata": {},
     "output_type": "execute_result"
    }
   ],
   "source": [
    "df.columns"
   ]
  },
  {
   "cell_type": "code",
   "execution_count": 91,
   "metadata": {},
   "outputs": [
    {
     "name": "stdout",
     "output_type": "stream",
     "text": [
      "합계               57\n",
      "의류 및 패션 관련 상품    57\n",
      "생활·자동차용품         57\n",
      "농축수산물            57\n",
      "음·식료품            57\n",
      "아동·유아용품          57\n",
      "화장품              57\n",
      "스포츠·레저용품         57\n",
      "음반·비디오·악기        57\n",
      "컴퓨터 및 주변기기       57\n",
      "사무·문구            57\n",
      "서 적              57\n",
      "소프트웨어            57\n",
      "통신기기             57\n",
      "가전·전자            57\n",
      "가전·전자·통신기기       57\n",
      "기 타              57\n",
      "Name: 상품군별, dtype: int64\n",
      "----------------------------------------------------------------------------------------------------\n",
      "계         323\n",
      "면세점       323\n",
      "면세점 이외    323\n",
      "Name: 판매유형별, dtype: int64\n"
     ]
    }
   ],
   "source": [
    "print(df['상품군별'].value_counts())\n",
    "print(\"-\" * 100)\n",
    "print(df['판매유형별'].value_counts())"
   ]
  },
  {
   "cell_type": "code",
   "execution_count": 92,
   "metadata": {},
   "outputs": [
    {
     "data": {
      "text/plain": [
       "(23256, 5)"
      ]
     },
     "execution_count": 92,
     "metadata": {},
     "output_type": "execute_result"
    }
   ],
   "source": [
    "df_new = df.melt(id_vars=['지역별', '상품군별', '판매유형별'], var_name='기간', value_name='백만원')\n",
    "df_new.shape"
   ]
  },
  {
   "cell_type": "code",
   "execution_count": 93,
   "metadata": {},
   "outputs": [
    {
     "data": {
      "text/html": [
       "<div>\n",
       "<style scoped>\n",
       "    .dataframe tbody tr th:only-of-type {\n",
       "        vertical-align: middle;\n",
       "    }\n",
       "\n",
       "    .dataframe tbody tr th {\n",
       "        vertical-align: top;\n",
       "    }\n",
       "\n",
       "    .dataframe thead th {\n",
       "        text-align: right;\n",
       "    }\n",
       "</style>\n",
       "<table border=\"1\" class=\"dataframe\">\n",
       "  <thead>\n",
       "    <tr style=\"text-align: right;\">\n",
       "      <th></th>\n",
       "      <th>지역별</th>\n",
       "      <th>상품군별</th>\n",
       "      <th>판매유형별</th>\n",
       "      <th>기간</th>\n",
       "      <th>백만원</th>\n",
       "    </tr>\n",
       "  </thead>\n",
       "  <tbody>\n",
       "    <tr>\n",
       "      <th>0</th>\n",
       "      <td>합계</td>\n",
       "      <td>합계</td>\n",
       "      <td>계</td>\n",
       "      <td>2014.1/4</td>\n",
       "      <td>148272.0</td>\n",
       "    </tr>\n",
       "    <tr>\n",
       "      <th>1</th>\n",
       "      <td>합계</td>\n",
       "      <td>합계</td>\n",
       "      <td>면세점</td>\n",
       "      <td>2014.1/4</td>\n",
       "      <td>NaN</td>\n",
       "    </tr>\n",
       "    <tr>\n",
       "      <th>2</th>\n",
       "      <td>합계</td>\n",
       "      <td>합계</td>\n",
       "      <td>면세점 이외</td>\n",
       "      <td>2014.1/4</td>\n",
       "      <td>NaN</td>\n",
       "    </tr>\n",
       "    <tr>\n",
       "      <th>3</th>\n",
       "      <td>합계</td>\n",
       "      <td>컴퓨터 및 주변기기</td>\n",
       "      <td>계</td>\n",
       "      <td>2014.1/4</td>\n",
       "      <td>4915.0</td>\n",
       "    </tr>\n",
       "    <tr>\n",
       "      <th>4</th>\n",
       "      <td>합계</td>\n",
       "      <td>컴퓨터 및 주변기기</td>\n",
       "      <td>면세점</td>\n",
       "      <td>2014.1/4</td>\n",
       "      <td>NaN</td>\n",
       "    </tr>\n",
       "  </tbody>\n",
       "</table>\n",
       "</div>"
      ],
      "text/plain": [
       "  지역별        상품군별   판매유형별        기간       백만원\n",
       "0  합계          합계       계  2014.1/4  148272.0\n",
       "1  합계          합계     면세점  2014.1/4       NaN\n",
       "2  합계          합계  면세점 이외  2014.1/4       NaN\n",
       "3  합계  컴퓨터 및 주변기기       계  2014.1/4    4915.0\n",
       "4  합계  컴퓨터 및 주변기기     면세점  2014.1/4       NaN"
      ]
     },
     "execution_count": 93,
     "metadata": {},
     "output_type": "execute_result"
    }
   ],
   "source": [
    "df_new.head()"
   ]
  },
  {
   "cell_type": "code",
   "execution_count": 94,
   "metadata": {},
   "outputs": [
    {
     "name": "stdout",
     "output_type": "stream",
     "text": [
      "<class 'pandas.core.frame.DataFrame'>\n",
      "RangeIndex: 23256 entries, 0 to 23255\n",
      "Data columns (total 5 columns):\n",
      " #   Column  Non-Null Count  Dtype \n",
      "---  ------  --------------  ----- \n",
      " 0   지역별     23256 non-null  object\n",
      " 1   상품군별    23256 non-null  object\n",
      " 2   판매유형별   23256 non-null  object\n",
      " 3   기간      23256 non-null  object\n",
      " 4   백만원     13428 non-null  object\n",
      "dtypes: object(5)\n",
      "memory usage: 908.6+ KB\n"
     ]
    }
   ],
   "source": [
    "df_new.info()"
   ]
  },
  {
   "cell_type": "markdown",
   "metadata": {},
   "source": [
    "### 2.3 기간에서 연도 분리하기"
   ]
  },
  {
   "cell_type": "code",
   "execution_count": 95,
   "metadata": {},
   "outputs": [
    {
     "data": {
      "text/html": [
       "<div>\n",
       "<style scoped>\n",
       "    .dataframe tbody tr th:only-of-type {\n",
       "        vertical-align: middle;\n",
       "    }\n",
       "\n",
       "    .dataframe tbody tr th {\n",
       "        vertical-align: top;\n",
       "    }\n",
       "\n",
       "    .dataframe thead th {\n",
       "        text-align: right;\n",
       "    }\n",
       "</style>\n",
       "<table border=\"1\" class=\"dataframe\">\n",
       "  <thead>\n",
       "    <tr style=\"text-align: right;\">\n",
       "      <th></th>\n",
       "      <th>지역별</th>\n",
       "      <th>상품군별</th>\n",
       "      <th>판매유형별</th>\n",
       "      <th>기간</th>\n",
       "      <th>백만원</th>\n",
       "      <th>연도</th>\n",
       "    </tr>\n",
       "  </thead>\n",
       "  <tbody>\n",
       "    <tr>\n",
       "      <th>0</th>\n",
       "      <td>합계</td>\n",
       "      <td>합계</td>\n",
       "      <td>계</td>\n",
       "      <td>2014.1/4</td>\n",
       "      <td>148272.0</td>\n",
       "      <td>2014</td>\n",
       "    </tr>\n",
       "    <tr>\n",
       "      <th>1</th>\n",
       "      <td>합계</td>\n",
       "      <td>합계</td>\n",
       "      <td>면세점</td>\n",
       "      <td>2014.1/4</td>\n",
       "      <td>NaN</td>\n",
       "      <td>2014</td>\n",
       "    </tr>\n",
       "    <tr>\n",
       "      <th>2</th>\n",
       "      <td>합계</td>\n",
       "      <td>합계</td>\n",
       "      <td>면세점 이외</td>\n",
       "      <td>2014.1/4</td>\n",
       "      <td>NaN</td>\n",
       "      <td>2014</td>\n",
       "    </tr>\n",
       "    <tr>\n",
       "      <th>3</th>\n",
       "      <td>합계</td>\n",
       "      <td>컴퓨터 및 주변기기</td>\n",
       "      <td>계</td>\n",
       "      <td>2014.1/4</td>\n",
       "      <td>4915.0</td>\n",
       "      <td>2014</td>\n",
       "    </tr>\n",
       "    <tr>\n",
       "      <th>4</th>\n",
       "      <td>합계</td>\n",
       "      <td>컴퓨터 및 주변기기</td>\n",
       "      <td>면세점</td>\n",
       "      <td>2014.1/4</td>\n",
       "      <td>NaN</td>\n",
       "      <td>2014</td>\n",
       "    </tr>\n",
       "    <tr>\n",
       "      <th>...</th>\n",
       "      <td>...</td>\n",
       "      <td>...</td>\n",
       "      <td>...</td>\n",
       "      <td>...</td>\n",
       "      <td>...</td>\n",
       "      <td>...</td>\n",
       "    </tr>\n",
       "    <tr>\n",
       "      <th>23251</th>\n",
       "      <td>기타</td>\n",
       "      <td>생활·자동차용품</td>\n",
       "      <td>면세점</td>\n",
       "      <td>2019.4/4</td>\n",
       "      <td>0</td>\n",
       "      <td>2019</td>\n",
       "    </tr>\n",
       "    <tr>\n",
       "      <th>23252</th>\n",
       "      <td>기타</td>\n",
       "      <td>생활·자동차용품</td>\n",
       "      <td>면세점 이외</td>\n",
       "      <td>2019.4/4</td>\n",
       "      <td>531</td>\n",
       "      <td>2019</td>\n",
       "    </tr>\n",
       "    <tr>\n",
       "      <th>23253</th>\n",
       "      <td>기타</td>\n",
       "      <td>기 타</td>\n",
       "      <td>계</td>\n",
       "      <td>2019.4/4</td>\n",
       "      <td>1094</td>\n",
       "      <td>2019</td>\n",
       "    </tr>\n",
       "    <tr>\n",
       "      <th>23254</th>\n",
       "      <td>기타</td>\n",
       "      <td>기 타</td>\n",
       "      <td>면세점</td>\n",
       "      <td>2019.4/4</td>\n",
       "      <td>1</td>\n",
       "      <td>2019</td>\n",
       "    </tr>\n",
       "    <tr>\n",
       "      <th>23255</th>\n",
       "      <td>기타</td>\n",
       "      <td>기 타</td>\n",
       "      <td>면세점 이외</td>\n",
       "      <td>2019.4/4</td>\n",
       "      <td>1093</td>\n",
       "      <td>2019</td>\n",
       "    </tr>\n",
       "  </tbody>\n",
       "</table>\n",
       "<p>23256 rows × 6 columns</p>\n",
       "</div>"
      ],
      "text/plain": [
       "      지역별        상품군별   판매유형별        기간       백만원    연도\n",
       "0      합계          합계       계  2014.1/4  148272.0  2014\n",
       "1      합계          합계     면세점  2014.1/4       NaN  2014\n",
       "2      합계          합계  면세점 이외  2014.1/4       NaN  2014\n",
       "3      합계  컴퓨터 및 주변기기       계  2014.1/4    4915.0  2014\n",
       "4      합계  컴퓨터 및 주변기기     면세점  2014.1/4       NaN  2014\n",
       "...    ..         ...     ...       ...       ...   ...\n",
       "23251  기타    생활·자동차용품     면세점  2019.4/4         0  2019\n",
       "23252  기타    생활·자동차용품  면세점 이외  2019.4/4       531  2019\n",
       "23253  기타         기 타       계  2019.4/4      1094  2019\n",
       "23254  기타         기 타     면세점  2019.4/4         1  2019\n",
       "23255  기타         기 타  면세점 이외  2019.4/4      1093  2019\n",
       "\n",
       "[23256 rows x 6 columns]"
      ]
     },
     "execution_count": 95,
     "metadata": {},
     "output_type": "execute_result"
    }
   ],
   "source": [
    "df_new['연도'] = df_new['기간'].map(lambda x: int(x.split('.')[0]))\n",
    "df_new"
   ]
  },
  {
   "cell_type": "markdown",
   "metadata": {},
   "source": [
    "### 2.4 기간에서 분기 분리하기"
   ]
  },
  {
   "cell_type": "code",
   "execution_count": 96,
   "metadata": {},
   "outputs": [
    {
     "name": "stdout",
     "output_type": "stream",
     "text": [
      "<class 'pandas.core.frame.DataFrame'>\n",
      "RangeIndex: 23256 entries, 0 to 23255\n",
      "Data columns (total 7 columns):\n",
      " #   Column  Non-Null Count  Dtype \n",
      "---  ------  --------------  ----- \n",
      " 0   지역별     23256 non-null  object\n",
      " 1   상품군별    23256 non-null  object\n",
      " 2   판매유형별   23256 non-null  object\n",
      " 3   기간      23256 non-null  object\n",
      " 4   백만원     13428 non-null  object\n",
      " 5   연도      23256 non-null  int64 \n",
      " 6   분기      23256 non-null  int64 \n",
      "dtypes: int64(2), object(5)\n",
      "memory usage: 1.2+ MB\n"
     ]
    }
   ],
   "source": [
    "df_new['분기'] = df_new['기간'].map(lambda x: int(str(x.split('.')[1]).split('/')[0]))\n",
    "df_new.info()"
   ]
  },
  {
   "cell_type": "markdown",
   "metadata": {},
   "source": [
    "### 2.5 금액을 수치 데이터로 표현하기 위해 데이터 타입 변경"
   ]
  },
  {
   "cell_type": "code",
   "execution_count": 97,
   "metadata": {},
   "outputs": [
    {
     "name": "stderr",
     "output_type": "stream",
     "text": [
      "/var/folders/cy/sw8s66dd02l8b9dj7pqk2ljm0000gn/T/ipykernel_20151/2284103331.py:1: FutureWarning: The pandas.np module is deprecated and will be removed from pandas in a future version. Import numpy directly instead.\n",
      "  df_new['백만원'] = df_new['백만원'].replace('-', pd.np.nan).astype(dtype='float64')\n"
     ]
    }
   ],
   "source": [
    "df_new['백만원'] = df_new['백만원'].replace('-', pd.np.nan).astype(dtype='float64')"
   ]
  },
  {
   "cell_type": "code",
   "execution_count": 99,
   "metadata": {},
   "outputs": [
    {
     "name": "stdout",
     "output_type": "stream",
     "text": [
      "<class 'pandas.core.frame.DataFrame'>\n",
      "RangeIndex: 23256 entries, 0 to 23255\n",
      "Data columns (total 7 columns):\n",
      " #   Column  Non-Null Count  Dtype  \n",
      "---  ------  --------------  -----  \n",
      " 0   지역별     23256 non-null  object \n",
      " 1   상품군별    23256 non-null  object \n",
      " 2   판매유형별   23256 non-null  object \n",
      " 3   기간      23256 non-null  object \n",
      " 4   백만원     7200 non-null   float64\n",
      " 5   연도      23256 non-null  int64  \n",
      " 6   분기      23256 non-null  int64  \n",
      "dtypes: float64(1), int64(2), object(4)\n",
      "memory usage: 1.2+ MB\n"
     ]
    }
   ],
   "source": [
    "df_new.info()"
   ]
  },
  {
   "cell_type": "markdown",
   "metadata": {},
   "source": [
    "### 2.6 필요없는 데이터 제거하기"
   ]
  },
  {
   "cell_type": "code",
   "execution_count": 102,
   "metadata": {},
   "outputs": [
    {
     "data": {
      "text/html": [
       "<div>\n",
       "<style scoped>\n",
       "    .dataframe tbody tr th:only-of-type {\n",
       "        vertical-align: middle;\n",
       "    }\n",
       "\n",
       "    .dataframe tbody tr th {\n",
       "        vertical-align: top;\n",
       "    }\n",
       "\n",
       "    .dataframe thead th {\n",
       "        text-align: right;\n",
       "    }\n",
       "</style>\n",
       "<table border=\"1\" class=\"dataframe\">\n",
       "  <thead>\n",
       "    <tr style=\"text-align: right;\">\n",
       "      <th></th>\n",
       "      <th>지역별</th>\n",
       "      <th>상품군별</th>\n",
       "      <th>판매유형별</th>\n",
       "      <th>기간</th>\n",
       "      <th>백만원</th>\n",
       "      <th>연도</th>\n",
       "      <th>분기</th>\n",
       "    </tr>\n",
       "  </thead>\n",
       "  <tbody>\n",
       "    <tr>\n",
       "      <th>54</th>\n",
       "      <td>아시아</td>\n",
       "      <td>컴퓨터 및 주변기기</td>\n",
       "      <td>계</td>\n",
       "      <td>2014.1/4</td>\n",
       "      <td>NaN</td>\n",
       "      <td>2014</td>\n",
       "      <td>1</td>\n",
       "    </tr>\n",
       "    <tr>\n",
       "      <th>55</th>\n",
       "      <td>아시아</td>\n",
       "      <td>컴퓨터 및 주변기기</td>\n",
       "      <td>면세점</td>\n",
       "      <td>2014.1/4</td>\n",
       "      <td>NaN</td>\n",
       "      <td>2014</td>\n",
       "      <td>1</td>\n",
       "    </tr>\n",
       "    <tr>\n",
       "      <th>56</th>\n",
       "      <td>아시아</td>\n",
       "      <td>컴퓨터 및 주변기기</td>\n",
       "      <td>면세점 이외</td>\n",
       "      <td>2014.1/4</td>\n",
       "      <td>NaN</td>\n",
       "      <td>2014</td>\n",
       "      <td>1</td>\n",
       "    </tr>\n",
       "    <tr>\n",
       "      <th>57</th>\n",
       "      <td>아시아</td>\n",
       "      <td>가전·전자·통신기기</td>\n",
       "      <td>계</td>\n",
       "      <td>2014.1/4</td>\n",
       "      <td>NaN</td>\n",
       "      <td>2014</td>\n",
       "      <td>1</td>\n",
       "    </tr>\n",
       "    <tr>\n",
       "      <th>58</th>\n",
       "      <td>아시아</td>\n",
       "      <td>가전·전자·통신기기</td>\n",
       "      <td>면세점</td>\n",
       "      <td>2014.1/4</td>\n",
       "      <td>NaN</td>\n",
       "      <td>2014</td>\n",
       "      <td>1</td>\n",
       "    </tr>\n",
       "    <tr>\n",
       "      <th>...</th>\n",
       "      <td>...</td>\n",
       "      <td>...</td>\n",
       "      <td>...</td>\n",
       "      <td>...</td>\n",
       "      <td>...</td>\n",
       "      <td>...</td>\n",
       "      <td>...</td>\n",
       "    </tr>\n",
       "    <tr>\n",
       "      <th>23251</th>\n",
       "      <td>기타</td>\n",
       "      <td>생활·자동차용품</td>\n",
       "      <td>면세점</td>\n",
       "      <td>2019.4/4</td>\n",
       "      <td>0.0</td>\n",
       "      <td>2019</td>\n",
       "      <td>4</td>\n",
       "    </tr>\n",
       "    <tr>\n",
       "      <th>23252</th>\n",
       "      <td>기타</td>\n",
       "      <td>생활·자동차용품</td>\n",
       "      <td>면세점 이외</td>\n",
       "      <td>2019.4/4</td>\n",
       "      <td>531.0</td>\n",
       "      <td>2019</td>\n",
       "      <td>4</td>\n",
       "    </tr>\n",
       "    <tr>\n",
       "      <th>23253</th>\n",
       "      <td>기타</td>\n",
       "      <td>기 타</td>\n",
       "      <td>계</td>\n",
       "      <td>2019.4/4</td>\n",
       "      <td>1094.0</td>\n",
       "      <td>2019</td>\n",
       "      <td>4</td>\n",
       "    </tr>\n",
       "    <tr>\n",
       "      <th>23254</th>\n",
       "      <td>기타</td>\n",
       "      <td>기 타</td>\n",
       "      <td>면세점</td>\n",
       "      <td>2019.4/4</td>\n",
       "      <td>1.0</td>\n",
       "      <td>2019</td>\n",
       "      <td>4</td>\n",
       "    </tr>\n",
       "    <tr>\n",
       "      <th>23255</th>\n",
       "      <td>기타</td>\n",
       "      <td>기 타</td>\n",
       "      <td>면세점 이외</td>\n",
       "      <td>2019.4/4</td>\n",
       "      <td>1093.0</td>\n",
       "      <td>2019</td>\n",
       "      <td>4</td>\n",
       "    </tr>\n",
       "  </tbody>\n",
       "</table>\n",
       "<p>20736 rows × 7 columns</p>\n",
       "</div>"
      ],
      "text/plain": [
       "       지역별        상품군별   판매유형별        기간     백만원    연도  분기\n",
       "54     아시아  컴퓨터 및 주변기기       계  2014.1/4     NaN  2014   1\n",
       "55     아시아  컴퓨터 및 주변기기     면세점  2014.1/4     NaN  2014   1\n",
       "56     아시아  컴퓨터 및 주변기기  면세점 이외  2014.1/4     NaN  2014   1\n",
       "57     아시아  가전·전자·통신기기       계  2014.1/4     NaN  2014   1\n",
       "58     아시아  가전·전자·통신기기     면세점  2014.1/4     NaN  2014   1\n",
       "...    ...         ...     ...       ...     ...   ...  ..\n",
       "23251   기타    생활·자동차용품     면세점  2019.4/4     0.0  2019   4\n",
       "23252   기타    생활·자동차용품  면세점 이외  2019.4/4   531.0  2019   4\n",
       "23253   기타         기 타       계  2019.4/4  1094.0  2019   4\n",
       "23254   기타         기 타     면세점  2019.4/4     1.0  2019   4\n",
       "23255   기타         기 타  면세점 이외  2019.4/4  1093.0  2019   4\n",
       "\n",
       "[20736 rows x 7 columns]"
      ]
     },
     "execution_count": 102,
     "metadata": {},
     "output_type": "execute_result"
    }
   ],
   "source": [
    "df_new = df_new[(df_new['지역별'] != '합계') & (df_new['상품군별'] != '합계')].copy()\n",
    "df_new"
   ]
  },
  {
   "cell_type": "code",
   "execution_count": 103,
   "metadata": {},
   "outputs": [
    {
     "name": "stdout",
     "output_type": "stream",
     "text": [
      "<class 'pandas.core.frame.DataFrame'>\n",
      "Int64Index: 20736 entries, 54 to 23255\n",
      "Data columns (total 7 columns):\n",
      " #   Column  Non-Null Count  Dtype  \n",
      "---  ------  --------------  -----  \n",
      " 0   지역별     20736 non-null  object \n",
      " 1   상품군별    20736 non-null  object \n",
      " 2   판매유형별   20736 non-null  object \n",
      " 3   기간      20736 non-null  object \n",
      " 4   백만원     6048 non-null   float64\n",
      " 5   연도      20736 non-null  int64  \n",
      " 6   분기      20736 non-null  int64  \n",
      "dtypes: float64(1), int64(2), object(4)\n",
      "memory usage: 1.3+ MB\n"
     ]
    }
   ],
   "source": [
    "df_new.info()"
   ]
  },
  {
   "cell_type": "code",
   "execution_count": 105,
   "metadata": {},
   "outputs": [
    {
     "data": {
      "text/plain": [
       "지역별          0\n",
       "상품군별         0\n",
       "판매유형별        0\n",
       "기간           0\n",
       "백만원      14688\n",
       "연도           0\n",
       "분기           0\n",
       "dtype: int64"
      ]
     },
     "execution_count": 105,
     "metadata": {},
     "output_type": "execute_result"
    }
   ],
   "source": [
    "df_new.isnull().sum()"
   ]
  },
  {
   "cell_type": "markdown",
   "metadata": {},
   "source": [
    "# 3. 전체 상품군별 시각화"
   ]
  },
  {
   "cell_type": "markdown",
   "metadata": {},
   "source": [
    "### 3.1 전체 상품군 판매액 시각화"
   ]
  },
  {
   "cell_type": "code",
   "execution_count": 108,
   "metadata": {},
   "outputs": [
    {
     "data": {
      "text/html": [
       "<div>\n",
       "<style scoped>\n",
       "    .dataframe tbody tr th:only-of-type {\n",
       "        vertical-align: middle;\n",
       "    }\n",
       "\n",
       "    .dataframe tbody tr th {\n",
       "        vertical-align: top;\n",
       "    }\n",
       "\n",
       "    .dataframe thead th {\n",
       "        text-align: right;\n",
       "    }\n",
       "</style>\n",
       "<table border=\"1\" class=\"dataframe\">\n",
       "  <thead>\n",
       "    <tr style=\"text-align: right;\">\n",
       "      <th></th>\n",
       "      <th>지역별</th>\n",
       "      <th>상품군별</th>\n",
       "      <th>판매유형별</th>\n",
       "      <th>기간</th>\n",
       "      <th>백만원</th>\n",
       "      <th>연도</th>\n",
       "      <th>분기</th>\n",
       "    </tr>\n",
       "  </thead>\n",
       "  <tbody>\n",
       "    <tr>\n",
       "      <th>54</th>\n",
       "      <td>아시아</td>\n",
       "      <td>컴퓨터 및 주변기기</td>\n",
       "      <td>계</td>\n",
       "      <td>2014.1/4</td>\n",
       "      <td>NaN</td>\n",
       "      <td>2014</td>\n",
       "      <td>1</td>\n",
       "    </tr>\n",
       "    <tr>\n",
       "      <th>57</th>\n",
       "      <td>아시아</td>\n",
       "      <td>가전·전자·통신기기</td>\n",
       "      <td>계</td>\n",
       "      <td>2014.1/4</td>\n",
       "      <td>NaN</td>\n",
       "      <td>2014</td>\n",
       "      <td>1</td>\n",
       "    </tr>\n",
       "    <tr>\n",
       "      <th>60</th>\n",
       "      <td>아시아</td>\n",
       "      <td>가전·전자</td>\n",
       "      <td>계</td>\n",
       "      <td>2014.1/4</td>\n",
       "      <td>NaN</td>\n",
       "      <td>2014</td>\n",
       "      <td>1</td>\n",
       "    </tr>\n",
       "    <tr>\n",
       "      <th>63</th>\n",
       "      <td>아시아</td>\n",
       "      <td>통신기기</td>\n",
       "      <td>계</td>\n",
       "      <td>2014.1/4</td>\n",
       "      <td>NaN</td>\n",
       "      <td>2014</td>\n",
       "      <td>1</td>\n",
       "    </tr>\n",
       "    <tr>\n",
       "      <th>66</th>\n",
       "      <td>아시아</td>\n",
       "      <td>소프트웨어</td>\n",
       "      <td>계</td>\n",
       "      <td>2014.1/4</td>\n",
       "      <td>NaN</td>\n",
       "      <td>2014</td>\n",
       "      <td>1</td>\n",
       "    </tr>\n",
       "  </tbody>\n",
       "</table>\n",
       "</div>"
      ],
      "text/plain": [
       "    지역별        상품군별 판매유형별        기간  백만원    연도  분기\n",
       "54  아시아  컴퓨터 및 주변기기     계  2014.1/4  NaN  2014   1\n",
       "57  아시아  가전·전자·통신기기     계  2014.1/4  NaN  2014   1\n",
       "60  아시아       가전·전자     계  2014.1/4  NaN  2014   1\n",
       "63  아시아        통신기기     계  2014.1/4  NaN  2014   1\n",
       "66  아시아       소프트웨어     계  2014.1/4  NaN  2014   1"
      ]
     },
     "execution_count": 108,
     "metadata": {},
     "output_type": "execute_result"
    }
   ],
   "source": [
    "df_total = df_new[df_new['판매유형별'] == '계'].copy()\n",
    "df_total.head()"
   ]
  },
  {
   "cell_type": "code",
   "execution_count": 111,
   "metadata": {},
   "outputs": [
    {
     "data": {
      "image/png": "[encoded data removed]",
      "text/plain": [
       "<Figure size 640x480 with 1 Axes>"
      ]
     },
     "metadata": {},
     "output_type": "display_data"
    }
   ],
   "source": [
    "sns.lineplot(data=df_total, x='연도', y='백만원')\n",
    "plt.show()"
   ]
  },
  {
   "cell_type": "code",
   "execution_count": 114,
   "metadata": {},
   "outputs": [
    {
     "data": {
      "image/png": "[encoded data removed]",
      "text/plain": [
       "<Figure size 640x480 with 1 Axes>"
      ]
     },
     "metadata": {},
     "output_type": "display_data"
    }
   ],
   "source": [
    "sns.lineplot(data=df_total, x='연도', y='백만원', hue='상품군별')\n",
    "plt.legend(bbox_to_anchor=(1.05, 1), loc=2, borderaxespad=0.)\n",
    "plt.show()"
   ]
  }
 ],
 "metadata": {
  "kernelspec": {
   "display_name": "Python 3",
   "language": "python",
   "name": "python3"
  },
  "language_info": {
   "codemirror_mode": {
    "name": "ipython",
    "version": 3
   },
   "file_extension": ".py",
   "mimetype": "text/x-python",
   "name": "python",
   "nbconvert_exporter": "python",
   "pygments_lexer": "ipython3",
   "version": "3.9.6"
  }
 },
 "nbformat": 4,
 "nbformat_minor": 2
}
