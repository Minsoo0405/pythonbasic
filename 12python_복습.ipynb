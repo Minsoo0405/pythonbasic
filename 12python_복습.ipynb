{
 "cells": [
  {
   "attachments": {},
   "cell_type": "markdown",
   "metadata": {},
   "source": [
    "# 객체와 클래스\n",
    "\n",
    "### 1. 클래스 선언과 객체 생성\n",
    "\n",
    "        1) 객체(Object)란?\n",
    "            1-1. 객체\n",
    "                - 속성(상태, 특징)과 행위(행동, 동작, 기능)로 구성된 대상\n",
    "                - 변수와 함수의 묶음.\n",
    "                - 객체의 특징인 속성은 변수로, 객체가 할 수 있는 일인 행동은 함수로 구현\n",
    "            1.2. 객체지향 프로그래밍(Object-Oriented Programming, OOP)\n",
    "                - 객체를 만들고 이용할 수 있는 기능을 제공하는 프로그래밍 언어\n",
    "            1.3. 클래스 선언\n",
    "                - 클래스는 객체의 공통된 속성과 행위를 변수와 함수로 정의한 것.\n",
    "                - 클래스는 객체를 만들기 위한 기본 틀이고 객체는 기본 틀을 바탕으로 만들어진 결과.\n",
    "                - 클래스에서 정의한 한수의 첫 번째 인자는 self\n",
    "                - self는 객체 생성 후에 자신을 참조하는데 이용됨.\n",
    "            1.4. 객체 생성 및 활용\n",
    "            1.5. 객체 초기화\n",
    "                - 클래스를 선언할 때 초기화 함수를 구현하면 객체를 생성하는 것과 동시에 속성값을 지정할수 있음."
   ]
  },
  {
   "cell_type": "code",
   "execution_count": 16,
   "metadata": {},
   "outputs": [],
   "source": [
    "# 클래스 선언\n",
    "class Bicycle():\n",
    "    # move(), turn(), stop() 함수를 추가\n",
    "    def move(self, speed):\n",
    "        print(\"자전거: 시속 {0}킬로미터로 전진\".format(speed))\n",
    "\n",
    "    def turn(self, direction):\n",
    "        print(\"자전거: {0}회전\".format(direction))\n",
    "\n",
    "    def stop(self):\n",
    "        print(\"자전거({0}, {1}): 정지\". format(self.wheel_size, self.color))    # self.wheel_size와 self.color로 객체의 속성값을 가져와서 출력"
   ]
  },
  {
   "cell_type": "code",
   "execution_count": 17,
   "metadata": {},
   "outputs": [
    {
     "name": "stdout",
     "output_type": "stream",
     "text": [
      "자전거: 시속 30킬로미터로 전진\n",
      "자전거: 좌회전\n",
      "자전거(26, black): 정지\n"
     ]
    }
   ],
   "source": [
    "# 클래스 생성\n",
    "my_bicycle = Bicycle()\n",
    "my_bicycle  # Bicycle 클래스의 인스턴스\n",
    "\n",
    "# 인스턴스에 속성값 설정\n",
    "my_bicycle.wheel_size = 26\n",
    "my_bicycle.color = 'black'\n",
    "\n",
    "# 객체의 메서드 호출\n",
    "my_bicycle.move(30)\n",
    "my_bicycle.turn(\"좌\")\n",
    "my_bicycle.stop()"
   ]
  },
  {
   "cell_type": "code",
   "execution_count": 21,
   "metadata": {},
   "outputs": [
    {
     "name": "stdout",
     "output_type": "stream",
     "text": [
      "자전거: 시속 20킬로미터로 전진\n",
      "자전거: 좌회전\n",
      "자전거(27, red): 정지\n"
     ]
    }
   ],
   "source": [
    "# 클래스의 인스턴스인 bicycle1 객체 생성\n",
    "bicycle1 = Bicycle()\n",
    "\n",
    "# 객체의 속성 설정\n",
    "bicycle1.wheel_size = 27\n",
    "bicycle1.color = 'red'\n",
    "\n",
    "# 객체의 메서드 호출\n",
    "bicycle1.move(20)\n",
    "bicycle1.turn(\"좌\")\n",
    "bicycle1.stop()"
   ]
  },
  {
   "cell_type": "code",
   "execution_count": 22,
   "metadata": {},
   "outputs": [
    {
     "name": "stdout",
     "output_type": "stream",
     "text": [
      "자전거: 시속 15킬로미터로 전진\n",
      "자전거: 우회전\n",
      "자전거(24, blue): 정지\n"
     ]
    }
   ],
   "source": [
    "# 클래스의 인스턴스인 bicycle2 객체 생성\n",
    "bicycle2 = Bicycle()\n",
    "\n",
    "# 객체의 속성 설정\n",
    "bicycle2.wheel_size = 24\n",
    "bicycle2.color = 'blue'\n",
    "\n",
    "# 객체의 메서드 호출\n",
    "bicycle2.move(15)\n",
    "bicycle2.turn(\"우\")\n",
    "bicycle2.stop()"
   ]
  },
  {
   "cell_type": "code",
   "execution_count": 23,
   "metadata": {},
   "outputs": [],
   "source": [
    "class Bicycle():\n",
    "    def __init__(self, wheel_size, color):\n",
    "        self.wheel_size = wheel_size\n",
    "        self.color = color\n",
    "        \n",
    "    def move(self, speed):\n",
    "        print(\"자전거: 시속 {0}킬로미터로 전진\".format(speed))\n",
    "\n",
    "    def turn(self, direction):\n",
    "        print(\"자전거: {0}회전\".format(direction))\n",
    "\n",
    "    def stop(self):\n",
    "        print(\"자전거({0}, {1}): 정지\". format(self.wheel_size, self.color))"
   ]
  },
  {
   "cell_type": "code",
   "execution_count": 24,
   "metadata": {},
   "outputs": [
    {
     "name": "stdout",
     "output_type": "stream",
     "text": [
      "자전거: 시속 30킬로미터로 전진\n",
      "자전거: 좌회전\n",
      "자전거(26, black): 정지\n"
     ]
    }
   ],
   "source": [
    "my_bicycle = Bicycle(26, 'black') # 객체 생성과 동시에 속성값을 지정\n",
    "\n",
    "# 객체의 메서드 호출\n",
    "my_bicycle.move(30)\n",
    "my_bicycle.turn(\"좌\")\n",
    "my_bicycle.stop()"
   ]
  }
 ],
 "metadata": {
  "kernelspec": {
   "display_name": "Python 3",
   "language": "python",
   "name": "python3"
  },
  "language_info": {
   "codemirror_mode": {
    "name": "ipython",
    "version": 3
   },
   "file_extension": ".py",
   "mimetype": "text/x-python",
   "name": "python",
   "nbconvert_exporter": "python",
   "pygments_lexer": "ipython3",
   "version": "3.11.1"
  },
  "orig_nbformat": 4,
  "vscode": {
   "interpreter": {
    "hash": "5c7b89af1651d0b8571dde13640ecdccf7d5a6204171d6ab33e7c296e100e08a"
   }
  }
 },
 "nbformat": 4,
 "nbformat_minor": 2
}
