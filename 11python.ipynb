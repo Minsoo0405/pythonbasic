{
 "cells": [
  {
   "attachments": {},
   "cell_type": "markdown",
   "metadata": {},
   "source": [
    "# NumPy(넘파이)\n",
    "\n",
    "    1. 파이썬 내장 모듈이 아니므로 별도의 설치가 필요\n",
    "    2. 숫자 데이터를 좀 더 쉽고 효과적으로 다룰 수 있음.\n",
    "    3. 다차원의 배열 자료구조 클래스인 ndarray 클래스를 지원.\n",
    "    4. 배열(array) : 순서가 있는 같은 종류(type)의 데이터가 저장되는 자료형\n",
    "    5. 벡터화 연산(vectorized operation)\n",
    "\n",
    "#### Numpy Array VS Python List\n",
    "    \n",
    "    1. Numpy Array : data, deimensions, strides(type 고정)\n",
    "    2. Python List : length, items(자유로움 -> 넣었다 뺐다 바꿨다 ... / 주소를 통해 값을 가져오므로 메모리를 많이 차지하고 속도가 느림, 다양한 type으로 가지고 있을수 있음)\n",
    "\n",
    "#### 넘파이 패키지 임포트하기\n",
    "\n",
    "    1. import numpy as np\n",
    "\n",
    "#### 1차원 배열 만들기\n",
    "\n",
    "    1. ndarray는 N-dimensional Array의 약자\n",
    "    2. numpy의 array 메서드 인수로 시퀀스 자료형을 넣으면 ndarray 클래스 객체, 즉 numpy배열로 변환해줌.\n",
    "    3. 시퀀스 자료형은 튜플보다 주로 리스트를 많이 활용함.\n",
    "    4. 정수와 실수가 혼합된 리스트라면 표현 범위가 더 큰 자료형으로 변환되어 실수 타입으로 변환함.\n",
    "    5. 넘파이의 배열인 ndarray클래스는 요소가 모두 같은 자료형을 갖는다.\n",
    "\n",
    "#### 넘파이의 자료형\n",
    "    1. boolean(참 또는 거짓) : '?'\n",
    "    2. int(정수) : 'i\", i8(64bit)\n",
    "    3. unsigned int(양수와 음수) : 'u', u8(64bit)\n",
    "    4. float : 'f', f8(64bit)\n",
    "    5. complex : 'c',c16(128bit)\n",
    "    6. Object: 'O', 0(객체에 대한 포인터)\n",
    "    7. Unicode string : 'U', U24(24 유니코드 글자)\n",
    "    8. 무한대 : np.inf(infinity)\n",
    "    9. 정의할 수 없는 숫자 : np.nan(not a number)\n",
    "\n",
    "#### 벡터화 연산(Vectorized Operation)\n",
    "    1. 배열의 각 요소에 대한 반복 연산을 하나의 명령어로 처리하는 벡터화 연산을 지원함.\n",
    "    2. for 반복문이 없이 연산식을 표현할수 있음.\n",
    "\n",
    "#### 2차원 배열 만들기 \n",
    "    1. 2차원 배열은 행렬(matrix)\n",
    "    2. 가로줄을 행(row), 세로줄을 열(column)\n",
    "    3. 리시트를 중첩하여 리스트의 리스트를 이용해서 2차원 배열처럼 생성할 수 있음.\n",
    "\n",
    "#### 3차원 배열 만들기\n",
    "    1. 3차원 배열의 구조는 '깊이 * 행 * 열'\n",
    "    2. axis 0 : 깊이 / axis 1 : 행 / axis 2 : 열\n",
    "    3. len(d) : 깊이 / len(d[0]) : 행 / len(d[0][0])\n",
    "    4. ndim 속성과 shape 속성 :배열의 차원과 크기를 구할 수 있음.   \n",
    "    5. 인덱싱과 슬라이싱\n",
    "\n",
    "#### 배열 생성\n",
    "    1. 단순한 배열을 생성하는 메서드를 제공함.\n",
    "        1.1. zeros, ones : 모든 값을 0이나 1로 공간을 할당\n",
    "        1.2. zeros_like, ones_like : shape의 배열을 생성하고 모든 값을 0이나 1로 할당\n",
    "        1.3. empty : 공간만 할당\n",
    "        1.4. arange : range의 형태로 할당\n",
    "        1.5. linspace : 등간격으로 갯수대로 출력해줌.\n",
    "        1.6. logspace : log 간격으로 갯수대로 출력해줌.\n",
    "        1.7. flatten, ravel :  1차원 배열\n",
    "    2. 속성\n",
    "        2.1. transpose : 행과 열을 바꿔서 출력\n",
    "        2.2. reshape : 주어진 행과 열로 나눠줌. / 뒤에 -1로 입력하면 알아서 배열을 맞춰줌\n",
    "        2.3. newaxis :1차원 증가시킴\n",
    "    3. 배열 연결\n",
    "        3.1. hstack : 배열을 수평으로 붙여줌.\n",
    "        3.2. vstack : 배열을 수직으로 붙여줌.\n",
    "        3.3. dstack : 배열을 깊이로 붙여줌.\n",
    "        3.4. stack : 저정한 차원(축으로) 배열을 연결 / default는 0임.\n",
    "        3.5. r_ : hstack 명령과 비슷하게 배열을 좌우로 연결 / []을 사용\n",
    "        3.6. c_ : 세로 배열로 연결 / []을 사용\n",
    "        3.7. tile : 동일한 배열을 반복"
   ]
  },
  {
   "cell_type": "code",
   "execution_count": null,
   "metadata": {},
   "outputs": [],
   "source": [
    "a = np.zeros((3, 3))\n",
    "a\n",
    "b = np.ones((3, 2))\n",
    "b\n",
    "c = np.arange(10,160,10)\n",
    "c.reshape(3, 5)\n",
    "\n",
    "ab = np.hstack([a, b])\n",
    "abc = np.vstack([ab, c])\n",
    "abc = np.tile"
   ]
  },
  {
   "cell_type": "code",
   "execution_count": 204,
   "metadata": {},
   "outputs": [],
   "source": [
    "import numpy as np"
   ]
  },
  {
   "cell_type": "code",
   "execution_count": 1,
   "metadata": {},
   "outputs": [],
   "source": [
    "class Calculator():                     # Calculator() : 인스턴스 초기화 / Calculator.속성 : 인스턴스 속성 상속\n",
    "    def __init__(self, value=0):\n",
    "        self.value = value\n",
    "\n",
    "    def add(self, *args):\n",
    "        self.value += np.sum(args)\n",
    "        return\n",
    "    \n",
    "    def minus(self, *args):\n",
    "        self.value -= np.sum(args)\n",
    "        return\n",
    "    \n",
    "    def show_value(self):\n",
    "        print(f'현재 값은 {self.value}입니다')"
   ]
  },
  {
   "cell_type": "code",
   "execution_count": 223,
   "metadata": {},
   "outputs": [
    {
     "name": "stdout",
     "output_type": "stream",
     "text": [
      "현재 값은 80입니다\n",
      "현재 값은 50입니다\n",
      "현재 값은 65입니다\n"
     ]
    }
   ],
   "source": [
    "c = Calculator()\n",
    "c.add(100)\n",
    "c.minus(20)\n",
    "c.show_value()\n",
    "c.minus([10, 20])\n",
    "c.show_value()\n",
    "c.add(range(1, 6))\n",
    "c.show_value()"
   ]
  },
  {
   "cell_type": "code",
   "execution_count": 236,
   "metadata": {},
   "outputs": [
    {
     "data": {
      "text/plain": [
       "45"
      ]
     },
     "execution_count": 236,
     "metadata": {},
     "output_type": "execute_result"
    }
   ],
   "source": [
    "hasattr(range, \"__iter__\")      # range도 iterable로 사용이 가능하다.\n",
    "\n",
    "sum(range(10))"
   ]
  },
  {
   "cell_type": "code",
   "execution_count": 224,
   "metadata": {},
   "outputs": [],
   "source": [
    "import numpy as np\n",
    "\n",
    "class Calculator:\n",
    "    def __init__(self):\n",
    "        self.value = 0\n",
    "    \n",
    "    def add(self, *number):\n",
    "        if len(number) > 0:             # 길이가 있다는 것은 값이 있다는 것\n",
    "            num = np.array(number)      #  \n",
    "            self.value += np.sum(num)\n",
    "        else:\n",
    "            print(\"숫자를 입력해주세요.\")\n",
    "\n",
    "    def minus(self, *number):\n",
    "        if len(number) > 0:\n",
    "            num = np.array(number)\n",
    "            self.value -= np.sum(num)\n",
    "        else:\n",
    "            print(\"숫자를 입력하세요.\")\n",
    "\n",
    "    def show_value(self):\n",
    "        print(f'현재 값은 {self.value}입니다')"
   ]
  },
  {
   "cell_type": "code",
   "execution_count": 225,
   "metadata": {},
   "outputs": [
    {
     "name": "stdout",
     "output_type": "stream",
     "text": [
      "현재 값은 80입니다\n",
      "현재 값은 50입니다\n",
      "현재 값은 65입니다\n"
     ]
    }
   ],
   "source": [
    "c = Calculator()\n",
    "c.add(100)\n",
    "c.minus(20)\n",
    "c.show_value()\n",
    "c.minus([10, 20])       # packing을 해서 tuple형태로 가지고 옴.\n",
    "c.show_value()\n",
    "c.add(range(1, 6))\n",
    "c.show_value()"
   ]
  },
  {
   "attachments": {},
   "cell_type": "markdown",
   "metadata": {},
   "source": [
    "#### 벡터화 연산\n",
    "\n",
    "    1. 넘파이에서 벡터화 연산을 하여 속도가 빠름.\n",
    "    2. 사칙 연산뿐 아니라 비교 연산과 같은 논리 연산도 벡터화 연산이 가능\n",
    "        2.1. 출력은 배열만큼 출력해줌.\n",
    "        2.2. all은 배열의 모든 원소들의 조건이 맞는지 확인해줌.\n",
    "    3. 스칼라와 벡터/행렬의 곱셈\n",
    "    4. 브로드캐스팅\n",
    "        4.1. 산술 연산을 하려면 두 배열의 shapes가 정확히 같아야 함.\n",
    "        4.2. 브로드캐스팅이란 모양이 다른 배열 간의 연산이 가능하도록 배열의 크기를 변환시켜주는 것.\n",
    "        4.3. 브로드캐스팅 규칙\n",
    "            - 스칼라 곱을 활용한 형태가 더 적은 메모리를 가지므로 더 효율적임.\n",
    "            4.3.1. 넘파이 배열의 shape을 우측 정렬하고 두 조건 중 하나에 충족되어야 함. -> (깊이*행*열) (행*열)\n",
    "                a. 해당 차원 간의 숫자가 동일한 경우\n",
    "                b. 해당 차원 중 하나가 1인 경우\n",
    "            4.3.2. 브로드캐스팅이 가능하지 않을 때 ValueErro를 발생시킴.\n",
    "        4.4. 차원 축소 연산\n",
    "            - 행렬의 하나의 행에 있는 원소들을 하나의 데이터 집합으로 보고 그 집합의 평균을 구하면 각 행에 대한 하나의 숫자가 나오게 되어 1차원 벡터로 변환하게 됨.\n",
    "            4.4.1. 최대/최소 : min, max, argmin, argmax\n",
    "                a. min() : 해당 배열의 제일 작은 값을 반환\n",
    "                b. argmin() : 해당 배열의 제일 작은 값의 인덱스를 반환\n",
    "                c. max() : 해당 배열의 제일 큰 값을 반환\n",
    "                d. argmax() : 해당 배열의 제일 큰 값의 인덱스를 반환\n",
    "            4.4.2. 통계 : sum, mean, median, std, var\n",
    "                a. sum() : 해당 배열의 합산 결과를 반환 / np.sum()과 ndarray.sum()은 동둥한 매서드임.\n",
    "                b. mean() : 평균\n",
    "                c. median() : 중앙값\n",
    "            4.4.3. 불리언 : all, any\n",
    "                a. np.all() : 배열 요소가 모두 True일 때 True를 반환\n",
    "                b. np.any() : 배열 요소가 하나라도 True이면 True를 반환\n",
    "        5.1. 정렬\n",
    "            5.1.1. np.sort()\n",
    "                a. 배열 안의 원소를 크기에 따라 정렬하여 새로운 배열을 만들어줌.\n",
    "                b. axis=0이면 각각의 행을 따로따로 정렬, axis=1이면 각각의 열을 따로따로 정렬\n",
    "            5.1.2. ndarray.sort()\n",
    "                a. 해당 객첵의 자료 자체가 변화하는 자체변화\n",
    "            5.1.3. argsort\n",
    "                a. 순서만 알고 싶을 때 사용하며, 인덱스 형태로 나타냄.\n",
    "            5.1.4. 고급 인덱싱 - 인덱스 배열을 사용한 인덱싱"
   ]
  },
  {
   "cell_type": "code",
   "execution_count": 229,
   "metadata": {},
   "outputs": [],
   "source": [
    "x = np.arange(1, 10001)\n",
    "y = np.arange(10001, 20001)"
   ]
  },
  {
   "cell_type": "code",
   "execution_count": 230,
   "metadata": {},
   "outputs": [
    {
     "name": "stdout",
     "output_type": "stream",
     "text": [
      "CPU times: user 226 µs, sys: 270 µs, total: 496 µs\n",
      "Wall time: 867 µs\n"
     ]
    }
   ],
   "source": [
    "%%time\n",
    "z = x + y"
   ]
  },
  {
   "cell_type": "code",
   "execution_count": 232,
   "metadata": {},
   "outputs": [
    {
     "data": {
      "text/plain": [
       "array([False,  True,  True, False])"
      ]
     },
     "execution_count": 232,
     "metadata": {},
     "output_type": "execute_result"
    }
   ],
   "source": [
    "a = np.array([1, 2 ,3, 4])\n",
    "b = np.array([4, 2, 3, 1])\n",
    "\n",
    "a == b"
   ]
  },
  {
   "cell_type": "code",
   "execution_count": 233,
   "metadata": {},
   "outputs": [
    {
     "data": {
      "text/plain": [
       "False"
      ]
     },
     "execution_count": 233,
     "metadata": {},
     "output_type": "execute_result"
    }
   ],
   "source": [
    "a = np.array([1, 2 ,3, 4])\n",
    "b = np.array([4, 2, 3, 1])\n",
    "\n",
    "all(a == b)"
   ]
  },
  {
   "cell_type": "code",
   "execution_count": 234,
   "metadata": {},
   "outputs": [
    {
     "data": {
      "text/plain": [
       "array([2., 4., 6.])"
      ]
     },
     "execution_count": 234,
     "metadata": {},
     "output_type": "execute_result"
    }
   ],
   "source": [
    "# 브로드캐스팅 규칙\n",
    "a = np.array([1.0, 2.0, 3.0])\n",
    "b = 2.0                         # 스칼라 b는 열이 하나인 형태인데, 벡터 a가 열이 세 개인 형태에 b의 형태로 변환 => np.array([2.0, 2.0, 2.0])\n",
    "a * b"
   ]
  },
  {
   "cell_type": "code",
   "execution_count": 237,
   "metadata": {},
   "outputs": [
    {
     "data": {
      "text/plain": [
       "array([[[ 0,  1],\n",
       "        [ 2,  3],\n",
       "        [ 4,  5],\n",
       "        [ 6,  7],\n",
       "        [ 8,  9]],\n",
       "\n",
       "       [[10, 11],\n",
       "        [12, 13],\n",
       "        [14, 15],\n",
       "        [16, 17],\n",
       "        [18, 19]]])"
      ]
     },
     "execution_count": 237,
     "metadata": {},
     "output_type": "execute_result"
    }
   ],
   "source": [
    "# argmin()\n",
    "x = np.arange(20).reshape(2, 5, -1)\n",
    "x"
   ]
  },
  {
   "cell_type": "code",
   "execution_count": 268,
   "metadata": {},
   "outputs": [
    {
     "data": {
      "text/plain": [
       "array([[0, 0, 0, 0, 0],\n",
       "       [0, 0, 0, 0, 0]])"
      ]
     },
     "execution_count": 268,
     "metadata": {},
     "output_type": "execute_result"
    }
   ],
   "source": [
    "# argmin()\n",
    "x.argmin(axis=0)\n",
    "np.argmin(x, axis=1)\n",
    "np.argmin(x, axis=2)"
   ]
  },
  {
   "cell_type": "code",
   "execution_count": 242,
   "metadata": {},
   "outputs": [
    {
     "data": {
      "text/plain": [
       "array([[[ 0,  1],\n",
       "        [ 2,  3],\n",
       "        [ 4,  5],\n",
       "        [ 6,  7],\n",
       "        [ 8,  9]],\n",
       "\n",
       "       [[10, 11],\n",
       "        [12, 13],\n",
       "        [14, 15],\n",
       "        [16, 17],\n",
       "        [18, 19]]])"
      ]
     },
     "execution_count": 242,
     "metadata": {},
     "output_type": "execute_result"
    }
   ],
   "source": [
    "# argmax()\n",
    "x = np.arange(20).reshape(2, 5, -1)\n",
    "x"
   ]
  },
  {
   "cell_type": "code",
   "execution_count": 243,
   "metadata": {},
   "outputs": [
    {
     "data": {
      "text/plain": [
       "array([[1, 1, 1, 1, 1],\n",
       "       [1, 1, 1, 1, 1]])"
      ]
     },
     "execution_count": 243,
     "metadata": {},
     "output_type": "execute_result"
    }
   ],
   "source": [
    "# argmax()\n",
    "x.argmax(axis=0)\n",
    "np.argmax(x, axis=1)\n",
    "np.argmax(x, axis=2)"
   ]
  },
  {
   "cell_type": "code",
   "execution_count": 269,
   "metadata": {},
   "outputs": [
    {
     "data": {
      "text/plain": [
       "array([0.7, 1.1, 2.7, 2.1, 2.8, 0.2])"
      ]
     },
     "execution_count": 269,
     "metadata": {},
     "output_type": "execute_result"
    }
   ],
   "source": [
    "# 5 * 6(깊이가 1)\n",
    "practice = np.array([[1.1, 7.1, 8.0, 2.1, 6.5, 7.2],\n",
    "                     [2.7, 5.2, 3.3, 9.0, 7.7, 2.8],\n",
    "                     [0.7, 8.8, 4.2, 8.9, 4.3, 7.4],\n",
    "                     [8.2, 1.1, 5.4, 2.9, 6.9, 0.2],\n",
    "                     [7.4, 4.8, 2.7, 3.1, 2.8, 8.9]])\n",
    "\n",
    "np.max(practice)\n",
    "practice.sum(axis=1)\n",
    "practice.max(axis=1)\n",
    "np.mean(practice, axis=0)\n",
    "np.min(practice,axis=0)"
   ]
  },
  {
   "cell_type": "code",
   "execution_count": 270,
   "metadata": {},
   "outputs": [
    {
     "data": {
      "text/plain": [
       "array([[1, 2],\n",
       "       [3, 4],\n",
       "       [5, 6]])"
      ]
     },
     "execution_count": 270,
     "metadata": {},
     "output_type": "execute_result"
    }
   ],
   "source": [
    "# 고급 인덱싱\n",
    "a = np.array([[1,2], [3,4], [5,6]])\n",
    "a"
   ]
  },
  {
   "cell_type": "code",
   "execution_count": 275,
   "metadata": {},
   "outputs": [
    {
     "name": "stdout",
     "output_type": "stream",
     "text": [
      "[1 4 5]\n"
     ]
    }
   ],
   "source": [
    "# 고급 인덱싱\n",
    "print(a[[0,1,2], [0,1,0]])      # 첫번째 인덱스가 행, 두번째 인덱스가 열"
   ]
  },
  {
   "cell_type": "code",
   "execution_count": 4,
   "metadata": {},
   "outputs": [
    {
     "name": "stdout",
     "output_type": "stream",
     "text": [
      "[[  1   4   2   3]\n",
      " [ 46  71  99 100]\n",
      " [ 81 100  59  90]]\n"
     ]
    }
   ],
   "source": [
    "# 두번째 행 영어성적 기준으로 각 열을 재정렬\n",
    "scores = np.array([[1, 2, 3, 4],\n",
    "                [46, 99, 100, 71],\n",
    "                [81, 59, 90, 100]])\n",
    "\n",
    "b = np.argsort(scores[1,:])     # b = [ 0, 3, 1, 2]\n",
    "print(scores[:,b])              # 행(0, 1, 2), 열(0, 3, 1, 2)로 변환"
   ]
  },
  {
   "cell_type": "code",
   "execution_count": 383,
   "metadata": {},
   "outputs": [
    {
     "name": "stdout",
     "output_type": "stream",
     "text": [
      "[[  1   4   2   3]\n",
      " [ 46  71  99 100]\n",
      " [ 81 100  59  90]]\n"
     ]
    }
   ],
   "source": [
    "# 두번째 행 영어성적 기준으로 각 열을 재정렬\n",
    "scores = np.array([[1, 2, 3, 4],\n",
    "                [46, 99, 100, 71],\n",
    "                [81, 59, 90, 100]])\n",
    "\n",
    "english_ranking = np.argsort(scores[1,:])\n",
    "\n",
    "print(scores[:, english_ranking])"
   ]
  },
  {
   "attachments": {},
   "cell_type": "markdown",
   "metadata": {},
   "source": [
    "#### 기술통계\n",
    "\n",
    "    1. 데이터 개수 : len()\n",
    "    2. 표본 평균 : mean()\n",
    "    3. 표본 분산 : var()\n",
    "    4. 표본 표준편차 : std()\n",
    "    5. 최대값과 최소값 : max(), min()\n",
    "    6. 중앙값 : median()\n",
    "    7. 사분위수 : percentile( , 25) - 1사분위수 / percentile( , 75) - 3사분위수\n",
    "\n",
    "##### 난수 발생과 카운팅\n",
    "\n",
    "    1. 시드 설정하기\n",
    "        - 컴퓨터가 정해진 알고리즘에 의해 난수처럼 보이는 수열을 생성함.\n",
    "        - 이런 기준이 되는 시작 숫자를 시드라고 함.\n",
    "        - np.rando.seed(0) : 인수로는 0과 같거나 큰 정수를 넣어주면 됨.\n",
    "    2. 데이터의 순서 바꾸기\n",
    "        - np.random.shuffle() / 자체변환 함수로 한번 사용하면 변수의 값이 바뀜.\n",
    "    3. 데이터 샘플링\n",
    "        - 데이터 집합에서 일부를 무작위로 선택하는 것\n",
    "        - np.random.choice(a, size=None, replace=True, p=None)\n",
    "        - a : 배열이면 원래의 데이터, 정수이면, arange(a)로 데이터 생성\n",
    "        - size : 정수(샘플 숫자)\n",
    "        - replace : 불리언 / True이면 한번 선택한 데이터를 다시 선택 가능.\n",
    "        - p : 배열 / 각 데이터가 선택될 수 있는 확률\n",
    "    4. 난수 생성\n",
    "        4.1. rand : 0부터 1사이의 균일 분포 / 여러개의 인수를 넣으면 해당 shape를 가진 행렬을 생성\n",
    "        4.2. randn : 표준 정규 분포 / 기대값이 1이고 표준편차가 1\n",
    "        4.3. randint : 균일 분포의 정수 난수 / np.random.randint(low, high=None, size=None)\n",
    "    5. 정수 데이터 카운팅\n",
    "        5.1. unique() : 중복된 값을 제거하고 중복되지 않는 값의 리스트를 출력\n",
    "            - return_counts 인수를 True로 설정하면 각 값의 데이터 개수도 출력 가능함.(데이터가 없는 경우 정보를 주지 않음)\n",
    "        5.2. bincount() : 주사위를 던졌을 때 나오는 수처럼 특정 범위안의 수인 경우에 사용\n",
    "            - minlength = ?를 사용하면 그 범위 내에 나올 수 있는 값에 대한 각 값의 데이터 개수를 출력함. "
   ]
  },
  {
   "cell_type": "code",
   "execution_count": 335,
   "metadata": {},
   "outputs": [
    {
     "data": {
      "text/plain": [
       "array([0.5488135 , 0.71518937, 0.60276338, 0.54488318, 0.4236548 ])"
      ]
     },
     "execution_count": 335,
     "metadata": {},
     "output_type": "execute_result"
    }
   ],
   "source": [
    "np.random.seed(0)\n",
    "np.random.rand(5)"
   ]
  },
  {
   "cell_type": "code",
   "execution_count": 336,
   "metadata": {},
   "outputs": [
    {
     "data": {
      "text/plain": [
       "array([0.64589411, 0.43758721, 0.891773  , 0.96366276, 0.38344152,\n",
       "       0.79172504, 0.52889492, 0.56804456, 0.92559664, 0.07103606])"
      ]
     },
     "execution_count": 336,
     "metadata": {},
     "output_type": "execute_result"
    }
   ],
   "source": [
    "np.random.rand(10)"
   ]
  },
  {
   "cell_type": "code",
   "execution_count": 337,
   "metadata": {},
   "outputs": [
    {
     "data": {
      "text/plain": [
       "array([0.0871293 , 0.0202184 , 0.83261985, 0.77815675, 0.87001215,\n",
       "       0.97861834, 0.79915856, 0.46147936, 0.78052918, 0.11827443,\n",
       "       0.63992102, 0.14335329, 0.94466892, 0.52184832, 0.41466194])"
      ]
     },
     "execution_count": 337,
     "metadata": {},
     "output_type": "execute_result"
    }
   ],
   "source": [
    "np.random.rand(15)"
   ]
  },
  {
   "cell_type": "code",
   "execution_count": 342,
   "metadata": {},
   "outputs": [
    {
     "data": {
      "text/plain": [
       "array([3, 7, 2, 9, 8, 1, 4, 0, 6, 5])"
      ]
     },
     "execution_count": 342,
     "metadata": {},
     "output_type": "execute_result"
    }
   ],
   "source": [
    "x = np.arange(10)\n",
    "x\n",
    "np.random.shuffle(x)\n",
    "x"
   ]
  },
  {
   "cell_type": "code",
   "execution_count": 343,
   "metadata": {},
   "outputs": [
    {
     "data": {
      "text/plain": [
       "array([4, 2, 3, 1, 0])"
      ]
     },
     "execution_count": 343,
     "metadata": {},
     "output_type": "execute_result"
    }
   ],
   "source": [
    "# shuffle 명령과 같다.\n",
    "np.random.choice(5, 5, replace=False)       # 첫번쨰 5는 array([0,5])"
   ]
  },
  {
   "cell_type": "code",
   "execution_count": 349,
   "metadata": {},
   "outputs": [
    {
     "data": {
      "text/plain": [
       "array([2, 3, 2, 2, 2, 3, 3, 2, 3, 3])"
      ]
     },
     "execution_count": 349,
     "metadata": {},
     "output_type": "execute_result"
    }
   ],
   "source": [
    "np.random.choice(5, 3, replace=False)\n",
    "np.random.choice(5, 10)\n",
    "np.random.choice(5, 10, p = [0.1, 0, 0.3, 0.6, 0])      # 선택 확률을 다르게 해서 10개 선택"
   ]
  },
  {
   "cell_type": "code",
   "execution_count": 350,
   "metadata": {},
   "outputs": [
    {
     "data": {
      "text/plain": [
       "array([[0.39609828, 0.89603839, 0.63892108],\n",
       "       [0.89155444, 0.68005557, 0.44919774]])"
      ]
     },
     "execution_count": 350,
     "metadata": {},
     "output_type": "execute_result"
    }
   ],
   "source": [
    "# 난수 생성(rand)\n",
    "np.random.rand(2,3)"
   ]
  },
  {
   "cell_type": "code",
   "execution_count": 351,
   "metadata": {},
   "outputs": [
    {
     "data": {
      "text/plain": [
       "array([[-0.475776  ,  1.44073112, -1.14907568,  0.80571455,  1.75610703],\n",
       "       [ 0.97297991, -1.55111911,  0.19114348,  1.60477607, -1.42002593],\n",
       "       [-2.44378268, -2.05633855, -0.99225755,  1.01128532,  1.40044008]])"
      ]
     },
     "execution_count": 351,
     "metadata": {},
     "output_type": "execute_result"
    }
   ],
   "source": [
    "# 난수 생성(randn)\n",
    "np.random.randn(3,5)"
   ]
  },
  {
   "cell_type": "code",
   "execution_count": 368,
   "metadata": {},
   "outputs": [
    {
     "data": {
      "text/plain": [
       "15"
      ]
     },
     "execution_count": 368,
     "metadata": {},
     "output_type": "execute_result"
    }
   ],
   "source": [
    "# 난수 생성(candint)\n",
    "np.random.randint(10, 20, size=10)\n",
    "np.random.randint(10, 20)"
   ]
  },
  {
   "cell_type": "code",
   "execution_count": 363,
   "metadata": {},
   "outputs": [
    {
     "name": "stdout",
     "output_type": "stream",
     "text": [
      "56\n",
      "0.56\n"
     ]
    }
   ],
   "source": [
    "# 동전 앞면을 1, 동전 뒷면을 0\n",
    "np.random.seed(0)\n",
    "\n",
    "random_coin = np.random.choice(range(2), size=100, replace=True)\n",
    "\n",
    "count = 0\n",
    "for _ in random_coin:\n",
    "    if _ == 1:\n",
    "        count += 1\n",
    "print(count)\n",
    "\n",
    "count_p = count/100\n",
    "print(count_p)"
   ]
  },
  {
   "cell_type": "code",
   "execution_count": 373,
   "metadata": {},
   "outputs": [
    {
     "data": {
      "text/plain": [
       "3.42"
      ]
     },
     "execution_count": 373,
     "metadata": {},
     "output_type": "execute_result"
    }
   ],
   "source": [
    "# 주사위를 굴릴 때, 숫자의 평균\n",
    "np.random.seed(0)\n",
    "\n",
    "random_dice = np.random.randint(1, 7, size=100)     # randint(시작, 끝 미만, 샘플숫자) => 균일분포 난수\n",
    "np.mean(random_dice)"
   ]
  },
  {
   "cell_type": "code",
   "execution_count": 377,
   "metadata": {},
   "outputs": [
    {
     "name": "stdout",
     "output_type": "stream",
     "text": [
      "3.42\n"
     ]
    }
   ],
   "source": [
    "# 주사위를 굴릴 때, 숫자의 평균\n",
    "np.random.seed(0)\n",
    "\n",
    "random_dice1 = np.random.randint(1, 7, 100)\n",
    "dice_mean = sum(random_dice1) / 100\n",
    "print(dice_mean)"
   ]
  }
 ],
 "metadata": {
  "kernelspec": {
   "display_name": "base",
   "language": "python",
   "name": "python3"
  },
  "language_info": {
   "codemirror_mode": {
    "name": "ipython",
    "version": 3
   },
   "file_extension": ".py",
   "mimetype": "text/x-python",
   "name": "python",
   "nbconvert_exporter": "python",
   "pygments_lexer": "ipython3",
   "version": "3.9.13 (main, Aug 25 2022, 18:24:45) \n[Clang 12.0.0 ]"
  },
  "orig_nbformat": 4,
  "vscode": {
   "interpreter": {
    "hash": "29022363fef606f9f23df6f4a22f2b4728bceb42fab3e5e3f1a324182233d5f0"
   }
  }
 },
 "nbformat": 4,
 "nbformat_minor": 2
}
