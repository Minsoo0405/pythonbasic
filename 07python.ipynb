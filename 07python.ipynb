{
 "cells": [
  {
   "cell_type": "code",
   "execution_count": 286,
   "metadata": {},
   "outputs": [
    {
     "name": "stdout",
     "output_type": "stream",
     "text": [
      "[0, 2, 1, 2, 1, 4]\n",
      "김태형 후보가 총 4표를 받아 당선되었습니다.\n"
     ]
    }
   ],
   "source": [
    "votes = [2, 5, 3, 4, 1, 5, 1, 5, 5, 3]\n",
    "candidates = [\"\", \"전정국\", \"김남준\", \"박지민\", \"정호석\", \"김태형\"]\n",
    "counts = [0] * len(candidates)                                  # 투표집계용 변수\n",
    "\n",
    "for vote in votes:                                              # 투표집계 결과값에 대한 리스트\n",
    "    counts[vote] += 1\n",
    "\n",
    "i = 1\n",
    "max_count = 0\n",
    "elected_person = 0\n",
    "while i < len(counts):                                          # i = 1,2,3,4,5 / len(counts) = 6\n",
    "    if max_count < counts[i]:                                   # if문 max_count를 통해 최다 득표자 정하기\n",
    "        max_count = counts[i]\n",
    "        elected_person = i                                      # 선출된 후보자의 인덱스를 정해놓기\n",
    "    i += 1\n",
    "\n",
    "print(counts)\n",
    "print(f'{candidates[elected_person]} 후보가 총 {max_count}표를 받아 당선되었습니다.')"
   ]
  },
  {
   "cell_type": "code",
   "execution_count": 287,
   "metadata": {},
   "outputs": [
    {
     "name": "stdout",
     "output_type": "stream",
     "text": [
      "[0, 2, 1, 2, 1, 4]\n",
      "0\n",
      "5\n",
      "김태형 후보가 총 4표를 받아 당선되었습니다.\n"
     ]
    }
   ],
   "source": [
    "# index를 통해서 후보자를 구하기\n",
    "votes = [2, 5, 3, 4, 1, 5, 1, 5, 5, 3]\n",
    "candidates = [\"\", \"전정국\", \"김남준\", \"박지민\", \"정호석\", \"김태형\"]\n",
    "counts2 = [0] * len(candidates)                                  # 투표집계용 변수\n",
    "max_counts = max(counts2)\n",
    "eledcted_person = counts.index(max_counts)\n",
    "\n",
    "print(counts)\n",
    "print(max_counts)\n",
    "print(elected_person)\n",
    "print(f'{candidates[elected_person]} 후보가 총 {max_count}표를 받아 당선되었습니다.')"
   ]
  },
  {
   "cell_type": "code",
   "execution_count": 288,
   "metadata": {},
   "outputs": [
    {
     "name": "stdout",
     "output_type": "stream",
     "text": [
      "{'1': '', '2': '전정국', '3': '김남준', '4': '박지민', '5': '정호석'}\n",
      "{'1': '', '2': '전정국'}\n"
     ]
    }
   ],
   "source": [
    "print(dict([(\"1\", \"\"),(\"2\", \"전정국\"), (\"3\",\"김남준\"),(\"4\", \"박지민\"), (\"5\",\"정호석\")]))\n",
    "print(dict(zip([\"1\",\"2\"],[\"\",\"전정국\"])))"
   ]
  },
  {
   "cell_type": "code",
   "execution_count": 289,
   "metadata": {},
   "outputs": [
    {
     "name": "stdout",
     "output_type": "stream",
     "text": [
      "[1, 3, 5, 7, 9]\n"
     ]
    }
   ],
   "source": [
    "prac_result2 = [i for i in range(1,10,2)]                       # range 사용할 때, 홀수나 짝수를 구하려면 증감을 꼭 사용!!\n",
    "print(prac_result2)"
   ]
  },
  {
   "cell_type": "code",
   "execution_count": 290,
   "metadata": {},
   "outputs": [
    {
     "name": "stdout",
     "output_type": "stream",
     "text": [
      "['a', 'b', 'c', 'd', 'e', 'f', 'g', 'h', 'i', 'j', 'k', 'l', 'm', 'n', 'o', 'p', 'q', 'r', 's', 't', 'u', 'v', 'w', 'x', 'y', 'z']\n"
     ]
    }
   ],
   "source": [
    "prac_result3 = [ i for i in \"abcdefghijklmnopqrstuvwxyz\"]       # for 변수 in \"문자열\" 형태도 가능\n",
    "print(prac_result3)"
   ]
  },
  {
   "cell_type": "code",
   "execution_count": 291,
   "metadata": {},
   "outputs": [
    {
     "name": "stdout",
     "output_type": "stream",
     "text": [
      "['2', '3', '4', '5', '6', '7', '8', '9', '10', 'J', 'Q', 'K', 'A']\n"
     ]
    }
   ],
   "source": [
    "prac_result4 = [str(i) for i in range(2,11)] + [i for i in \"JQKA\"]      # [ ] + [ ]  == [ ].extend([ ])\n",
    "print(prac_result4)"
   ]
  },
  {
   "cell_type": "code",
   "execution_count": 292,
   "metadata": {},
   "outputs": [
    {
     "name": "stdout",
     "output_type": "stream",
     "text": [
      "['2', '3', '4', '5', '6', '7', '8', '9', '10', 'J', 'Q', 'K', 'A']\n"
     ]
    }
   ],
   "source": [
    "prac_result4 = [str(i) for i in range(2,11)]\n",
    "prac_result4.extend([i for i in \"JQKA\"])\n",
    "print(prac_result4)"
   ]
  },
  {
   "cell_type": "code",
   "execution_count": 293,
   "metadata": {},
   "outputs": [
    {
     "name": "stdout",
     "output_type": "stream",
     "text": [
      "[[['2', '3', '4', '5', '6', '7', '8', '9', '10', 'J', 'Q', 'K', 'A'], ['2', '3', '4', '5', '6', '7', '8', '9', '10', 'J', 'Q', 'K', 'A'], ['2', '3', '4', '5', '6', '7', '8', '9', '10', 'J', 'Q', 'K', 'A'], ['2', '3', '4', '5', '6', '7', '8', '9', '10', 'J', 'Q', 'K', 'A']]]\n"
     ]
    }
   ],
   "source": [
    "prac_result5 =[[i] * 4 for i in [prac_result4]]\n",
    "print(prac_result5)"
   ]
  },
  {
   "cell_type": "code",
   "execution_count": 294,
   "metadata": {},
   "outputs": [
    {
     "name": "stdout",
     "output_type": "stream",
     "text": [
      "[['2', '3', '4', '5', '6', '7', '8', '9', '10', 'J', 'Q', 'K', 'A'], ['2', '3', '4', '5', '6', '7', '8', '9', '10', 'J', 'Q', 'K', 'A'], ['2', '3', '4', '5', '6', '7', '8', '9', '10', 'J', 'Q', 'K', 'A'], ['2', '3', '4', '5', '6', '7', '8', '9', '10', 'J', 'Q', 'K', 'A']]\n"
     ]
    }
   ],
   "source": [
    "prac_result5 = [prac_result4 for i in range(4)]\n",
    "print(prac_result5)"
   ]
  },
  {
   "cell_type": "code",
   "execution_count": 295,
   "metadata": {},
   "outputs": [
    {
     "name": "stdout",
     "output_type": "stream",
     "text": [
      "['two', '3', '4', '5', '6', '7', '8', '9', '10', 'J', 'Q', 'K', 'A']\n"
     ]
    }
   ],
   "source": [
    "prac_result4[0] = 'two'\n",
    "print(prac_result4)"
   ]
  },
  {
   "cell_type": "code",
   "execution_count": 296,
   "metadata": {},
   "outputs": [
    {
     "name": "stdout",
     "output_type": "stream",
     "text": [
      "[['two', '3', '4', '5', '6', '7', '8', '9', '10', 'J', 'Q', 'K', 'A'], ['two', '3', '4', '5', '6', '7', '8', '9', '10', 'J', 'Q', 'K', 'A'], ['two', '3', '4', '5', '6', '7', '8', '9', '10', 'J', 'Q', 'K', 'A'], ['two', '3', '4', '5', '6', '7', '8', '9', '10', 'J', 'Q', 'K', 'A']]\n"
     ]
    }
   ],
   "source": [
    "print(prac_result5)"
   ]
  },
  {
   "attachments": {},
   "cell_type": "markdown",
   "metadata": {},
   "source": [
    "## 값으로 가지고 있는 형태 : int, float, bool, ...\n",
    "## 메모리로 가지고 있는 형태 : list, tuple, str (주소를 통해 저장을 함. 같은 값으로 보일지라도 객체의 값이 다를수 있다.)"
   ]
  },
  {
   "attachments": {},
   "cell_type": "markdown",
   "metadata": {},
   "source": [
    "### 메모리는 고유한 주소를 갖고 있어 주소를 통해 접근 가능함.\n",
    "\n",
    "    ex) prac_result4 -> prac_result5[0],prac_result5[1],prac_result5[2],prac_result5[3]"
   ]
  },
  {
   "attachments": {},
   "cell_type": "markdown",
   "metadata": {},
   "source": [
    "## list를 전체 범위의 슬라이싱을 통한 리스트 복사\n",
    "\n",
    " 1. 결과는 새로운 주소값을 받는다.\n",
    " 2. Java에서의 ==연산자 : 완전 동일한 객체인가 비교\n",
    "    python에서의"
   ]
  },
  {
   "cell_type": "code",
   "execution_count": 297,
   "metadata": {},
   "outputs": [
    {
     "name": "stdout",
     "output_type": "stream",
     "text": [
      "prac_result4의 id: 4432180928\n",
      "prac_result5[0] : 4432180928\n",
      "prac_result5[1] : 4432180928\n",
      "prac_result5[2] : 4432180928\n",
      "prac_result5[3] : 4432180928\n"
     ]
    }
   ],
   "source": [
    "print(\"prac_result4의 id:\", id(prac_result4))\n",
    "\n",
    "for i, v in enumerate(prac_result5):\n",
    "    print(\"prac_result5[\", i, \"] : \", id(v), sep=\"\")"
   ]
  },
  {
   "cell_type": "code",
   "execution_count": 298,
   "metadata": {},
   "outputs": [
    {
     "name": "stdout",
     "output_type": "stream",
     "text": [
      "['two', '3', '4', '5', '6', '7', '8', '9', '10', 'J', 'Q', 'K', 'A']\n",
      "[['two', '3', '4', '5', '6', '7', '8', '9', '10', 'J', 'Q', 'K', 'A'], ['two', '3', '4', '5', '6', '7', '8', '9', '10', 'J', 'Q', 'K', 'A'], ['two', '3', '4', '5', '6', '7', '8', '9', '10', 'J', 'Q', 'K', 'A'], ['two', '3', '4', '5', '6', '7', '8', '9', '10', 'J', 'Q', 'K', 'A']]\n",
      "prac_result4의 id 4432180928\n",
      "prac_result6[0] : 4431461248\n",
      "prac_result6[1] : 4645910080\n",
      "prac_result6[2] : 4431468608\n",
      "prac_result6[3] : 4432377472\n"
     ]
    }
   ],
   "source": [
    "prac_result6 = [prac_result4[:] for _ in range(4)]                                 # 슬라이싱은 주소값을 새롭게 받는다.\n",
    "\n",
    "print(prac_result4)\n",
    "print(prac_result6)\n",
    "print(\"prac_result4의 id\", id(prac_result4))\n",
    "for i ,v in enumerate(prac_result6):\n",
    "    print(\"prac_result6[\", i, \"] : \", id(v), sep=\"\")"
   ]
  },
  {
   "cell_type": "code",
   "execution_count": 299,
   "metadata": {},
   "outputs": [
    {
     "name": "stdout",
     "output_type": "stream",
     "text": [
      "[0, 1, 2, 3, 4, 5, 6, 7, 8, 9]\n",
      "[0, 1, 2, 3, 4, 5, 6, 7, 8, 9]\n",
      "4432173376\n",
      "4432361536\n",
      "False\n",
      "True\n"
     ]
    }
   ],
   "source": [
    "# old_list와 new_list가 각각의 다른 객체임 . is는 주소가 다른 객체를 비교하므로 False, ==는 객체값을 비교하므로 True\n",
    "# list 슬라이싱은 복사가 된다.\n",
    "old_list = list(range(10))\n",
    "new_list = old_list[:]\n",
    "\n",
    "print(old_list)\n",
    "print(new_list)\n",
    "print(id(old_list))\n",
    "print(id(new_list))\n",
    "print(old_list is new_list)\n",
    "print(old_list == new_list)"
   ]
  },
  {
   "cell_type": "code",
   "execution_count": 300,
   "metadata": {},
   "outputs": [
    {
     "name": "stdout",
     "output_type": "stream",
     "text": [
      "This is str\n",
      "This is str\n",
      "4432425264\n",
      "4432425264\n"
     ]
    }
   ],
   "source": [
    "# 문자열에 슬라이싱 했을때의 id값 => list나 tuple은 가변의 형태이므로 같은 주소값을 가짐.\n",
    "str_sample = \"This is str\"\n",
    "str2 = str_sample[:]\n",
    "\n",
    "print(str_sample)\n",
    "print(str2)\n",
    "print(id(str_sample))\n",
    "print(id(str2))\n"
   ]
  },
  {
   "cell_type": "code",
   "execution_count": 301,
   "metadata": {},
   "outputs": [
    {
     "name": "stdout",
     "output_type": "stream",
     "text": [
      "4422601648\n",
      "4422601648\n"
     ]
    }
   ],
   "source": [
    "str_a = \"hello\"\n",
    "str_b = \"hello\"\n",
    "print(id(str_a))\n",
    "print(id(str_b))"
   ]
  },
  {
   "cell_type": "code",
   "execution_count": 302,
   "metadata": {},
   "outputs": [
    {
     "ename": "ValueError",
     "evalue": "invalid literal for int() with base 10: ''",
     "output_type": "error",
     "traceback": [
      "\u001b[0;31m---------------------------------------------------------------------------\u001b[0m",
      "\u001b[0;31mValueError\u001b[0m                                Traceback (most recent call last)",
      "\u001b[1;32m/Users/kimminsoo/Desktop/pythonbasic/07python.ipynb Cell 20\u001b[0m in \u001b[0;36m<cell line: 1>\u001b[0;34m()\u001b[0m\n\u001b[0;32m----> <a href='vscode-notebook-cell:/Users/kimminsoo/Desktop/pythonbasic/07python.ipynb#X43sZmlsZQ%3D%3D?line=0'>1</a>\u001b[0m number \u001b[39m=\u001b[39m \u001b[39mint\u001b[39;49m(\u001b[39minput\u001b[39;49m(\u001b[39m\"\u001b[39;49m\u001b[39m순환할 숫자를 입력하세요.\u001b[39;49m\u001b[39m\"\u001b[39;49m))\n\u001b[1;32m      <a href='vscode-notebook-cell:/Users/kimminsoo/Desktop/pythonbasic/07python.ipynb#X43sZmlsZQ%3D%3D?line=2'>3</a>\u001b[0m \u001b[39mfor\u001b[39;00m i \u001b[39min\u001b[39;00m \u001b[39mrange\u001b[39m(\u001b[39m1\u001b[39m, number\u001b[39m+\u001b[39m\u001b[39m1\u001b[39m):\n\u001b[1;32m      <a href='vscode-notebook-cell:/Users/kimminsoo/Desktop/pythonbasic/07python.ipynb#X43sZmlsZQ%3D%3D?line=3'>4</a>\u001b[0m     \u001b[39mprint\u001b[39m(i, end\u001b[39m=\u001b[39m\u001b[39m\"\u001b[39m\u001b[39m \u001b[39m\u001b[39m\"\u001b[39m)\n",
      "\u001b[0;31mValueError\u001b[0m: invalid literal for int() with base 10: ''"
     ]
    }
   ],
   "source": [
    "number = int(input(\"순환할 숫자를 입력하세요.\"))\n",
    "\n",
    "for i in range(1, number+1):\n",
    "    print(i, end=\" \")"
   ]
  },
  {
   "cell_type": "code",
   "execution_count": null,
   "metadata": {},
   "outputs": [
    {
     "name": "stdout",
     "output_type": "stream",
     "text": [
      "1 2 3 4 5 6 7 8 9 10 \n",
      "2 3 4 5 6 7 8 9 10 1 \n",
      "3 4 5 6 7 8 9 10 1 2 \n",
      "4 5 6 7 8 9 10 1 2 3 \n",
      "5 6 7 8 9 10 1 2 3 4 \n",
      "6 7 8 9 10 1 2 3 4 5 \n",
      "7 8 9 10 1 2 3 4 5 6 \n",
      "8 9 10 1 2 3 4 5 6 7 \n",
      "9 10 1 2 3 4 5 6 7 8 \n",
      "10 1 2 3 4 5 6 7 8 9 \n"
     ]
    }
   ],
   "source": [
    "number = int(input(\"순환할 숫자를 입력하세요.\"))\n",
    "\n",
    "for i in range(1, number+1):\n",
    "    for j in range(i, number+i):\n",
    "        if j % number == 0:\n",
    "            print(number, end=\" \")\n",
    "        else:\n",
    "            print(j % number, end=\" \")\n",
    "    print()\n",
    "\n"
   ]
  },
  {
   "cell_type": "code",
   "execution_count": null,
   "metadata": {},
   "outputs": [
    {
     "name": "stdout",
     "output_type": "stream",
     "text": [
      "1 2 3 4 5 6 7 8 9 10 \n",
      "2 3 4 5 6 7 8 9 10 1 \n",
      "3 4 5 6 7 8 9 10 1 2 \n",
      "4 5 6 7 8 9 10 1 2 3 \n",
      "5 6 7 8 9 10 1 2 3 4 \n",
      "6 7 8 9 10 1 2 3 4 5 \n",
      "7 8 9 10 1 2 3 4 5 6 \n",
      "8 9 10 1 2 3 4 5 6 7 \n",
      "9 10 1 2 3 4 5 6 7 8 \n",
      "10 1 2 3 4 5 6 7 8 9 \n"
     ]
    }
   ],
   "source": [
    "number = int(input(\"순환할 숫자를 입력하세요.\"))\n",
    "\n",
    "e = [i for i in range(1, number+1)]                         # list 생성\n",
    "for j in range(len(e)):\n",
    "    j = 0\n",
    "    for i in e:\n",
    "        print(i, end=\" \")\n",
    "    print()\n",
    "    e.append(e[j])\n",
    "    e.remove(e[j])"
   ]
  },
  {
   "attachments": {},
   "cell_type": "markdown",
   "metadata": {},
   "source": [
    "# 얕은 복사\n",
    "\n",
    "1. "
   ]
  },
  {
   "cell_type": "code",
   "execution_count": null,
   "metadata": {},
   "outputs": [
    {
     "name": "stdout",
     "output_type": "stream",
     "text": [
      "[0, 1, 2, 3, 4, 5, 6, 7, 8, 9]\n",
      "[0, 1, 2, 3, 4, 5, 6, 7, 8, 9]\n",
      "4429308736\n",
      "4429404416\n",
      "False\n"
     ]
    }
   ],
   "source": [
    "list_g = list(range(10))\n",
    "list_h = list_g.copy()\n",
    "\n",
    "print(list_g)\n",
    "print(list_h)\n",
    "print(id(list_g))\n",
    "print(id(list_h))\n",
    "print(list_g is list_h)"
   ]
  },
  {
   "cell_type": "code",
   "execution_count": null,
   "metadata": {},
   "outputs": [
    {
     "name": "stdout",
     "output_type": "stream",
     "text": [
      "[[0], [0], [0]]\n",
      "[0, 0, 0]\n",
      "[[999], [999], [999]]\n",
      "True\n",
      "True\n",
      "True\n"
     ]
    }
   ],
   "source": [
    "list_i = [[0]] * 3\n",
    "print(list_i)\n",
    "\n",
    "list_j = [0] * 3\n",
    "print(list_j)\n",
    "\n",
    "list_i[0][0] = 999                                                    # list의 0번째 index값을 가지고 오고 [0]에서의 0번째 index값 0을 가지고옴.\n",
    "print(list_i)\n",
    "\n",
    "print(list_i[0][0] is list_i[1][0])\n",
    "print(list_i[1][0] is list_i[2][0])\n",
    "print(list_i[2][0] is list_i[1][0])"
   ]
  },
  {
   "cell_type": "code",
   "execution_count": null,
   "metadata": {},
   "outputs": [
    {
     "name": "stdout",
     "output_type": "stream",
     "text": [
      "False\n",
      "True\n"
     ]
    }
   ],
   "source": [
    "list_j = [[1, 2], [3, 4]]\n",
    "list_k = list_j[:]\n",
    "print(list_k is list_j)\n",
    "print(list_k[0] is list_j[0])"
   ]
  },
  {
   "cell_type": "code",
   "execution_count": null,
   "metadata": {},
   "outputs": [
    {
     "name": "stdout",
     "output_type": "stream",
     "text": [
      "[[9, 10], [11, 12]]\n",
      "[[9, 10], [11, 12]]\n",
      "4429916416\n",
      "4429962432\n",
      "False\n",
      "False\n",
      "True\n",
      "[[13, 10], [11, 12]]\n",
      "[[9, 10], [11, 12]]\n",
      "False\n"
     ]
    }
   ],
   "source": [
    "import copy\n",
    "list_n = [[9, 10], [11, 12]]\n",
    "list_o = copy.deepcopy(list_n)\n",
    "\n",
    "print(list_n)\n",
    "print(list_o)\n",
    "print(id(list_n))\n",
    "print(id(list_o))\n",
    "print(list_n is list_o)\n",
    "print(list_n[0] is list_o[0])\n",
    "print(list_n[0][0] is list_o[0][0])                         # 결국 9 와 9를 비교하는 것이기 때문에, 9 == 9와 같은 의미.\n",
    "\n",
    "list_n[0][0] = 13\n",
    "\n",
    "print(list_n)\n",
    "print(list_o)\n",
    "print(list_n[0][0] is list_o[0][0])\n"
   ]
  },
  {
   "attachments": {},
   "cell_type": "markdown",
   "metadata": {},
   "source": [
    "# 리스트 comprehension\n",
    "\n",
    "    1. if 조건식 : list_variable = [expression for 변수 in iterable if 조건식]         \n",
    "        - expression : 표현식 / 조건식이 True일 경우만 expression 실행, False일때 iterable에서 다음 값으로 다시 실행\n",
    "    2. for문 : [expression for 변수 in iterable for 변수 in iterable]\n",
    "        - 대괄호[]가 있으므로 for문을 여러 줄로 입력하거나 들여쓰기를 해도 에러가 생기지 않음.(가독성을 위해 필수)\n",
    "            ex) [expression for 변수 in iterable\n",
    "                            for 변수 in iterable\n",
    "                            for 변수 in iterable]"
   ]
  },
  {
   "cell_type": "code",
   "execution_count": null,
   "metadata": {},
   "outputs": [
    {
     "name": "stdout",
     "output_type": "stream",
     "text": [
      "[0, 3, 6, 9]\n"
     ]
    }
   ],
   "source": [
    "list_p = [i for i in range(10) if i % 3 == 0]\n",
    "print(list_p)"
   ]
  },
  {
   "cell_type": "code",
   "execution_count": null,
   "metadata": {},
   "outputs": [
    {
     "name": "stdout",
     "output_type": "stream",
     "text": [
      "1\n",
      "2\n",
      "3\n",
      "4\n",
      "5\n",
      "3\n",
      "4\n"
     ]
    }
   ],
   "source": [
    "easy_list = [[1, 2, 3, 4, 5], [3, 4]]\n",
    "for item in easy_list:\n",
    "    for i in item:\n",
    "        print(i)        # item_easy[item][i]"
   ]
  },
  {
   "cell_type": "code",
   "execution_count": null,
   "metadata": {},
   "outputs": [],
   "source": [
    "easy_list = [[1, 2, 3, 4, 5], [3, 4]]\n",
    "i = 0 # easy_list 인덱스용\n",
    "\n",
    "while i < len(easy_list):\n",
    "    j = 0 # easy_list[0], easy_list[1] 인덱스용\n",
    "    while j < len(easy_list[i]):\n",
    "        print(easy_list[i][j])\n",
    "        j += 1\n",
    "    i += 1"
   ]
  },
  {
   "attachments": {},
   "cell_type": "markdown",
   "metadata": {},
   "source": [
    "# 리스트 매서드 & 튜플 매서드\n",
    "\n",
    "    1. 리스트 매서드\n",
    "     1.1 appen()\n",
    "     1.2 insert()\n",
    "     1.3 extend()\n",
    "     1.4 remove()\n",
    "     1.5 pop()\n",
    "     1.6 index() \n",
    " 1.7 count()\n",
    " 1.8 reserve()\n",
    " 1.9 clear ()\n",
    "2. 튜플 매서드\n",
    " 2.1 index()\n",
    " 2.2 count()"
   ]
  },
  {
   "attachments": {},
   "cell_type": "markdown",
   "metadata": {},
   "source": [
    "# 제너레이터 검프리헨션\n",
    "\n",
    "    generator_variable = (expression for 변수 in iterable) \n",
    "    tuple_cariable = tuple(expression for 변수 in iterable)"
   ]
  },
  {
   "cell_type": "code",
   "execution_count": null,
   "metadata": {},
   "outputs": [
    {
     "ename": "NameError",
     "evalue": "name 'iterable' is not defined",
     "output_type": "error",
     "traceback": [
      "\u001b[0;31m---------------------------------------------------------------------------\u001b[0m",
      "\u001b[0;31mNameError\u001b[0m                                 Traceback (most recent call last)",
      "\u001b[1;32m/Users/kimminsoo/Desktop/pythonbasic/07python.ipynb Cell 34\u001b[0m in \u001b[0;36m<cell line: 1>\u001b[0;34m()\u001b[0m\n\u001b[0;32m----> <a href='vscode-notebook-cell:/Users/kimminsoo/Desktop/pythonbasic/07python.ipynb#Y100sZmlsZQ%3D%3D?line=0'>1</a>\u001b[0m generator_variable \u001b[39m=\u001b[39m (_ \u001b[39mfor\u001b[39;00m _ \u001b[39min\u001b[39;00m iterable)\n\u001b[1;32m      <a href='vscode-notebook-cell:/Users/kimminsoo/Desktop/pythonbasic/07python.ipynb#Y100sZmlsZQ%3D%3D?line=1'>2</a>\u001b[0m \u001b[39mprint\u001b[39m(generator_variable)\n\u001b[1;32m      <a href='vscode-notebook-cell:/Users/kimminsoo/Desktop/pythonbasic/07python.ipynb#Y100sZmlsZQ%3D%3D?line=2'>3</a>\u001b[0m \u001b[39mprint\u001b[39m(\u001b[39mtype\u001b[39m(generator_variable))\n",
      "\u001b[0;31mNameError\u001b[0m: name 'iterable' is not defined"
     ]
    }
   ],
   "source": [
    "generator_variable = (_ for _ in iterable)\n",
    "print(generator_variable)\n",
    "print(type(generator_variable))\n",
    "hasattr(generator_variable, \"_iter_\")"
   ]
  },
  {
   "cell_type": "code",
   "execution_count": null,
   "metadata": {},
   "outputs": [
    {
     "name": "stdout",
     "output_type": "stream",
     "text": [
      "['alpha', 'bravo', 'charlie', 'delta', 'echo', 'foxtrot', 'golf', 'hotel', 'india']\n",
      "['alpha', 'bravo', 'delta', 'hotel', 'india']\n"
     ]
    }
   ],
   "source": [
    "a = ['alpha', 'bravo', 'charlie', 'delta', 'echo', 'foxtrot', 'golf', 'hotel', 'india']\n",
    "b = [i for i in a if len(i) == 5]   # i = 'alpha', 'bravo', ... , 'india' => len(i)이면 각 문자들의 길이를 구하는 것...\n",
    "print(a) \n",
    "print(b)"
   ]
  },
  {
   "cell_type": "code",
   "execution_count": 217,
   "metadata": {},
   "outputs": [
    {
     "name": "stdout",
     "output_type": "stream",
     "text": [
      "2\n",
      "4\n",
      "8\n",
      "16\n",
      "32\n",
      "64\n",
      "128\n",
      "256\n",
      "512\n"
     ]
    },
    {
     "ename": "TypeError",
     "evalue": "'int' object is not iterable",
     "output_type": "error",
     "traceback": [
      "\u001b[0;31m---------------------------------------------------------------------------\u001b[0m",
      "\u001b[0;31mTypeError\u001b[0m                                 Traceback (most recent call last)",
      "\u001b[1;32m/Users/kimminsoo/Desktop/pythonbasic/07python.ipynb Cell 36\u001b[0m in \u001b[0;36m<cell line: 9>\u001b[0;34m()\u001b[0m\n\u001b[1;32m      <a href='vscode-notebook-cell:/Users/kimminsoo/Desktop/pythonbasic/07python.ipynb#Y105sZmlsZQ%3D%3D?line=6'>7</a>\u001b[0m     \u001b[39mfor\u001b[39;00m j \u001b[39min\u001b[39;00m \u001b[39mrange\u001b[39m(\u001b[39m1\u001b[39m,i):\n\u001b[1;32m      <a href='vscode-notebook-cell:/Users/kimminsoo/Desktop/pythonbasic/07python.ipynb#Y105sZmlsZQ%3D%3D?line=7'>8</a>\u001b[0m         \u001b[39mprint\u001b[39m(\u001b[39m2\u001b[39m \u001b[39m*\u001b[39m\u001b[39m*\u001b[39m j)\n\u001b[0;32m----> <a href='vscode-notebook-cell:/Users/kimminsoo/Desktop/pythonbasic/07python.ipynb#Y105sZmlsZQ%3D%3D?line=8'>9</a>\u001b[0m \u001b[39mprint\u001b[39m(num2_result\u001b[39m.\u001b[39;49mextend(\u001b[39m-\u001b[39;49m\u001b[39m1\u001b[39;49m))\n",
      "\u001b[0;31mTypeError\u001b[0m: 'int' object is not iterable"
     ]
    }
   ],
   "source": []
  },
  {
   "cell_type": "code",
   "execution_count": null,
   "metadata": {},
   "outputs": [],
   "source": []
  },
  {
   "cell_type": "code",
   "execution_count": 212,
   "metadata": {},
   "outputs": [
    {
     "data": {
      "text/plain": [
       "1048576"
      ]
     },
     "execution_count": 212,
     "metadata": {},
     "output_type": "execute_result"
    }
   ],
   "source": [
    "2 ** 20"
   ]
  },
  {
   "cell_type": "code",
   "execution_count": 322,
   "metadata": {},
   "outputs": [
    {
     "ename": "SyntaxError",
     "evalue": "invalid syntax (1552398468.py, line 10)",
     "output_type": "error",
     "traceback": [
      "\u001b[0;36m  Input \u001b[0;32mIn [322]\u001b[0;36m\u001b[0m\n\u001b[0;31m    for j in i\u001b[0m\n\u001b[0m              ^\u001b[0m\n\u001b[0;31mSyntaxError\u001b[0m\u001b[0;31m:\u001b[0m invalid syntax\n"
     ]
    }
   ],
   "source": [
    "# split / 1~10 < 10~30 \n",
    "\n",
    "num2 = list(map(int,input(\"정수 두 개 입력하세요.\").split(\" \")))\n",
    "num2_result = [2 ** i for i in num2 if num2[0] < num2[1]]\n",
    "\n",
    "for i in num2:\n",
    "    for j in range(1,i):\n",
    "        print(2 ** j)\n",
    "for i in num2:\n",
    "    for j in i\n",
    "print(num2_result)"
   ]
  },
  {
   "cell_type": "code",
   "execution_count": 335,
   "metadata": {},
   "outputs": [
    {
     "ename": "SyntaxError",
     "evalue": "invalid syntax (379815614.py, line 4)",
     "output_type": "error",
     "traceback": [
      "\u001b[0;36m  Input \u001b[0;32mIn [335]\u001b[0;36m\u001b[0m\n\u001b[0;31m    if num2[0] > 20 and < 0:\u001b[0m\n\u001b[0m                        ^\u001b[0m\n\u001b[0;31mSyntaxError\u001b[0m\u001b[0;31m:\u001b[0m invalid syntax\n"
     ]
    }
   ],
   "source": [
    "num2 = list(map(int,input(\"정수 두 개 입력하세요.\").split(\" \")))\n",
    "num2_result = [2 ** i for i in range(num2[0],num2[1]+1) if num2[0] < num2[1]]\n",
    "\n",
    "if num2[0] > 20 and < 0:\n",
    "    print(\"첫번째 값의 범위는 1 ~ 20입니다.\")\n",
    "    if num2[1] < 10 and > 30:\n",
    "        print(\"두번째 값의 범위는 10 ~ 30입니다.\")\n",
    "        if num2[0] > num2: \n",
    "            print(\"첫 번째 입력 값은 두 번쨰 입력 값보다 작게 입력하세요.\")\n",
    "\n",
    "print(num2_result)"
   ]
  },
  {
   "cell_type": "code",
   "execution_count": 328,
   "metadata": {},
   "outputs": [
    {
     "name": "stdout",
     "output_type": "stream",
     "text": [
      "[2, 4, 8, 16, 32, 64, 128, 256, 512, 1024]\n"
     ]
    }
   ],
   "source": [
    "while True:\n",
    "    num_fst, num_sec = map(int,input(\"정수 두 개 입력하세요.\").split(\" \"))\n",
    "\n",
    "    if num_fst > 20 or num_fst< 1:\n",
    "        print(\"첫번째 값의 범위는 1 ~ 20입니다.\")\n",
    "    elif num_sec < 10 and num_sec > 30:\n",
    "        print(\"두번째 값의 범위는 10 ~ 30입니다.\")\n",
    "    elif num_fst > num_sec: \n",
    "        print(\"첫 번째 입력 값은 두 번쨰 입력 값보다 작게 입력하세요.\")\n",
    "    else:\n"
   ]
  },
  {
   "cell_type": "code",
   "execution_count": 367,
   "metadata": {},
   "outputs": [
    {
     "name": "stdout",
     "output_type": "stream",
     "text": [
      "- 1 + 4 - 9 + 16 - 25 + 36 - 49 + 64 - 81 + 100 \n",
      "- 121 + 144 - 169 + 196 - 225 + 256 - 289 + 324 - 361 + 400 \n",
      "- 441 + 484 - 529 + 576 - 625 + 676 - 729 + 784 - 841 + 900 \n",
      "- 961 + 1024 - 1089 + 1156 - 1225 + 1296 - 1369 + 1444 - 1521 + 1600 \n",
      "- 1681 + 1764 - 1849 + 1936 - 2025 + 2116 - 2209 + 2304 - 2401 + 2500 \n",
      "- 2601 + 2704 - 2809 + 2916 - 3025 + 3136 - 3249 + 3364 - 3481 + 3600 \n",
      "- 3721 + 3844 - 3969 + 4096 - 4225 + 4356 - 4489 + 4624 - 4761 + 4900 \n",
      "- 5041 + 5184 - 5329 + 5476 - 5625 + 5776 - 5929 + 6084 - 6241 + 6400 \n",
      "- 6561 + 6724 - 6889 + 7056 - 7225 + 7396 - 7569 + 7744 - 7921 + 8100 \n",
      "- 8281 + 8464 - 8649 + 8836 - 9025 + 9216 - 9409 + 9604 - 9801 + 10000 \n",
      "= 5050 입니다.\n"
     ]
    }
   ],
   "source": [
    "y = 0\n",
    "z = 0\n",
    "line = 0\n",
    "while y < 100:\n",
    "    y += 1\n",
    "    if y % 2 == 0:\n",
    "        z += y ** 2\n",
    "        print(\"+\", y ** 2, end=\" \")\n",
    "    else:\n",
    "        z -= y ** 2\n",
    "        print(\"-\", y ** 2, end=\" \")\n",
    "    line += 1\n",
    "    if line == 10:\n",
    "        line = 0\n",
    "        print()\n",
    "print(\"=\", z, \"입니다.\")"
   ]
  },
  {
   "cell_type": "code",
   "execution_count": 361,
   "metadata": {},
   "outputs": [
    {
     "name": "stdout",
     "output_type": "stream",
     "text": [
      "- 1 + 4 - 9 + 16 - 25 + 36 - 49 + 64 - 81 + 100 \n",
      "- 121 + 144 - 169 + 196 - 225 + 256 - 289 + 324 - 361 + 400 \n",
      "- 441 + 484 - 529 + 576 - 625 + 676 - 729 + 784 - 841 + 900 \n",
      "- 961 + 1024 - 1089 + 1156 - 1225 + 1296 - 1369 + 1444 - 1521 + 1600 \n",
      "- 1681 + 1764 - 1849 + 1936 - 2025 + 2116 - 2209 + 2304 - 2401 + 2500 \n",
      "- 2601 + 2704 - 2809 + 2916 - 3025 + 3136 - 3249 + 3364 - 3481 + 3600 \n",
      "- 3721 + 3844 - 3969 + 4096 - 4225 + 4356 - 4489 + 4624 - 4761 + 4900 \n",
      "- 5041 + 5184 - 5329 + 5476 - 5625 + 5776 - 5929 + 6084 - 6241 + 6400 \n",
      "- 6561 + 6724 - 6889 + 7056 - 7225 + 7396 - 7569 + 7744 - 7921 + 8100 \n",
      "- 8281 + 8464 - 8649 + 8836 - 9025 + 9216 - 9409 + 9604 - 9801 + 10000 \n",
      "= 5050 입니다.\n"
     ]
    }
   ],
   "source": [
    "y = 1\n",
    "total = 0\n",
    "line = 0\n",
    "while y <= 100:\n",
    "    if y % 2 == 0:\n",
    "        total += y ** 2\n",
    "        print(\"+\", y ** 2, end=\" \")     # y * y도 가능\n",
    "    else:\n",
    "        total -= y ** 2\n",
    "        print(\"-\", y ** 2, end=\" \")     # y * y도 가능\n",
    "    y += 1\n",
    "    line += 1\n",
    "    if line == 10:\n",
    "        line = 0\n",
    "        print()\n",
    "print(\"=\", total, \"입니다.\")"
   ]
  }
 ],
 "metadata": {
  "kernelspec": {
   "display_name": "base",
   "language": "python",
   "name": "python3"
  },
  "language_info": {
   "codemirror_mode": {
    "name": "ipython",
    "version": 3
   },
   "file_extension": ".py",
   "mimetype": "text/x-python",
   "name": "python",
   "nbconvert_exporter": "python",
   "pygments_lexer": "ipython3",
   "version": "3.9.13 (main, Aug 25 2022, 18:24:45) \n[Clang 12.0.0 ]"
  },
  "orig_nbformat": 4,
  "vscode": {
   "interpreter": {
    "hash": "29022363fef606f9f23df6f4a22f2b4728bceb42fab3e5e3f1a324182233d5f0"
   }
  }
 },
 "nbformat": 4,
 "nbformat_minor": 2
}
