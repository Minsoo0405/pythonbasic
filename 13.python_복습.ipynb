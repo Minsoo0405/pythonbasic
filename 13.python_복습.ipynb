{
 "cells": [
  {
   "attachments": {},
   "cell_type": "markdown",
   "metadata": {},
   "source": [
    "# [13파이썬 강의자료](https://drive.google.com/drive/folders/1wt_s-6MmV_Twg57vfXw9mGxO7NYZ14Im)\n",
    "![연습문제](./pythonbasic/capture/practice7.png)"
   ]
  },
  {
   "cell_type": "code",
   "execution_count": 28,
   "metadata": {},
   "outputs": [
    {
     "name": "stdout",
     "output_type": "stream",
     "text": [
      "7\n",
      "14\n",
      "[6 7]\n",
      "[7, 12]\n",
      "[[3 4]\n",
      " [8 9]]\n"
     ]
    }
   ],
   "source": [
    "import numpy as np\n",
    "\n",
    "m = np.array([[0, 1, 2, 3, 4],\n",
    "            [5, 6, 7, 8, 9],\n",
    "            [10, 11, 12, 13, 14]])\n",
    "\n",
    "print(m[1][2])\n",
    "print(m[2][4])\n",
    "print(m[1][1:3])\n",
    "print([m[1][2], m[2][2]])\n",
    "print(m[:2, 3:])"
   ]
  }
 ],
 "metadata": {
  "kernelspec": {
   "display_name": "Python 3",
   "language": "python",
   "name": "python3"
  },
  "language_info": {
   "codemirror_mode": {
    "name": "ipython",
    "version": 3
   },
   "file_extension": ".py",
   "mimetype": "text/x-python",
   "name": "python",
   "nbconvert_exporter": "python",
   "pygments_lexer": "ipython3",
   "version": "3.11.1 (main, Dec 23 2022, 09:28:24) [Clang 14.0.0 (clang-1400.0.29.202)]"
  },
  "orig_nbformat": 4,
  "vscode": {
   "interpreter": {
    "hash": "5c7b89af1651d0b8571dde13640ecdccf7d5a6204171d6ab33e7c296e100e08a"
   }
  }
 },
 "nbformat": 4,
 "nbformat_minor": 2
}
