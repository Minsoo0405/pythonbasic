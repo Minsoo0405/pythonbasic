{
 "cells": [
  {
   "cell_type": "code",
   "execution_count": 3,
   "metadata": {},
   "outputs": [
    {
     "name": "stdout",
     "output_type": "stream",
     "text": [
      "1\n"
     ]
    }
   ],
   "source": [
    "print(1)"
   ]
  },
  {
   "attachments": {},
   "cell_type": "markdown",
   "metadata": {},
   "source": [
    "# H1\n",
    "## H2\n",
    "### H3\n",
    "#### H4\n",
    "##### H5"
   ]
  },
  {
   "attachments": {},
   "cell_type": "markdown",
   "metadata": {},
   "source": [
    "일반 텍스트는 그냥 입력하시면 됩니다.\n",
    "**굵은 글씨**는 이렇게 사용합니다.\n",
    "*기울인 글씨*는 이렇게 씁니다.\n",
    "~~취소선~~은 이렇게 씁니다.\n",
    "\n",
    "> 구획이  \n",
    "> 잡힌  \n",
    "> 글입니다.  \n",
    "# 칸 나누려면 뒤에 띄어쓰기 2번 "
   ]
  },
  {
   "attachments": {},
   "cell_type": "markdown",
   "metadata": {},
   "source": [
    "- 목록1 \n",
    "- 목록2\n",
    "\n",
    "* 목록1\n",
    "* 목록3"
   ]
  },
  {
   "attachments": {},
   "cell_type": "markdown",
   "metadata": {},
   "source": [
    "1. 순서가 있는 목록1\n",
    "2. 순서가 있는 목록2\n",
    "3. 순서가 있는 목록3"
   ]
  },
  {
   "attachments": {},
   "cell_type": "markdown",
   "metadata": {},
   "source": [
    "[Naver](https://www.naver.com)"
   ]
  },
  {
   "attachments": {},
   "cell_type": "markdown",
   "metadata": {},
   "source": [
    "# 앞에 !없으면 링크로 이동"
   ]
  },
  {
   "attachments": {},
   "cell_type": "markdown",
   "metadata": {},
   "source": [
    "[이미지](https://search.pstatic.net/common/?src=http%3A%2F%2Fcafefiles.naver.net%2Fdata23%2F2006%2F7%2F30%2F279%2FARSENAL1.jpg&type=a340)"
   ]
  },
  {
   "attachments": {},
   "cell_type": "markdown",
   "metadata": {},
   "source": [
    "# 앞에 !있으면 이미지 띄워줌"
   ]
  },
  {
   "attachments": {},
   "cell_type": "markdown",
   "metadata": {},
   "source": [
    "![이미지](https://search.pstatic.net/common/?src=http%3A%2F%2Fcafefiles.naver.net%2Fdata23%2F2006%2F7%2F30%2F279%2FARSENAL1.jpg&type=a340)"
   ]
  },
  {
   "attachments": {},
   "cell_type": "markdown",
   "metadata": {},
   "source": [
    "|제목 셀|제목 셀|제목 셀|\n",
    "|:--|--:|:--:|\n",
    "|값1|값2|값3|"
   ]
  },
  {
   "attachments": {},
   "cell_type": "markdown",
   "metadata": {},
   "source": [
    "''' python\n",
    "x = int(input(\"인사는 몇 번 할까요?\"))\n",
    "\n",
    "for _ in range(x):\n",
    "    print(\"Hello world\")\n",
    "\n",
    "''' \n",
    "# 색이 입혀짐"
   ]
  },
  {
   "cell_type": "code",
   "execution_count": 11,
   "metadata": {},
   "outputs": [
    {
     "name": "stdout",
     "output_type": "stream",
     "text": [
      "False\n"
     ]
    }
   ],
   "source": [
    "# [국어, 영어, 한국사, 선택 교과1, 선택 교과2]\n",
    "scores = [88, 73, 89, 59, 77]\n",
    "\n",
    "print(scores[0] >= 60 and scores[1] >= 60 and scores[2] >= 60 and scores[3] >= 60 and scores[4] >= 60)"
   ]
  },
  {
   "attachments": {},
   "cell_type": "markdown",
   "metadata": {},
   "source": [
    "## append, insert, extend, remove, pop, index, count, sort, reverse"
   ]
  },
  {
   "cell_type": "code",
   "execution_count": 88,
   "metadata": {},
   "outputs": [
    {
     "name": "stdout",
     "output_type": "stream",
     "text": [
      "[1, 2, 3, 4, 5, 6, 7, 8, 9]\n",
      "None\n"
     ]
    }
   ],
   "source": [
    "numbers = [1, 2, 3, 4, 5, 6, 7]\n",
    "numbers.extend([8, 9])\n",
    "\n",
    "print(numbers)\n"
   ]
  },
  {
   "cell_type": "code",
   "execution_count": 27,
   "metadata": {},
   "outputs": [
    {
     "ename": "ValueError",
     "evalue": "list.remove(x): x not in list",
     "output_type": "error",
     "traceback": [
      "\u001b[0;31m---------------------------------------------------------------------------\u001b[0m",
      "\u001b[0;31mValueError\u001b[0m                                Traceback (most recent call last)",
      "\u001b[1;32m/Users/kimminsoo/Desktop/pythonbasic/03phthon.ipynb Cell 13\u001b[0m in \u001b[0;36m<cell line: 1>\u001b[0;34m()\u001b[0m\n\u001b[0;32m----> <a href='vscode-notebook-cell:/Users/kimminsoo/Desktop/pythonbasic/03phthon.ipynb#X22sZmlsZQ%3D%3D?line=0'>1</a>\u001b[0m numbers\u001b[39m.\u001b[39;49mremove(\u001b[39m0\u001b[39;49m)\n\u001b[1;32m      <a href='vscode-notebook-cell:/Users/kimminsoo/Desktop/pythonbasic/03phthon.ipynb#X22sZmlsZQ%3D%3D?line=2'>3</a>\u001b[0m \u001b[39mprint\u001b[39m(numbers)\n",
      "\u001b[0;31mValueError\u001b[0m: list.remove(x): x not in list"
     ]
    }
   ],
   "source": [
    "numbers.remove(0)\n",
    "\n",
    "print(numbers) # 인덱스 입력인데 오류?"
   ]
  },
  {
   "cell_type": "code",
   "execution_count": 29,
   "metadata": {},
   "outputs": [
    {
     "name": "stdout",
     "output_type": "stream",
     "text": [
      "9\n",
      "[2, 3, 4, 6, 7]\n"
     ]
    }
   ],
   "source": [
    "print(numbers.pop())\n",
    "print(numbers)"
   ]
  },
  {
   "cell_type": "code",
   "execution_count": 34,
   "metadata": {},
   "outputs": [
    {
     "name": "stdout",
     "output_type": "stream",
     "text": [
      "[2, 3, 4, 6, 7]\n",
      "2\n"
     ]
    }
   ],
   "source": [
    "print(numbers)\n",
    "print(numbers.index(4))"
   ]
  },
  {
   "cell_type": "code",
   "execution_count": 87,
   "metadata": {},
   "outputs": [
    {
     "name": "stdout",
     "output_type": "stream",
     "text": [
      "[2, 3, 4, 6, 7]\n",
      "1\n"
     ]
    }
   ],
   "source": [
    "print(numbers)\n",
    "print(numbers.count(2))"
   ]
  },
  {
   "cell_type": "code",
   "execution_count": 41,
   "metadata": {},
   "outputs": [
    {
     "name": "stdout",
     "output_type": "stream",
     "text": [
      "[2, 3, 4, 6, 7]\n",
      "None\n",
      "None\n"
     ]
    }
   ],
   "source": [
    "print(numbers)\n",
    "print(numbers.sort()) #오름차순\n",
    "print(numbers.reverse()) #순서바꾸기"
   ]
  },
  {
   "cell_type": "code",
   "execution_count": 51,
   "metadata": {},
   "outputs": [
    {
     "name": "stdout",
     "output_type": "stream",
     "text": [
      "[3, 4, 5, 7, 6]\n",
      "6\n",
      "[3, 4, 5, 7]\n",
      "7\n",
      "[3, 4, 5]\n",
      "<built-in method clear of list object at 0x108ee9300>\n"
     ]
    }
   ],
   "source": [
    "stack = [3, 4, 5]\n",
    "stack.append(7)\n",
    "stack.append(6)\n",
    "\n",
    "print(stack)\n",
    "print(stack.pop())\n",
    "print(stack)\n",
    "print(stack.pop())\n",
    "print(stack)\n",
    "print(stack.clear)"
   ]
  },
  {
   "attachments": {},
   "cell_type": "markdown",
   "metadata": {},
   "source": [
    "## tuple"
   ]
  },
  {
   "cell_type": "code",
   "execution_count": 56,
   "metadata": {},
   "outputs": [
    {
     "name": "stdout",
     "output_type": "stream",
     "text": [
      "(1, 2, 3, 4, 5, 'hello')\n"
     ]
    }
   ],
   "source": [
    "tuple_variable = (1, 2, 3, 4, 5, \"hello\")\n",
    "\n",
    "print(tuple_variable)"
   ]
  },
  {
   "cell_type": "code",
   "execution_count": 57,
   "metadata": {},
   "outputs": [
    {
     "ename": "TypeError",
     "evalue": "'tuple' object does not support item assignment",
     "output_type": "error",
     "traceback": [
      "\u001b[0;31m---------------------------------------------------------------------------\u001b[0m",
      "\u001b[0;31mTypeError\u001b[0m                                 Traceback (most recent call last)",
      "\u001b[1;32m/Users/kimminsoo/Desktop/pythonbasic/03phthon.ipynb Cell 20\u001b[0m in \u001b[0;36m<cell line: 1>\u001b[0;34m()\u001b[0m\n\u001b[0;32m----> <a href='vscode-notebook-cell:/Users/kimminsoo/Desktop/pythonbasic/03phthon.ipynb#X35sZmlsZQ%3D%3D?line=0'>1</a>\u001b[0m tuple_variable[\u001b[39m1\u001b[39m:\u001b[39m3\u001b[39m] \u001b[39m=\u001b[39m (\u001b[39m\"\u001b[39m\u001b[39mdd\u001b[39m\u001b[39m\"\u001b[39m, \u001b[39m'\u001b[39m\u001b[39mrr\u001b[39m\u001b[39m'\u001b[39m)\n",
      "\u001b[0;31mTypeError\u001b[0m: 'tuple' object does not support item assignment"
     ]
    }
   ],
   "source": [
    "tuple_variable[1:3] = (\"dd\", 'rr')"
   ]
  },
  {
   "cell_type": "code",
   "execution_count": 59,
   "metadata": {},
   "outputs": [
    {
     "ename": "TypeError",
     "evalue": "'tuple' object doesn't support item deletion",
     "output_type": "error",
     "traceback": [
      "\u001b[0;31m---------------------------------------------------------------------------\u001b[0m",
      "\u001b[0;31mTypeError\u001b[0m                                 Traceback (most recent call last)",
      "\u001b[1;32m/Users/kimminsoo/Desktop/pythonbasic/03phthon.ipynb Cell 22\u001b[0m in \u001b[0;36m<cell line: 1>\u001b[0;34m()\u001b[0m\n\u001b[0;32m----> <a href='vscode-notebook-cell:/Users/kimminsoo/Desktop/pythonbasic/03phthon.ipynb#X41sZmlsZQ%3D%3D?line=0'>1</a>\u001b[0m \u001b[39mdel\u001b[39;00m tuple_variable[\u001b[39m0\u001b[39m]\n",
      "\u001b[0;31mTypeError\u001b[0m: 'tuple' object doesn't support item deletion"
     ]
    }
   ],
   "source": [
    "del tuple_variable[0]"
   ]
  },
  {
   "cell_type": "code",
   "execution_count": 66,
   "metadata": {},
   "outputs": [
    {
     "name": "stdout",
     "output_type": "stream",
     "text": [
      "<class 'tuple'>\n",
      "('음', '오', '아', '예')\n"
     ]
    }
   ],
   "source": [
    "t_v2 = \"음\", '오', \"아\", '예'\n",
    "\n",
    "print(type(t_v2))\n",
    "print(t_v2) # tuple이기 떄문에 소괄호 포함되서 값이 나옴"
   ]
  },
  {
   "attachments": {},
   "cell_type": "markdown",
   "metadata": {},
   "source": [
    "## 튜플과 리스트의 소요시간 비교"
   ]
  },
  {
   "cell_type": "code",
   "execution_count": 83,
   "metadata": {},
   "outputs": [
    {
     "name": "stdout",
     "output_type": "stream",
     "text": [
      "0.12334632873535156\n"
     ]
    }
   ],
   "source": [
    "import time\n",
    "\n",
    "curr = time.time()\n",
    "total = []\n",
    "\n",
    "for i in range(1000) :\n",
    "    for j in range(1000):\n",
    "        total.append((i, j))\n",
    "\n",
    "last = time.time()\n",
    "print(last - curr)"
   ]
  },
  {
   "cell_type": "code",
   "execution_count": 82,
   "metadata": {},
   "outputs": [
    {
     "name": "stdout",
     "output_type": "stream",
     "text": [
      "0.13187789916992188\n"
     ]
    }
   ],
   "source": [
    "import time\n",
    "\n",
    "curr = time.time()\n",
    "total = []\n",
    "\n",
    "for i in range(1000) :\n",
    "    for j in range(1000):\n",
    "        total.append([i, j])\n",
    "\n",
    "last = time.time()\n",
    "print(last - curr)"
   ]
  },
  {
   "attachments": {},
   "cell_type": "markdown",
   "metadata": {},
   "source": [
    "* 연습문제\n",
    "1. 튜플 -> 소수는 변함없는 수\n",
    "2. 리스트 -> ?\n",
    "3. 리스트 -> 나이, 몸무게, 키는 시간이 지나면 바뀔 수 있음\n",
    "4. 튜플 -> 생일과 출생지는 정해지면 변하지 않음\n",
    "5. 튜플 -> 1번의 게임 결과는 변하지 않음\n",
    "6. 리스트 -> 여러 번의 게임의 결과는 달라질 수 있음"
   ]
  },
  {
   "cell_type": "code",
   "execution_count": 89,
   "metadata": {},
   "outputs": [
    {
     "name": "stdout",
     "output_type": "stream",
     "text": [
      "text1\n",
      "text2\n"
     ]
    }
   ],
   "source": [
    "s1, s2 = \"text1\", \"text2\"\n",
    "\n",
    "print(s1)\n",
    "print(s2)"
   ]
  },
  {
   "cell_type": "code",
   "execution_count": 96,
   "metadata": {},
   "outputs": [
    {
     "name": "stdout",
     "output_type": "stream",
     "text": [
      "이렇게 리스트도 가능합니다.\n",
      "문 자 열 도   가 능\n"
     ]
    }
   ],
   "source": [
    "s3, s4, s5 = [\"이렇게\", \"리스트도\", \"가능합니다.\"]\n",
    "s6, s7, s8, s9, s10, s11, s12, s13 = \"문자열도 가능함\" # unpacking 숫자가 안맞으면 오류\n",
    "\n",
    "print(s3, s4, s5)\n",
    "print(s6, s7, s8, s9, s10, s11, s12) "
   ]
  },
  {
   "attachments": {},
   "cell_type": "markdown",
   "metadata": {},
   "source": [
    "이름을 입력하시오: 엔코아\n",
    "엔코아 씨, 안녕하세요?\n",
    "파이썬에 오신 것을 환영합니다.\n",
    "첫 번째 정수를 입력하세요 : 300\n",
    "두 번째 정수를 입력하세요 : 400\n",
    "300 과 400의 합은 700입니다."
   ]
  },
  {
   "cell_type": "code",
   "execution_count": 17,
   "metadata": {},
   "outputs": [
    {
     "name": "stdout",
     "output_type": "stream",
     "text": [
      "엔코아 씨, 안녕하세요?\n",
      "파이썬에 오신 것을 환영합니다.\n"
     ]
    }
   ],
   "source": [
    "name = input(\"이름을 입력하시오.: \")\n",
    "print(name, \"씨, 안녕하세요?\")\n",
    "print(\"파이썬에 오신 것을 환영합니다.\")"
   ]
  },
  {
   "cell_type": "code",
   "execution_count": 22,
   "metadata": {},
   "outputs": [
    {
     "name": "stdout",
     "output_type": "stream",
     "text": [
      "300 과 400 의 합은 700 입니다.\n"
     ]
    }
   ],
   "source": [
    "fir = input(\"첫 번째 정수를 입력하세요.: \")\n",
    "sec = input(\"두 번째 정수를 입력하세요.: \")\n",
    "\n",
    "print(fir, \"과\", sec, \"의 합은\", int(fir) + int(sec), \"입니다.\")"
   ]
  },
  {
   "cell_type": "code",
   "execution_count": 23,
   "metadata": {},
   "outputs": [
    {
     "name": "stdout",
     "output_type": "stream",
     "text": [
      "엔코아 씨, 안녕하세요?\n",
      "파이썬에 오신 것을 환영합니다.\n",
      "300 과 400 의 합은 700 입니다.\n"
     ]
    }
   ],
   "source": [
    "name = input(\"이름을 입력하시오.: \")\n",
    "fir = input(\"첫 번째 정수를 입력하세요.: \")\n",
    "sec = input(\"두 번째 정수를 입력하세요.: \")\n",
    "\n",
    "print(name, \"씨, 안녕하세요?\")\n",
    "print(\"파이썬에 오신 것을 환영합니다.\")\n",
    "print(fir, \"과\", sec, \"의 합은\", int(fir) + int(sec), \"입니다.\")"
   ]
  },
  {
   "cell_type": "code",
   "execution_count": 24,
   "metadata": {},
   "outputs": [
    {
     "name": "stdout",
     "output_type": "stream",
     "text": [
      "[속보] KT 가 10 : 9 로 승리..\n",
      "오늘 고척 경기장에서 야구 경기가 있었습니다.\n",
      "KT 와 LG 는 치열한 공방전을 펼쳤습니다.\n",
      "이 경기에서 강백호 가 맹활약을 했습니다.\n",
      "그 끝내 KT 가  LG 를 10 : 9 로 승리하였습니다.\n",
      "기사 끝.\n"
     ]
    }
   ],
   "source": [
    "stadium = input(\"경기장은 어디입니까?: \")\n",
    "winner = input(\"이긴 팀은 어디입니까?: \")\n",
    "loser = input(\"진팀은 어디입니까?: \")\n",
    "mvp = input(\"우수 선수는 누구입니까?: \")\n",
    "score = input(\"스코어는 몇대몇입니까?: \")\n",
    "\n",
    "print(\"[속보]\", winner , \"가\", score, \"로 승리..\")\n",
    "print(\"오늘\", stadium, \"경기장에서 야구 경기가 있었습니다.\")\n",
    "print(winner, \"와\", loser, \"는 치열한 공방전을 펼쳤습니다.\")\n",
    "print(\"이 경기에서\", mvp, \"가 맹활약을 했습니다.\")\n",
    "print(\"그 끝내\", winner, \"가 \", loser, \"를\", score, \"로 승리하였습니다.\")\n",
    "print(\"기사 끝.\")"
   ]
  },
  {
   "cell_type": "code",
   "execution_count": 28,
   "metadata": {},
   "outputs": [
    {
     "name": "stdout",
     "output_type": "stream",
     "text": [
      "<class 'list'>\n",
      "['1', '2', '3']\n"
     ]
    }
   ],
   "source": [
    "result = '1,2,3'.split(',')\n",
    "print(type(result))\n",
    "print(result)"
   ]
  },
  {
   "cell_type": "code",
   "execution_count": 67,
   "metadata": {},
   "outputs": [
    {
     "name": "stdout",
     "output_type": "stream",
     "text": [
      "12 : 33 : 23\n"
     ]
    },
    {
     "data": {
      "text/plain": [
       "<function print>"
      ]
     },
     "execution_count": 67,
     "metadata": {},
     "output_type": "execute_result"
    }
   ],
   "source": [
    "hh = input(\"몇시?\")\n",
    "mm = input(\"몇분?\")\n",
    "ss = input(\"몇초?\")\n",
    "\n",
    "print(hh, \":\", mm, \":\", ss)\n",
    "print\n",
    "\n",
    "\n",
    "\n"
   ]
  },
  {
   "cell_type": "code",
   "execution_count": 72,
   "metadata": {},
   "outputs": [
    {
     "ename": "SyntaxError",
     "evalue": "cannot assign to function call (1286014576.py, line 3)",
     "output_type": "error",
     "traceback": [
      "\u001b[0;36m  Input \u001b[0;32mIn [72]\u001b[0;36m\u001b[0m\n\u001b[0;31m    time(\"hh\") = input(\"몇시?'\")\u001b[0m\n\u001b[0m    ^\u001b[0m\n\u001b[0;31mSyntaxError\u001b[0m\u001b[0;31m:\u001b[0m cannot assign to function call\n"
     ]
    }
   ],
   "source": [
    "time = 'hh:mm:ss'\n",
    "strings = time.split(':')\n",
    "\n",
    "print(strings)"
   ]
  },
  {
   "cell_type": "code",
   "execution_count": 76,
   "metadata": {},
   "outputs": [
    {
     "name": "stdout",
     "output_type": "stream",
     "text": [
      "[1, 2, 3, 4]\n"
     ]
    }
   ],
   "source": [
    "a = [1.234, 2.567, 3.78, 4.6789]\n",
    "a = list(map(int, a))\n",
    "\n",
    "print(a)"
   ]
  },
  {
   "attachments": {},
   "cell_type": "markdown",
   "metadata": {},
   "source": [
    "# 내가 생각한거"
   ]
  },
  {
   "cell_type": "code",
   "execution_count": 97,
   "metadata": {},
   "outputs": [
    {
     "name": "stdout",
     "output_type": "stream",
     "text": [
      "['96', '100', '98', '100']\n"
     ]
    }
   ],
   "source": [
    "kor = input(\"국어점수?: \")\n",
    "eng = input(\"영어점수?: \")\n",
    "mat = input(\"수학점수?: \")\n",
    "sci = input(\"과학점수?: \")\n",
    "\n",
    "a = [kor, eng, mat, sci]\n",
    "\n",
    "print(a)"
   ]
  },
  {
   "attachments": {},
   "cell_type": "markdown",
   "metadata": {},
   "source": [
    "#답"
   ]
  },
  {
   "cell_type": "code",
   "execution_count": 98,
   "metadata": {},
   "outputs": [
    {
     "ename": "SyntaxError",
     "evalue": "invalid syntax (361506304.py, line 1)",
     "output_type": "error",
     "traceback": [
      "\u001b[0;36m  Input \u001b[0;32mIn [98]\u001b[0;36m\u001b[0m\n\u001b[0;31m    kor, eng, mat sci = map(int, input(\"국어ㅡ 영어, 수학, 과학, 점수를 입력해주세요.\").split(\",\"))\u001b[0m\n\u001b[0m                      ^\u001b[0m\n\u001b[0;31mSyntaxError\u001b[0m\u001b[0;31m:\u001b[0m invalid syntax\n"
     ]
    }
   ],
   "source": [
    "kor, eng, mat sci = map(int, input(\"국어, 영어, 수학, 과학, 점수를 입력해주세요.\").split(\",\"))\n",
    "avg = (kor + eng + mat + sci) / 4\n",
    "print(\"평균 점수는\", avg, \"점입니다.\")"
   ]
  },
  {
   "cell_type": "code",
   "execution_count": 127,
   "metadata": {},
   "outputs": [
    {
     "name": "stdout",
     "output_type": "stream",
     "text": [
      "줄이바뀌지 않습니다.그 이유는 기본 설정된 값을 빈 스트링으로 변경했기 때문입니다.\n",
      "sep,end는 맨 뒤에 써야하며 둘 간 순서는 상관없습니다.어떻게 사용하는지\n",
      "이해가 되시나요"
     ]
    }
   ],
   "source": [
    "print(\"줄이바뀌지 않습니다.\", end=\"\")\n",
    "print(\"그 이유는 기본 설정된 값을 빈 스트링으로 변경했기 때문입니다.\")\n",
    "print(\"sep\", \"end는 맨 뒤에 써야하며 둘 간 순서는 상관없습니다.\", sep=\",\", end=\"\")\n",
    "print(\"어떻게 사용하는지\", \"이해가 되시나요\", sep=\"\\n\", end=\"\")"
   ]
  },
  {
   "cell_type": "code",
   "execution_count": 148,
   "metadata": {},
   "outputs": [
    {
     "name": "stdout",
     "output_type": "stream",
     "text": [
      "2021/02/03 18:33:23\n"
     ]
    }
   ],
   "source": [
    "year = '2021'\n",
    "month = '02'\n",
    "day = '03'\n",
    "hour = '18'\n",
    "minute = '33'\n",
    "second = '23'\n",
    "\n",
    "print(year, month, day, sep='/', end=' ')\n",
    "print(hour, minute, second, sep=':')"
   ]
  },
  {
   "cell_type": "code",
   "execution_count": 153,
   "metadata": {},
   "outputs": [
    {
     "name": "stdout",
     "output_type": "stream",
     "text": [
      "총 가격은 14000 원입니다.\n"
     ]
    }
   ],
   "source": [
    "apple, orange = map(int, input(\"사과와 귤을 몇개 드릴까요?\").split(\",\"))\n",
    "price = 1000 * apple + 200 * orange\n",
    "print(\"총 가격은\", price,\"원입니다.\")\n"
   ]
  },
  {
   "cell_type": "code",
   "execution_count": 160,
   "metadata": {},
   "outputs": [
    {
     "name": "stdout",
     "output_type": "stream",
     "text": [
      "input_value4는 실수입니다.\n"
     ]
    }
   ],
   "source": [
    "input_value4 = 4.23\n",
    "if type(input_value4) is int:\n",
    "    print(\"input_value4는 정수입니다.\")\n",
    "elif type(input_value4) is float:\n",
    "    print(\"input_value4는 실수입니다.\")"
   ]
  },
  {
   "cell_type": "code",
   "execution_count": 165,
   "metadata": {},
   "outputs": [
    {
     "name": "stdout",
     "output_type": "stream",
     "text": [
      "30대 입니다.\n",
      "감사합니다.\n"
     ]
    }
   ],
   "source": [
    "age = 39\n",
    "\n",
    "if 20 <= age < 30:\n",
    "    print(\"20대 입니다.\")\n",
    "elif 30 <= age < 40:\n",
    "    print(\"30대 입니다.\")\n",
    "\n",
    "print(\"감사합니다.\")"
   ]
  },
  {
   "cell_type": "code",
   "execution_count": 202,
   "metadata": {},
   "outputs": [
    {
     "name": "stdout",
     "output_type": "stream",
     "text": [
      "최고 관리자, 모든 권한을 갖습니다.\n"
     ]
    }
   ],
   "source": [
    "id = input(\"아이디를 입력하세요.\")\n",
    "\n",
    "if id == \"admin\":\n",
    "    print(\"최고 관리자, 모든 권한을 갖습니다.\")\n",
    "elif id != \"admin\":\n",
    "    level = input(\"회원 등급을 입력해주세요.\")\n",
    "    level[1:4]\n",
    "    print(\"제한적인 권한을 갖습니다.\")\n"
   ]
  },
  {
   "cell_type": "code",
   "execution_count": 204,
   "metadata": {},
   "outputs": [
    {
     "name": "stdout",
     "output_type": "stream",
     "text": [
      "최고 관리자, 모든 권한을 갖습니다.\n"
     ]
    }
   ],
   "source": [
    "id = input(\"아이디를 입력하세요.\")\n",
    "\n",
    "if id == \"admin\":\n",
    "    print(\"최고 관리자, 모든 권한을 갖습니다.\")\n",
    "elif id != \"admin\":\n",
    "    level = input(\"회원 등급을 입력해주세요.\")\n",
    "    1 <= int(level) < 4\n",
    "    print(\"제한적인 권한을 갖습니다.\")"
   ]
  },
  {
   "cell_type": "code",
   "execution_count": 207,
   "metadata": {},
   "outputs": [
    {
     "name": "stdout",
     "output_type": "stream",
     "text": [
      "최고 관리자, 모든 권한을 갖습니다.\n"
     ]
    }
   ],
   "source": [
    "id = input(\"아이디를 입력하세요.\")\n",
    "\n",
    "if id == \"admin\":\n",
    "    print(\"최고 관리자, 모든 권한을 갖습니다.\")\n",
    "else :\n",
    "    level = input(\"회원 등급을 입력해주세요.\")\n",
    "    1 <= int(level) < 4\n",
    "    print(\"제한적인 권한을 갖습니다.\")"
   ]
  }
 ],
 "metadata": {
  "kernelspec": {
   "display_name": "base",
   "language": "python",
   "name": "python3"
  },
  "language_info": {
   "codemirror_mode": {
    "name": "ipython",
    "version": 3
   },
   "file_extension": ".py",
   "mimetype": "text/x-python",
   "name": "python",
   "nbconvert_exporter": "python",
   "pygments_lexer": "ipython3",
   "version": "3.9.13"
  },
  "orig_nbformat": 4,
  "vscode": {
   "interpreter": {
    "hash": "29022363fef606f9f23df6f4a22f2b4728bceb42fab3e5e3f1a324182233d5f0"
   }
  }
 },
 "nbformat": 4,
 "nbformat_minor": 2
}
