{
 "cells": [
  {
   "attachments": {},
   "cell_type": "markdown",
   "metadata": {},
   "source": [
    "# 객체지향(Object Oriented) 프로그래밍\n",
    "\n",
    "    1. 객체가 가진 데이터를 클래스의 속성(Attribute)이라 부르고 객체가 갖는 기능을 메서드(Method)라고 부른다.\n",
    "\n",
    "#### 클래스(Class)\n",
    "\n",
    "    1. 사용자 정의 객체를 만들기 위한 뼈대      \n",
    "    ex) class ClassName:            # 클래스명은 주로 PascalCase를 씀.\n",
    "            def method_name(self):\n",
    "                method_body\n",
    "\n",
    "            class_body\n",
    "            ...\n",
    "    2. 객체(Object)? 인스턴스(instance)?\n",
    "        2.1. 단어 하나만 활용할 때 사용하는 것을 '객체'\n",
    "        2.2. 리스트 클래스로 만들어진 '인스턴스'\n",
    "        2.3. 결국 둘은 같은 말\n",
    "    3. 메서드(Method)\n",
    "        3.1. 클래스 바디 안에서 정의되는 함수\n",
    "        ex) class ClasName:\n",
    "                def method_name(self):      # 메서드를 선언할때, 첫번째 인자로 인스턴스 객체(self)를 받는다.\n",
    "                    method_body\n",
    "\n",
    "                class_body\n",
    "        3.2. 클래스 속성(Attribute)\n",
    "            : __init__매서드 안에서 self.속성에 값을 할당하면 됨.\n",
    "            3.2.1 __init__ 메서드는 소괄호를 붙여서 인스턴스를 만들 때 호출되는 특별한 메서드(special method, magic method)\n",
    "            3.2.2 __init__은 initialize의 줄임말로 인스턴스(객체)를 초기화\n",
    "            3.2.3 밑줄 두개(__, double under, 던더)가 양 옆으로 붙어있는 매서드는 파이썬이 자동으로 호출하는 매서드\n",
    "\n",
    "    4. self\n",
    "        4.1. 인스턴스 \n",
    "\n",
    "    5. 비공개 속성 사용하기\n",
    "        5.1 인스턴스.속성 = 값을 통해 새롭게 인스턴스의 속성값을 변경 못하도록 막고 싶을 떄는 비공개 속성을 사용하면 됨. \n",
    "            ex) self.__attr2\n",
    "\n",
    "    6. 클래스 매서드(@classmethod)\n",
    "    \n",
    "    7. 스태틱 매서드(@staticmethod)"
   ]
  },
  {
   "cell_type": "code",
   "execution_count": 2,
   "metadata": {},
   "outputs": [],
   "source": [
    "class Student:\n",
    "    pass"
   ]
  },
  {
   "cell_type": "code",
   "execution_count": 3,
   "metadata": {},
   "outputs": [],
   "source": [
    "# 클래스로부터 인스턴스 초기화\n",
    "stu_a = Student()   # 인스턴스(stu_a)은 독립적으로 존재\n",
    "stu_b = Student()   # 인스턴스(stu_b)은 독립적으로 존재\n",
    "\n",
    "stu_a.hello = \"안녕하세요.\"     # stu_a에 대한 속성을 입력\n",
    "stu_a.name = \"학생A\"          # stu_a에 대한 속성을 입력"
   ]
  },
  {
   "cell_type": "code",
   "execution_count": 4,
   "metadata": {},
   "outputs": [
    {
     "name": "stdout",
     "output_type": "stream",
     "text": [
      "안녕하세요.\n",
      "학생A\n"
     ]
    }
   ],
   "source": [
    "print(stu_a.hello)\n",
    "print(stu_a.name)"
   ]
  },
  {
   "cell_type": "code",
   "execution_count": 5,
   "metadata": {},
   "outputs": [
    {
     "ename": "AttributeError",
     "evalue": "'Student' object has no attribute 'hello'",
     "output_type": "error",
     "traceback": [
      "\u001b[0;31m---------------------------------------------------------------------------\u001b[0m",
      "\u001b[0;31mAttributeError\u001b[0m                            Traceback (most recent call last)",
      "Cell \u001b[0;32mIn[5], line 1\u001b[0m\n\u001b[0;32m----> 1\u001b[0m \u001b[39mprint\u001b[39m(stu_b\u001b[39m.\u001b[39;49mhello)\n",
      "\u001b[0;31mAttributeError\u001b[0m: 'Student' object has no attribute 'hello'"
     ]
    }
   ],
   "source": [
    "print(stu_b.hello)"
   ]
  },
  {
   "cell_type": "code",
   "execution_count": 6,
   "metadata": {},
   "outputs": [],
   "source": [
    "class Student:\n",
    "    def __init__(self):\n",
    "        self.hello = \"안녕하세요.\"          # 모든 Student에 같은 속성을 적용하고 싶을때 self라는 인스턴스에 .hello라는 속성을 입혀준다.\n",
    "\n",
    "    def greeting(self):\n",
    "        print(self.hello)"
   ]
  },
  {
   "cell_type": "code",
   "execution_count": 7,
   "metadata": {},
   "outputs": [
    {
     "name": "stdout",
     "output_type": "stream",
     "text": [
      "안녕하세요.\n"
     ]
    }
   ],
   "source": [
    "stu_c = Student()\n",
    "\n",
    "print(stu_c.hello)"
   ]
  },
  {
   "cell_type": "code",
   "execution_count": 8,
   "metadata": {},
   "outputs": [
    {
     "name": "stdout",
     "output_type": "stream",
     "text": [
      "안녕하세요.\n",
      "안녕하세요.\n"
     ]
    }
   ],
   "source": [
    "stu_a = Student()\n",
    "stu_b = Student()\n",
    "\n",
    "stu_a.greeting()\n",
    "stu_b.greeting()"
   ]
  },
  {
   "cell_type": "code",
   "execution_count": 9,
   "metadata": {},
   "outputs": [],
   "source": [
    "class Person:\n",
    "    def __init__(self, name, age):             # Person이라는 클래스에 인스턴스 속성이 입력\n",
    "        self.name = name\n",
    "        self.age = age"
   ]
  },
  {
   "cell_type": "code",
   "execution_count": 10,
   "metadata": {},
   "outputs": [],
   "source": [
    "p1 = Person(\"name1\", 40)\n",
    "p2 = Person(\"name2\", 32)"
   ]
  },
  {
   "cell_type": "code",
   "execution_count": 11,
   "metadata": {},
   "outputs": [
    {
     "name": "stdout",
     "output_type": "stream",
     "text": [
      "{'name': 'name1', 'age': 40}\n",
      "{'name': 'name2', 'age': 32}\n"
     ]
    }
   ],
   "source": [
    "print(p1.__dict__)\n",
    "print(p2.__dict__)"
   ]
  },
  {
   "cell_type": "code",
   "execution_count": 12,
   "metadata": {},
   "outputs": [],
   "source": [
    "class Person2:\n",
    "    def __init__(self, name, age, address):\n",
    "        self.hello = \"안녕하세요\"\n",
    "        self.name = name\n",
    "        self.age = age\n",
    "        self.address = address\n",
    "\n",
    "    def greeting(self):\n",
    "        print(f'{self.hello} 제 이름은 {self.name} 입니다.')"
   ]
  },
  {
   "cell_type": "code",
   "execution_count": 13,
   "metadata": {},
   "outputs": [
    {
     "name": "stdout",
     "output_type": "stream",
     "text": [
      "안녕하세요 제 이름은 마리아 입니다.\n",
      "{'hello': '안녕하세요', 'name': '마리아', 'age': 23, 'address': '서울시 마포구'}\n"
     ]
    }
   ],
   "source": [
    "maria = Person2(\"마리아\", 23, \"서울시 마포구\")\n",
    "maria.greeting()\n",
    "\n",
    "print(maria.__dict__)"
   ]
  },
  {
   "cell_type": "code",
   "execution_count": 14,
   "metadata": {},
   "outputs": [],
   "source": [
    "class Person2:\n",
    "    def __init__(self, name, age, address, number):\n",
    "        self.name = name\n",
    "        self.age = age\n",
    "        self.address = address\n",
    "        self.number = number\n",
    "\n",
    "    def information(self):\n",
    "        print(f'이름은 무엇인가요?: {self.name}')\n",
    "        print(f'나이는 무엇인가요?: {self.age}')\n",
    "        print(f'주소는 무엇인가요?: {self.address}')\n",
    "    \n",
    "    def numbering(self):\n",
    "        print(f'{self.number} 이름: {self.name}')\n",
    "        print(f'{self.number} 나이: {self.age}')\n",
    "        print(f'{self.number} 주소: {self.address}')"
   ]
  },
  {
   "cell_type": "code",
   "execution_count": 15,
   "metadata": {},
   "outputs": [
    {
     "name": "stdout",
     "output_type": "stream",
     "text": [
      "이름은 무엇인가요?: 마리아\n",
      "나이는 무엇인가요?: 20\n",
      "주소는 무엇인가요?: 서울시 강남구\n",
      "이름은 무엇인가요?: 제임스\n",
      "나이는 무엇인가요?: 21\n",
      "주소는 무엇인가요?: 서울시 구로구\n",
      "첫번째 이름: 마리아\n",
      "첫번째 나이: 20\n",
      "첫번째 주소: 서울시 강남구\n",
      "두번째 이름: 제임스\n",
      "두번째 나이: 21\n",
      "두번째 주소: 서울시 구로구\n"
     ]
    }
   ],
   "source": [
    "maria = Person2(\"마리아\", 20, \"서울시 강남구\", \"첫번째\")\n",
    "james = Person2(\"제임스\", 21, \"서울시 구로구\", \"두번째\")\n",
    "\n",
    "maria.information()\n",
    "james.information()\n",
    "maria.numbering()\n",
    "james.numbering()"
   ]
  },
  {
   "cell_type": "code",
   "execution_count": 16,
   "metadata": {},
   "outputs": [
    {
     "ename": "AttributeError",
     "evalue": "'set' object has no attribute 'information'",
     "output_type": "error",
     "traceback": [
      "\u001b[0;31m---------------------------------------------------------------------------\u001b[0m",
      "\u001b[0;31mAttributeError\u001b[0m                            Traceback (most recent call last)",
      "Cell \u001b[0;32mIn[16], line 4\u001b[0m\n\u001b[1;32m      1\u001b[0m maria \u001b[39m=\u001b[39m Person2(\u001b[39m\"\u001b[39m\u001b[39m마리아\u001b[39m\u001b[39m\"\u001b[39m, \u001b[39m20\u001b[39m, \u001b[39m\"\u001b[39m\u001b[39m서울시 강남구\u001b[39m\u001b[39m\"\u001b[39m, \u001b[39m\"\u001b[39m\u001b[39m첫번째\u001b[39m\u001b[39m\"\u001b[39m)\n\u001b[1;32m      2\u001b[0m james \u001b[39m=\u001b[39m Person2(\u001b[39m\"\u001b[39m\u001b[39m제임스\u001b[39m\u001b[39m\"\u001b[39m, \u001b[39m21\u001b[39m, \u001b[39m\"\u001b[39m\u001b[39m서울시 구로구\u001b[39m\u001b[39m\"\u001b[39m, \u001b[39m\"\u001b[39m\u001b[39m두번째\u001b[39m\u001b[39m\"\u001b[39m)\n\u001b[0;32m----> 4\u001b[0m {maria, james}\u001b[39m.\u001b[39;49minformation()\n",
      "\u001b[0;31mAttributeError\u001b[0m: 'set' object has no attribute 'information'"
     ]
    }
   ],
   "source": [
    "maria = Person2(\"마리아\", 20, \"서울시 강남구\", \"첫번째\")\n",
    "james = Person2(\"제임스\", 21, \"서울시 구로구\", \"두번째\")\n",
    "\n",
    "{maria, james}.information()            # set, dict, list, tuple의 형태로 인스턴스를 모을수 없음."
   ]
  },
  {
   "cell_type": "code",
   "execution_count": 37,
   "metadata": {},
   "outputs": [],
   "source": [
    "class Person3:\n",
    "    def __init__(self, name, age, address, wallet):\n",
    "        self.hello = \"안녕하세요.\"\n",
    "        self.name = name\n",
    "        self.age = age\n",
    "        self.address = address\n",
    "        self.__wallet = wallet         # 비공개 속성\n",
    "\n",
    "    def greeting(self):\n",
    "        print(f'{self.hello} 제 이름은 {self.name} 입니다.')\n",
    "\n",
    "    def amount(self):\n",
    "        print(self.__wallet)"
   ]
  },
  {
   "cell_type": "code",
   "execution_count": 39,
   "metadata": {},
   "outputs": [
    {
     "name": "stdout",
     "output_type": "stream",
     "text": [
      "김민수\n",
      "95\n",
      "인천\n"
     ]
    },
    {
     "ename": "AttributeError",
     "evalue": "'Person3' object has no attribute '__wallet'",
     "output_type": "error",
     "traceback": [
      "\u001b[0;31m---------------------------------------------------------------------------\u001b[0m",
      "\u001b[0;31mAttributeError\u001b[0m                            Traceback (most recent call last)",
      "Cell \u001b[0;32mIn[39], line 6\u001b[0m\n\u001b[1;32m      4\u001b[0m \u001b[39mprint\u001b[39m(kms\u001b[39m.\u001b[39mage)\n\u001b[1;32m      5\u001b[0m \u001b[39mprint\u001b[39m(kms\u001b[39m.\u001b[39maddress)\n\u001b[0;32m----> 6\u001b[0m \u001b[39mprint\u001b[39m(kms\u001b[39m.\u001b[39;49m__wallet)\n",
      "\u001b[0;31mAttributeError\u001b[0m: 'Person3' object has no attribute '__wallet'"
     ]
    }
   ],
   "source": [
    "kms = Person3(\"김민수\", 95, \"인천\", 20000)\n",
    "\n",
    "print(kms.name)\n",
    "print(kms.age)\n",
    "print(kms.address)\n",
    "print(kms.__wallet)     # 외부에서는 비공개 속성은 접근할 수 없음."
   ]
  },
  {
   "cell_type": "code",
   "execution_count": 40,
   "metadata": {},
   "outputs": [
    {
     "name": "stdout",
     "output_type": "stream",
     "text": [
      "20000\n"
     ]
    }
   ],
   "source": [
    "kms.amount()        # 비공개 속성은 다른 정의를 추가하여 우회접근이 가능하다."
   ]
  },
  {
   "cell_type": "code",
   "execution_count": 59,
   "metadata": {},
   "outputs": [],
   "source": [
    "class Person4:\n",
    "    def __init__(self, name, age, address, wallet):\n",
    "        self.hello = \"안녕하세요.\"\n",
    "        self.name = name\n",
    "        self.age = age\n",
    "        self.address = address\n",
    "        self.__wallet = wallet         # 비공개 속성\n",
    "\n",
    "    def amount(self):\n",
    "        print(self.__wallet)\n",
    "\n",
    "    def pay(self, amount):\n",
    "        if self.__wallet < amount:\n",
    "            print(\"돈이 모자랍니다.\")\n",
    "            return\n",
    "        self.__wallet -= amount"
   ]
  },
  {
   "cell_type": "code",
   "execution_count": 62,
   "metadata": {},
   "outputs": [
    {
     "name": "stdout",
     "output_type": "stream",
     "text": [
      "20000\n"
     ]
    }
   ],
   "source": [
    "kms = Person4(\"김민수\", 95, \"인천\", 20000)\n",
    "kms.amount()\n",
    "kms.pay(10000)"
   ]
  },
  {
   "cell_type": "code",
   "execution_count": 93,
   "metadata": {},
   "outputs": [],
   "source": [
    "#tibbers -> 매서드, Annie -> 클래스\n",
    "\n",
    "class Annie:\n",
    "    def __init__(self, HP, mana, AP):\n",
    "        self.HP = HP\n",
    "        self.mana = mana\n",
    "        self.AP = AP\n",
    "\n",
    "    def tibbers(self):\n",
    "        print(self.AP * 0.65 + 400)"
   ]
  },
  {
   "cell_type": "code",
   "execution_count": null,
   "metadata": {},
   "outputs": [],
   "source": [
    "a = Annie(*list(map(float,input(\"체력, 마나, AP를 입력하세요.\").split(\" \"))))\n",
    "a.tibbers()"
   ]
  },
  {
   "cell_type": "code",
   "execution_count": 87,
   "metadata": {},
   "outputs": [],
   "source": [
    "class Annie:\n",
    "    def __init__(self, HP, mana, AP):\n",
    "        self.HP = HP\n",
    "        self.mana = mana\n",
    "        self.AP = AP\n",
    "\n",
    "    def tibbers(self):\n",
    "        print(f'티버: 피해량 {self.AP * 0.65 + 400}')\n",
    "\n"
   ]
  },
  {
   "cell_type": "code",
   "execution_count": null,
   "metadata": {},
   "outputs": [],
   "source": [
    "HP, mana, AP = map(float, input(\"체력, 마나 , AP를 입력하세요.\").split)\n",
    "x = Annie(AP = AP, mana = mana, HP = HP)\n",
    "x.tibbers()"
   ]
  },
  {
   "attachments": {},
   "cell_type": "markdown",
   "metadata": {},
   "source": [
    "# NumPy(넘파이)\n",
    "\n",
    "    1. 파이썬 내장 모듈이 아니므로 별도의 설치가 필요\n",
    "    2. 숫자 데이터를 좀 더 쉽고 효과적으로 다룰 수 있음.\n",
    "    3. 다차원의 배열 자료구조 클래스인 ndarray 클래스를 지원.\n",
    "    4. 배열(array) : 순서가 있는 같은 종류(type)의 데이터가 저장되는 자료형\n",
    "    5. 벡터화 연산(vectorized operation)\n",
    "\n",
    "#### Numpy Array VS Python List\n",
    "    \n",
    "    1. Numpy Array : data, deimensions, strides(type 고정)\n",
    "    2. Python List : length, items(자유로움 -> 넣었다 뺐다 바꿨다 ... / 주소를 통해 값을 가져오므로 메모리를 많이 차지하고 속도가 느림, 다양한 type으로 가지고 있을수 있음)\n",
    "\n",
    "#### 넘파이 패키지 임포트하기\n",
    "\n",
    "    1. import numpy as np\n",
    "\n",
    "#### 1차원 배열 만들기\n",
    "\n",
    "    1. ndarray는 N-dimensional Array의 약자\n",
    "    2. numpy의 array 메서드 인수로 시퀀스 자료형을 넣으면 ndarray 클래스 객체, 즉 numpy배열로 변환해줌.\n",
    "    3. 시퀀스 자료형은 튜플보다 주로 리스트를 많이 활용함.\n",
    "    4. 정수와 실수가 혼합된 리스트라면 표현 범위가 더 큰 자료형으로 변환되어 실수 타입으로 변환함.\n",
    "    5. 넘파이의 배열인 ndarray클래스는 요소가 모두 같은 자료형을 갖는다.\n",
    "\n",
    "#### 넘파이의 자료형\n",
    "    1. boolean(참 또는 거짓) : '?'\n",
    "    2. int(정수) : 'i\", i8(64bit)\n",
    "    3. unsigned int(양수와 음수) : 'u', u8(64bit)\n",
    "    4. float : 'f', f8(64bit)\n",
    "    5. complex : 'c',c16(128bit)\n",
    "    6. Object: 'O', 0(객체에 대한 포인터)\n",
    "    7. Unicode string : 'U', U24(24 유니코드 글자)\n",
    "    8. 무한대 : np.inf(infinity)\n",
    "    9. 정의할 수 없는 숫자 : np.nan(not a number)\n",
    "\n",
    "#### 벡터화 연산(Vectorized Operation)\n",
    "    1. 배열의 각 요소에 대한 반복 연산을 하나의 명령어로 처리하는 벡터화 연산을 지원함.\n",
    "    2. for 반복문이 없이 연산식을 표현할수 있음.\n",
    "\n",
    "#### 2차원 배열 만들기 \n",
    "    1. 2차원 배열은 행렬(matrix)\n",
    "    2. 가로줄을 행(row), 세로줄을 열(column)\n",
    "    3. 리시트를 중첩하여 리스트의 리스트를 이용해서 2차원 배열처럼 생성할 수 있음.\n",
    "\n",
    "#### 3차원 배열 만들기\n",
    "    1. 3차원 배열의 구조는 '깊이 * 행 * 열'\n",
    "    2. axis 0 : 깊이 / axis 1 : 행 / axis 2 : 열\n",
    "    3. len(d) : 깊이 / len(d[0]) : 행 / len(d[0][0])\n",
    "    4. ndim 속성과 shape 속성 :배열의 차원과 크기를 구할 수 있음.   \n",
    "    5. 인덱싱과 슬라이싱\n",
    "\n",
    "#### 배열 생성\n",
    "    1. 단순한 배열을 생성하는 메서드를 제공함.\n",
    "        1.1. zeros, ones : 모든 값을 0이나 1로 공간을 할당\n",
    "        1.2. zeros_like, ones_like : shape의 배열을 생성하고 모든 값을 0이나 1로 할당\n",
    "        1.3. empty : 공간만 할당\n",
    "        1.4. arange : range의 형태로 할당\n",
    "        1.5. linspace : 등간격으로 갯수대로 출력해줌.\n",
    "        1.6. logspace : log 간격으로 갯수대로 출력해줌.\n",
    "        1.7. flatten, ravel :  1차원 배열\n",
    "    2. 속성\n",
    "        2.1. transpose : 행과 열을 바꿔서 출력\n",
    "        2.2. reshape : 주어진 행과 열로 나눠줌. / 뒤에 -1로 입력하면 알아서 배열을 맞춰줌\n",
    "        2.3. newaxis :1차원 증가시킴\n",
    "    3. 배열 연결\n",
    "        3.1. hstack : 배열을 수평으로 붙여줌.\n",
    "        3.2. vstack : 배열을 수직으로 붙여줌.\n",
    "        3.3. dstack : 배열을 깊이로 붙여줌.\n",
    "        3.4. stack : 저정한 차원(축으로) 배열을 연결 / default는 0임.\n",
    "        3.5. r_ : hstack 명령과 비슷하게 배열을 좌우로 연결 / []을 사용\n",
    "        3.6. c_ : 세로 배열로 연결 / []을 사용\n",
    "        3.7. tile : 동일한 배열을 반복"
   ]
  },
  {
   "cell_type": "code",
   "execution_count": 102,
   "metadata": {},
   "outputs": [],
   "source": [
    "import numpy as np"
   ]
  },
  {
   "attachments": {},
   "cell_type": "markdown",
   "metadata": {},
   "source": [
    "#### 01010101 -> 8bits == 1byte"
   ]
  },
  {
   "cell_type": "code",
   "execution_count": 111,
   "metadata": {},
   "outputs": [
    {
     "name": "stdout",
     "output_type": "stream",
     "text": [
      "<class 'numpy.ndarray'>\n"
     ]
    },
    {
     "data": {
      "text/plain": [
       "dtype('int64')"
      ]
     },
     "execution_count": 111,
     "metadata": {},
     "output_type": "execute_result"
    }
   ],
   "source": [
    "ar = np.array([_ for _ in range(10)])\n",
    "\n",
    "ar\n",
    "ar.shape\n",
    "print(type(ar))\n",
    "ar.dtype        "
   ]
  },
  {
   "cell_type": "code",
   "execution_count": 110,
   "metadata": {},
   "outputs": [
    {
     "data": {
      "text/plain": [
       "dtype('float64')"
      ]
     },
     "execution_count": 110,
     "metadata": {},
     "output_type": "execute_result"
    }
   ],
   "source": [
    "ar2 = np.array([1.2, 2, 5, 7, 6.2])\n",
    "\n",
    "ar2     # 리스트 전체를 표현 범위가 큰 자료형인 실수형태로 출력\n",
    "ar2.dtype"
   ]
  },
  {
   "cell_type": "code",
   "execution_count": 121,
   "metadata": {},
   "outputs": [
    {
     "name": "stdout",
     "output_type": "stream",
     "text": [
      "[3 6 9]\n",
      "int64\n"
     ]
    }
   ],
   "source": [
    "# int(정수) => 'i'\n",
    "ar3 = np.array([_ for _ in range(3, 10, 3)], 'i8')   # int8bytes -- > 8*8bit\n",
    "print(ar3)\n",
    "print(ar3.dtype)"
   ]
  },
  {
   "cell_type": "code",
   "execution_count": 116,
   "metadata": {},
   "outputs": [
    {
     "name": "stdout",
     "output_type": "stream",
     "text": [
      "[2. 4. 6. 8.]\n",
      "float64\n"
     ]
    }
   ],
   "source": [
    "# float(실수) => 'f'\n",
    "ar4 = np.array([_ for _ in range(2, 10 ,2)], 'f8')\n",
    "print(ar4)\n",
    "print(ar4.dtype)"
   ]
  },
  {
   "cell_type": "code",
   "execution_count": 122,
   "metadata": {},
   "outputs": [
    {
     "name": "stdout",
     "output_type": "stream",
     "text": [
      "['가나다라마' '바사아' '자' '차카']\n",
      "<U5\n"
     ]
    }
   ],
   "source": [
    "# 'U8' 유니코드 8글자 자료형을 명시적으로 선언\n",
    "#  그래서 시퀀스 자료형 중 제일 큰 값이 <U5이지만 <U8\n",
    "ar5 = np.array([\"가나다라마\", \"바사아\", \"자\", \"차카\"], 'U5')\n",
    "print(ar5)\n",
    "print(ar5.dtype)\n",
    "# U8은 최대 8글자의 유니코드 자료형이다."
   ]
  },
  {
   "cell_type": "code",
   "execution_count": 125,
   "metadata": {},
   "outputs": [
    {
     "data": {
      "text/plain": [
       "3.0"
      ]
     },
     "execution_count": 125,
     "metadata": {},
     "output_type": "execute_result"
    }
   ],
   "source": [
    "x = np.array([1, 2, 3], dtype = 'f')\n",
    "x.dtype\n",
    "x[0] + x[1]"
   ]
  },
  {
   "cell_type": "code",
   "execution_count": 126,
   "metadata": {},
   "outputs": [
    {
     "data": {
      "text/plain": [
       "'12'"
      ]
     },
     "execution_count": 126,
     "metadata": {},
     "output_type": "execute_result"
    }
   ],
   "source": [
    "x = np.array([1, 2, 3], dtype = 'U')\n",
    "x.dtype\n",
    "x[0] + x[1]"
   ]
  },
  {
   "cell_type": "code",
   "execution_count": null,
   "metadata": {},
   "outputs": [],
   "source": [
    "list_samp = [_ for _ in range(3)]\n",
    "print(list_samp * 5)"
   ]
  },
  {
   "cell_type": "code",
   "execution_count": 136,
   "metadata": {},
   "outputs": [
    {
     "data": {
      "text/plain": [
       "array([False,  True, False])"
      ]
     },
     "execution_count": 136,
     "metadata": {},
     "output_type": "execute_result"
    }
   ],
   "source": [
    "# 2차원 배열\n",
    "a = np.array([1, 2, 3])\n",
    "b = np.array([10, 20, 30])\n",
    "\n",
    "2 * a + b\n",
    "a == 2\n",
    "b > 10\n",
    "(a == 2) & (b > 10)"
   ]
  },
  {
   "cell_type": "code",
   "execution_count": 141,
   "metadata": {},
   "outputs": [
    {
     "data": {
      "text/plain": [
       "3"
      ]
     },
     "execution_count": 141,
     "metadata": {},
     "output_type": "execute_result"
    }
   ],
   "source": [
    "# 2차원 배열\n",
    "c = np.array([[1,2,3],\n",
    "             [4 ,5, 6]])\n",
    "\n",
    "c\n",
    "c.shape\n",
    "len(c)\n",
    "len(c[0])"
   ]
  },
  {
   "cell_type": "code",
   "execution_count": 143,
   "metadata": {},
   "outputs": [
    {
     "data": {
      "text/plain": [
       "array([[10, 20, 30, 40],\n",
       "       [50, 60, 70, 80]])"
      ]
     },
     "execution_count": 143,
     "metadata": {},
     "output_type": "execute_result"
    }
   ],
   "source": [
    "# 2차원 배열\n",
    "d = np.array([[_ for _ in range(10,50,10)],\n",
    "             [_ for _ in range(50,90,10)]])\n",
    "d"
   ]
  },
  {
   "cell_type": "code",
   "execution_count": 149,
   "metadata": {},
   "outputs": [
    {
     "data": {
      "text/plain": [
       "array([1, 2, 3, 4])"
      ]
     },
     "execution_count": 149,
     "metadata": {},
     "output_type": "execute_result"
    }
   ],
   "source": [
    "# 3차원 배열 \n",
    "# 2 * 3 * 4\n",
    "d = np.array([[[1, 2, 3, 4], \n",
    "                [5, 6, 7, 8],\n",
    "                [9, 10, 11, 12]],\n",
    "                [[13, 14, 15, 16],\n",
    "                [17, 18, 19, 20],\n",
    "                [21, 22, 23, 23]]])\n",
    "\n",
    "d           # 깊이\n",
    "d[0]        # 행\n",
    "d[0][0]     # 열"
   ]
  },
  {
   "cell_type": "code",
   "execution_count": 151,
   "metadata": {},
   "outputs": [
    {
     "data": {
      "text/plain": [
       "2"
      ]
     },
     "execution_count": 151,
     "metadata": {},
     "output_type": "execute_result"
    }
   ],
   "source": [
    "# 1차원 인덱싱\n",
    "a = np.array([_ for _ in range(5)])\n",
    "\n",
    "a[2]"
   ]
  },
  {
   "cell_type": "code",
   "execution_count": 155,
   "metadata": {},
   "outputs": [
    {
     "data": {
      "text/plain": [
       "2"
      ]
     },
     "execution_count": 155,
     "metadata": {},
     "output_type": "execute_result"
    }
   ],
   "source": [
    "# 다차원 인덱싱\n",
    "a = np.array([[0, 1, 2], [3, 4, 5]])\n",
    "a[0,2]      # x축, y축을 기준으로 인덱싱"
   ]
  },
  {
   "cell_type": "code",
   "execution_count": 159,
   "metadata": {},
   "outputs": [
    {
     "data": {
      "text/plain": [
       "array([[0, 1],\n",
       "       [4, 5]])"
      ]
     },
     "execution_count": 159,
     "metadata": {},
     "output_type": "execute_result"
    }
   ],
   "source": [
    "# 다차원 슬라이싱\n",
    "a = np.array([[0, 1, 2, 3], [4, 5, 6, 7]])\n",
    "a[0, :]     # 첫번째 행 전체\n",
    "a[:, 1]     # 두번째 열 전체\n",
    "a[1, 1:]    # 두번째 행의 두번째 열부터 끝열까지\n",
    "a[:2, :2]   # \n"
   ]
  },
  {
   "cell_type": "code",
   "execution_count": 166,
   "metadata": {},
   "outputs": [
    {
     "data": {
      "text/plain": [
       "array([[0, 1, 2, 3],\n",
       "       [4, 5, 6, 7]])"
      ]
     },
     "execution_count": 166,
     "metadata": {},
     "output_type": "execute_result"
    }
   ],
   "source": [
    "np.array([_ for _ in range(8)]).reshape(2, 4)\n"
   ]
  },
  {
   "cell_type": "code",
   "execution_count": 185,
   "metadata": {},
   "outputs": [
    {
     "data": {
      "text/plain": [
       "array([[3, 4],\n",
       "       [8, 9]])"
      ]
     },
     "execution_count": 185,
     "metadata": {},
     "output_type": "execute_result"
    }
   ],
   "source": [
    "m = np.array([_ for _ in range(15)]).reshape(3, 5)\n",
    "\n",
    "m[1,2]      # 1번째 행, 2번째 열\n",
    "m[2,4]      # 2번째 행, 4번째 열\n",
    "m[1, 1:3]   # 1번째 행, 1번째 열에서 2번째 열 까지 슬라이싱\n",
    "m[1:, 2]    # 1, 2번째 행, 2번째 열 슬라이싱\n",
    "m[:2, 3:]   # 0, 1번째 행, 3번째 이상 열 슬라이싱"
   ]
  },
  {
   "cell_type": "code",
   "execution_count": 186,
   "metadata": {},
   "outputs": [
    {
     "data": {
      "text/plain": [
       "array([0., 0., 0., 0., 0.])"
      ]
     },
     "execution_count": 186,
     "metadata": {},
     "output_type": "execute_result"
    }
   ],
   "source": [
    "# zeros 메서드\n",
    "a = np.zeros(5)\n",
    "a"
   ]
  },
  {
   "cell_type": "code",
   "execution_count": 192,
   "metadata": {},
   "outputs": [
    {
     "data": {
      "text/plain": [
       "array(['', '', '', '', ''], dtype='<U4')"
      ]
     },
     "execution_count": 192,
     "metadata": {},
     "output_type": "execute_result"
    }
   ],
   "source": [
    "# zeros 문자열 메서드\n",
    "c = np.zeros(5, dtype='U4')\n",
    "c"
   ]
  },
  {
   "cell_type": "code",
   "execution_count": 194,
   "metadata": {},
   "outputs": [
    {
     "data": {
      "text/plain": [
       "array(['abc', 'abcd', 'ABCD', '', ''], dtype='<U4')"
      ]
     },
     "execution_count": 194,
     "metadata": {},
     "output_type": "execute_result"
    }
   ],
   "source": [
    "# zeros 문자열 메서드\n",
    "c[0] = \"abc\"\n",
    "c[1] = \"abcd\"\n",
    "c[2] = \"ABCDE\"  # 유니코드 4자리수까지 입력 가능하기때문에 \"E\"가 빠짐.\n",
    "c"
   ]
  },
  {
   "cell_type": "code",
   "execution_count": 196,
   "metadata": {},
   "outputs": [
    {
     "data": {
      "text/plain": [
       "array([[[1, 1, 1, 1],\n",
       "        [1, 1, 1, 1],\n",
       "        [1, 1, 1, 1]],\n",
       "\n",
       "       [[1, 1, 1, 1],\n",
       "        [1, 1, 1, 1],\n",
       "        [1, 1, 1, 1]]])"
      ]
     },
     "execution_count": 196,
     "metadata": {},
     "output_type": "execute_result"
    }
   ],
   "source": [
    "# ones 다차원 메서드 => 1로 초기화\n",
    "e = np.ones((2, 3, 4), dtype=\"i8\")\n",
    "e"
   ]
  },
  {
   "cell_type": "code",
   "execution_count": 198,
   "metadata": {},
   "outputs": [
    {
     "data": {
      "text/plain": [
       "array([1., 1., 1.], dtype=float32)"
      ]
     },
     "execution_count": 198,
     "metadata": {},
     "output_type": "execute_result"
    }
   ],
   "source": [
    "# ones_like / zeros_like 메서드\n",
    "f = np.ones_like(b, dtype=\"f\")\n",
    "f"
   ]
  },
  {
   "cell_type": "code",
   "execution_count": 200,
   "metadata": {},
   "outputs": [
    {
     "data": {
      "text/plain": [
       "array([[0., 0., 0.],\n",
       "       [0., 0., 0.],\n",
       "       [0., 0., 0.],\n",
       "       [0., 0., 0.]])"
      ]
     },
     "execution_count": 200,
     "metadata": {},
     "output_type": "execute_result"
    }
   ],
   "source": [
    "# empty 초기화 메서드\n",
    "g = np.empty((4,3))     # 배열만 생성하고 값을 초기화\n",
    "g"
   ]
  },
  {
   "cell_type": "code",
   "execution_count": 203,
   "metadata": {},
   "outputs": [
    {
     "data": {
      "text/plain": [
       "array([ 3,  5,  7,  9, 11, 13, 15, 17, 19])"
      ]
     },
     "execution_count": 203,
     "metadata": {},
     "output_type": "execute_result"
    }
   ],
   "source": [
    "# arrange 메서드\n",
    "np.arange(10)  # 0, ... , n-1\n",
    "np.arange(3, 21, 2)"
   ]
  },
  {
   "cell_type": "code",
   "execution_count": 211,
   "metadata": {},
   "outputs": [
    {
     "data": {
      "text/plain": [
       "array([  0.,  25.,  50.,  75., 100.])"
      ]
     },
     "execution_count": 211,
     "metadata": {},
     "output_type": "execute_result"
    }
   ],
   "source": [
    "# linspace 메서드\n",
    "np.linspace(0, 100, 5)      # 시작, 끝(포함), 갯수"
   ]
  },
  {
   "cell_type": "code",
   "execution_count": 212,
   "metadata": {},
   "outputs": [
    {
     "data": {
      "text/plain": [
       "array([1.e+000, 1.e+025, 1.e+050, 1.e+075, 1.e+100])"
      ]
     },
     "execution_count": 212,
     "metadata": {},
     "output_type": "execute_result"
    }
   ],
   "source": [
    "np.logspace(0, 100, 5)\n"
   ]
  },
  {
   "cell_type": "code",
   "execution_count": 214,
   "metadata": {},
   "outputs": [
    {
     "data": {
      "text/plain": [
       "array([[1, 4],\n",
       "       [2, 5],\n",
       "       [3, 6]])"
      ]
     },
     "execution_count": 214,
     "metadata": {},
     "output_type": "execute_result"
    }
   ],
   "source": [
    "# transpose 속성\n",
    "A = np.array([[1, 2, 3], [4, 5, 6]])    # 2 * 3 배열\n",
    "A.T"
   ]
  },
  {
   "cell_type": "code",
   "execution_count": 216,
   "metadata": {},
   "outputs": [
    {
     "data": {
      "text/plain": [
       "array([[ 0,  1,  2,  3],\n",
       "       [ 4,  5,  6,  7],\n",
       "       [ 8,  9, 10, 11]])"
      ]
     },
     "execution_count": 216,
     "metadata": {},
     "output_type": "execute_result"
    }
   ],
   "source": [
    "# reshape 속성\n",
    "ex3 = np.arange(12)\n",
    "ex3.reshape(3, 4)       # 3개의 행, 4개의 열"
   ]
  },
  {
   "cell_type": "code",
   "execution_count": 217,
   "metadata": {},
   "outputs": [
    {
     "data": {
      "text/plain": [
       "array([[ 0,  1,  2,  3],\n",
       "       [ 4,  5,  6,  7],\n",
       "       [ 8,  9, 10, 11]])"
      ]
     },
     "execution_count": 217,
     "metadata": {},
     "output_type": "execute_result"
    }
   ],
   "source": [
    "# reshape 속성\n",
    "ex3 = np.arange(12)\n",
    "ex3.reshape(3, -1)      # 음수도 가능하여 자동적으로 배열해줌."
   ]
  },
  {
   "cell_type": "code",
   "execution_count": 221,
   "metadata": {},
   "outputs": [
    {
     "data": {
      "text/plain": [
       "array([ 0,  1,  2,  3,  4,  5,  6,  7,  8,  9, 10, 11])"
      ]
     },
     "execution_count": 221,
     "metadata": {},
     "output_type": "execute_result"
    }
   ],
   "source": [
    "# flatten 또는 ravel 메서드 -> 1차원을 만들어줌.\n",
    "ex3.flatten()\n",
    "ex3.ravel()"
   ]
  },
  {
   "cell_type": "code",
   "execution_count": 223,
   "metadata": {},
   "outputs": [
    {
     "ename": "AttributeError",
     "evalue": "'numpy.ndarray' object has no attribute 'newaxis'",
     "output_type": "error",
     "traceback": [
      "\u001b[0;31m---------------------------------------------------------------------------\u001b[0m",
      "\u001b[0;31mAttributeError\u001b[0m                            Traceback (most recent call last)",
      "Cell \u001b[0;32mIn[223], line 2\u001b[0m\n\u001b[1;32m      1\u001b[0m \u001b[39m# newaxis 메서드\u001b[39;00m\n\u001b[0;32m----> 2\u001b[0m x[:, x\u001b[39m.\u001b[39;49mnewaxis()]\n",
      "\u001b[0;31mAttributeError\u001b[0m: 'numpy.ndarray' object has no attribute 'newaxis'"
     ]
    }
   ],
   "source": [
    "# newaxis 메서드\n"
   ]
  },
  {
   "cell_type": "code",
   "execution_count": 228,
   "metadata": {},
   "outputs": [
    {
     "name": "stdout",
     "output_type": "stream",
     "text": [
      "[[1. 1. 1.]\n",
      " [1. 1. 1.]]\n",
      "[[0. 0.]\n",
      " [0. 0.]]\n"
     ]
    },
    {
     "data": {
      "text/plain": [
       "array([[1., 1., 1., 0., 0.],\n",
       "       [1., 1., 1., 0., 0.]])"
      ]
     },
     "execution_count": 228,
     "metadata": {},
     "output_type": "execute_result"
    }
   ],
   "source": [
    "# hstack 명령\n",
    "# 행의 수가 같은 두 개 이상의 배열을 옆으로 연결하여 열의 수가 더많은 배열을 만듬.\n",
    "a1 = np.ones((2, 3))\n",
    "a2 = np.zeros((2, 2))\n",
    "\n",
    "print(a1)\n",
    "print(a2)\n",
    "np.hstack([a1, a2])"
   ]
  },
  {
   "cell_type": "code",
   "execution_count": 227,
   "metadata": {},
   "outputs": [
    {
     "name": "stdout",
     "output_type": "stream",
     "text": [
      "[[1. 1. 1.]\n",
      " [1. 1. 1.]]\n",
      "[[0. 0. 0.]\n",
      " [0. 0. 0.]\n",
      " [0. 0. 0.]]\n"
     ]
    },
    {
     "data": {
      "text/plain": [
       "array([[1., 1., 1.],\n",
       "       [1., 1., 1.],\n",
       "       [0., 0., 0.],\n",
       "       [0., 0., 0.],\n",
       "       [0., 0., 0.]])"
      ]
     },
     "execution_count": 227,
     "metadata": {},
     "output_type": "execute_result"
    }
   ],
   "source": [
    "# vstack 명령\n",
    "# 열의 수가 같은 두 개 이상의 배열을 위아래로 연결하여 행의 수가 더 많은 배열을 만듬.\n",
    "b1 = np.ones((2, 3))\n",
    "b2 = np.zeros((3, 3))\n",
    "\n",
    "print(b1)\n",
    "print(b2)\n",
    "np.vstack([b1, b2])"
   ]
  },
  {
   "cell_type": "code",
   "execution_count": 230,
   "metadata": {},
   "outputs": [
    {
     "name": "stdout",
     "output_type": "stream",
     "text": [
      "[[1. 1. 1. 1.]\n",
      " [1. 1. 1. 1.]\n",
      " [1. 1. 1. 1.]]\n",
      "[[0. 0. 0. 0.]\n",
      " [0. 0. 0. 0.]\n",
      " [0. 0. 0. 0.]]\n"
     ]
    },
    {
     "data": {
      "text/plain": [
       "array([[[1., 0.],\n",
       "        [1., 0.],\n",
       "        [1., 0.],\n",
       "        [1., 0.]],\n",
       "\n",
       "       [[1., 0.],\n",
       "        [1., 0.],\n",
       "        [1., 0.],\n",
       "        [1., 0.]],\n",
       "\n",
       "       [[1., 0.],\n",
       "        [1., 0.],\n",
       "        [1., 0.],\n",
       "        [1., 0.]]])"
      ]
     },
     "execution_count": 230,
     "metadata": {},
     "output_type": "execute_result"
    }
   ],
   "source": [
    "# dstack 명령\n",
    "# 제3의 축(깊이) 방향으로 배열을 합침.\n",
    "c1 = np.ones((3, 4))        # 3 * 4\n",
    "c2 = np.zeros((3, 4))       # 3 * 4\n",
    "\n",
    "print(c1)\n",
    "print(c2)\n",
    "np.dstack([c1, c2])         # 3 * 4 * 2"
   ]
  },
  {
   "cell_type": "code",
   "execution_count": 232,
   "metadata": {},
   "outputs": [
    {
     "data": {
      "text/plain": [
       "array([[[1., 1., 1., 1.],\n",
       "        [1., 1., 1., 1.],\n",
       "        [1., 1., 1., 1.]],\n",
       "\n",
       "       [[0., 0., 0., 0.],\n",
       "        [0., 0., 0., 0.],\n",
       "        [0., 0., 0., 0.]]])"
      ]
     },
     "execution_count": 232,
     "metadata": {},
     "output_type": "execute_result"
    }
   ],
   "source": [
    "# stack 명령\n",
    "# 사용자가 지정한 차원(축 = axis)으로 배열을 연결\n",
    "c = np.stack([c1, c2])      # axis = 0이므로 2인 차원이 추가되어 2 * 3 * 4\n",
    "c"
   ]
  },
  {
   "cell_type": "code",
   "execution_count": 236,
   "metadata": {},
   "outputs": [
    {
     "data": {
      "text/plain": [
       "array([[[1., 1., 1., 1.],\n",
       "        [0., 0., 0., 0.]],\n",
       "\n",
       "       [[1., 1., 1., 1.],\n",
       "        [0., 0., 0., 0.]],\n",
       "\n",
       "       [[1., 1., 1., 1.],\n",
       "        [0., 0., 0., 0.]]])"
      ]
     },
     "execution_count": 236,
     "metadata": {},
     "output_type": "execute_result"
    }
   ],
   "source": [
    "# stack 명령\n",
    "c = np.stack([c1, c2], axis=1)      # axis = 0 이면 깊이, axis = 1이면 행, axis = 2이면 열 \n",
    "c                                   # axis = 1일때, 3 * 4 -> 3 * 2 * 4 / axis = 2일때, 3 * 4 * 2"
   ]
  },
  {
   "cell_type": "code",
   "execution_count": 242,
   "metadata": {},
   "outputs": [
    {
     "data": {
      "text/plain": [
       "array([1, 2, 3, 4, 5, 6])"
      ]
     },
     "execution_count": 242,
     "metadata": {},
     "output_type": "execute_result"
    }
   ],
   "source": [
    "# r_ 메서드\n",
    "# hstack명령과 비슷하게 배열을 좌우로 연결\n",
    "np.r_[np.array([1, 2, 3]), np.array([4, 5, 6])]"
   ]
  },
  {
   "cell_type": "code",
   "execution_count": 241,
   "metadata": {},
   "outputs": [
    {
     "data": {
      "text/plain": [
       "array([[1, 4],\n",
       "       [2, 5],\n",
       "       [3, 6]])"
      ]
     },
     "execution_count": 241,
     "metadata": {},
     "output_type": "execute_result"
    }
   ],
   "source": [
    "# c_ 메서드\n",
    "# 배열의 차원을 증가시킨 후 좌우로 연결함.\n",
    "np.c_[np.array([1, 2, 3]), np.array([4, 5, 6])]"
   ]
  },
  {
   "cell_type": "code",
   "execution_count": 246,
   "metadata": {},
   "outputs": [
    {
     "data": {
      "text/plain": [
       "array([[0, 1, 2, 0, 1, 2],\n",
       "       [3, 4, 5, 3, 4, 5]])"
      ]
     },
     "execution_count": 246,
     "metadata": {},
     "output_type": "execute_result"
    }
   ],
   "source": [
    "# tile 명령\n",
    "# 동일한 배열을 반복하여 연결\n",
    "a = np.array([[0, 1, 2], [3, 4, 5]])\n",
    "np.tile(a, 2)"
   ]
  },
  {
   "cell_type": "code",
   "execution_count": 247,
   "metadata": {},
   "outputs": [
    {
     "data": {
      "text/plain": [
       "array([[0, 1, 2, 0, 1, 2],\n",
       "       [3, 4, 5, 3, 4, 5],\n",
       "       [0, 1, 2, 0, 1, 2],\n",
       "       [3, 4, 5, 3, 4, 5],\n",
       "       [0, 1, 2, 0, 1, 2],\n",
       "       [3, 4, 5, 3, 4, 5]])"
      ]
     },
     "execution_count": 247,
     "metadata": {},
     "output_type": "execute_result"
    }
   ],
   "source": [
    "# tile 명령\n",
    "np.tile(a, (3, 2))"
   ]
  },
  {
   "cell_type": "code",
   "execution_count": 291,
   "metadata": {},
   "outputs": [
    {
     "data": {
      "text/plain": [
       "array([[ 10,  20,  30,  40,  50],\n",
       "       [ 60,  70,  80,  90, 100],\n",
       "       [110, 120, 130, 140, 150]])"
      ]
     },
     "execution_count": 291,
     "metadata": {},
     "output_type": "execute_result"
    }
   ],
   "source": [
    "a = np.zeros((3, 3))\n",
    "a\n",
    "b = np.ones((3, 2))\n",
    "b\n",
    "c = np.arange(10,160,10)\n",
    "c.reshape(3, 5)\n",
    "\n",
    "ab = np.hstack([a, b])\n",
    "abc = np.vstack([ab, c])\n",
    "abc = np.tile"
   ]
  },
  {
   "cell_type": "code",
   "execution_count": 292,
   "metadata": {},
   "outputs": [
    {
     "data": {
      "text/plain": [
       "array([[0., 0., 0., 1., 1.],\n",
       "       [0., 0., 0., 1., 1.],\n",
       "       [0., 0., 0., 1., 1.]])"
      ]
     },
     "execution_count": 292,
     "metadata": {},
     "output_type": "execute_result"
    }
   ],
   "source": [
    "a = np.zeros((3, 3))\n",
    "a\n",
    "b = np.ones((3, 2))\n",
    "b\n",
    "c = np.array(_ for _ in range(10,160,10))\n",
    "c\n",
    "\n",
    "ab = np.hstack([a, b])\n",
    "ab\n",
    "np."
   ]
  }
 ],
 "metadata": {
  "kernelspec": {
   "display_name": "base",
   "language": "python",
   "name": "python3"
  },
  "language_info": {
   "codemirror_mode": {
    "name": "ipython",
    "version": 3
   },
   "file_extension": ".py",
   "mimetype": "text/x-python",
   "name": "python",
   "nbconvert_exporter": "python",
   "pygments_lexer": "ipython3",
   "version": "3.9.13 (main, Aug 25 2022, 18:24:45) \n[Clang 12.0.0 ]"
  },
  "orig_nbformat": 4,
  "vscode": {
   "interpreter": {
    "hash": "29022363fef606f9f23df6f4a22f2b4728bceb42fab3e5e3f1a324182233d5f0"
   }
  }
 },
 "nbformat": 4,
 "nbformat_minor": 2
}
