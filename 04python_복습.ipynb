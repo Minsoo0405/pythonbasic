{
 "cells": [
  {
   "cell_type": "code",
   "execution_count": 6,
   "metadata": {},
   "outputs": [
    {
     "name": "stdout",
     "output_type": "stream",
     "text": [
      "자연수 하나 입력해주세요. : 70\n",
      "20\n"
     ]
    }
   ],
   "source": [
    "input_value = int(input(\"자연수 하나 입력해주세요.\"))\n",
    "print(\"자연수 하나 입력해주세요. :\", input_value)\n",
    "\n",
    "if input_value - 50 < 0:    # input_value - 50를 result로 변수를 간단히 작성할 수 있음.\n",
    "    print(0)\n",
    "else:\n",
    "    print(input_value - 50) # else문이 없어도 결과값이 나옴."
   ]
  },
  {
   "cell_type": "code",
   "execution_count": 10,
   "metadata": {},
   "outputs": [
    {
     "name": "stdout",
     "output_type": "stream",
     "text": [
      "자연수 하나 입력해주세요. : 21\n",
      "홀수입니다.\n"
     ]
    }
   ],
   "source": [
    "input_value2 = int(input(\"자연수 하나 입력해주세요.\"))\n",
    "print(\"자연수 하나 입력해주세요. :\", input_value2)\n",
    "\n",
    "result2 = input_value2 % 2\n",
    "\n",
    "if result2 == 0:            # if문에서는 =(대입연산자)를 입력하지 못함.\n",
    "    print(\"짝수입니다.\")\n",
    "else:\n",
    "    print(\"홀수입니다.\")"
   ]
  },
  {
   "cell_type": "code",
   "execution_count": 19,
   "metadata": {},
   "outputs": [
    {
     "name": "stdout",
     "output_type": "stream",
     "text": [
      "잘못된 점수입니다.\n"
     ]
    }
   ],
   "source": [
    "point1 = int(input(\"소프트웨어 설계 점수를 입력하세요.\"))\n",
    "point2 = int(input(\"소프트웨어 개발 점수를 입력하세요.\"))\n",
    "point3 = int(input(\"데이터베이스 구축 점수를 입력하세요.\"))\n",
    "point4 = int(input(\"프로그래밍 언어 활용 점수를 입력하세요.\"))\n",
    "point5 = int(input(\"정보시스템 구축관리 점수를 입력하세요.\"))\n",
    "\n",
    "result3 = (point1 + point2 + point3 + point4 + point5) / 5\n",
    "\n",
    "if 0 <= point1 <= 100 and 0 <= point2 <= 100 and 0 <= point3 <= 100 and 0 <= point4 <= 100 and 0 <= point5 <= 100:\n",
    "    if reulst3 >= 60:\n",
    "        print(\"합격\")\n",
    "    else:\n",
    "        print(\"불합격\")\n",
    "else: \n",
    "    print(\"잘못된 점수입니다.\")"
   ]
  },
  {
   "cell_type": "code",
   "execution_count": 20,
   "metadata": {},
   "outputs": [
    {
     "name": "stdout",
     "output_type": "stream",
     "text": [
      "현재 물의 온도를 입력해주세요.:  -5\n",
      "고체로 예상됩니다.\n"
     ]
    }
   ],
   "source": [
    "temp = int(input(\"현재 물의 온도를 입력해주세요.\"))\n",
    "print(\"현재 물의 온도를 입력해주세요.: \", temp)\n",
    "\n",
    "if temp >= 100:\n",
    "    print(\"기체로 예상됩니다.\")\n",
    "elif 0 < temp < 100:\n",
    "    print(\"액체로 에상됩니다.\")\n",
    "else:\n",
    "    print(\"고체로 예상됩니다.\")"
   ]
  },
  {
   "cell_type": "code",
   "execution_count": 23,
   "metadata": {},
   "outputs": [
    {
     "name": "stdout",
     "output_type": "stream",
     "text": [
      "자신의 나이를 입력하세요. : 19\n",
      "1500원\n"
     ]
    }
   ],
   "source": [
    "age = int(input(\"자신의 나이를 입력하세요.\"))\n",
    "print(\"자신의 나이를 입력하세요. :\", age)\n",
    "\n",
    "if age >= 19:\n",
    "    print(\"1500원\")\n",
    "elif 12 <= age <= 18:\n",
    "    print(\"1100원\")\n",
    "elif 6 <= age <= 11:\n",
    "    print(\"800원\")\n",
    "else:\n",
    "    print(\"무임승차입니다.\")\n",
    "\n"
   ]
  },
  {
   "cell_type": "code",
   "execution_count": 24,
   "metadata": {},
   "outputs": [
    {
     "name": "stdout",
     "output_type": "stream",
     "text": [
      "발주 수량을 입력하세요.:  2001\n",
      "2001 개를 주문하셨습니다.\n",
      "적용 할인율은  20.0 %입니다.\n",
      "총 발주 금액은 $ 4002.0000000000005 입니다.\n"
     ]
    }
   ],
   "source": [
    "quant = int(input(\"발주 수량을 입력하세요.\"))\n",
    "price = 10\n",
    "print(\"발주 수량을 입력하세요.: \", quant)\n",
    "print(quant, \"개를 주문하셨습니다.\")\n",
    "\n",
    "if quant > 2000:\n",
    "    discount = 0.20\n",
    "elif 1500 < quant <= 2000:\n",
    "    discount = 0.10\n",
    "elif 1000 < quant <= 1500:\n",
    "    discount = 0.05\n",
    "else:\n",
    "    discount = 0\n",
    "\n",
    "print(\"적용 할인율은 \", discount * 100, \"%입니다.\")\n",
    "print(\"총 발주 금액은 $\", quant * discount * price, \"입니다.\")"
   ]
  },
  {
   "cell_type": "code",
   "execution_count": 50,
   "metadata": {},
   "outputs": [
    {
     "name": "stdout",
     "output_type": "stream",
     "text": [
      "주민번호 뒷자리를 입력하세요. : 5678912\n",
      "잘못된 입력입니다.\n"
     ]
    }
   ],
   "source": [
    "input_num = input(\"주민번호 뒷자리를 입력하세요.\")\n",
    "print(\"주민번호 뒷자리를 입력하세요. :\", input_num)\n",
    "\n",
    "if len(input_num) != 7:             # len()은 길이 수를 확인해줌.\n",
    "    print(\"자리수를 잘못 입력했습니다.\")\n",
    "else:\n",
    "    fst_num = int(input_num[0])     # int()는 정수로 변환. / []는 인덱스 순서를 정해줌.\n",
    "    if fst_num in (1,3):            # -변수 in (,)- 는 변수 안에 (,)가 있는지 확인해줌. \n",
    "        print(\"남자\")\n",
    "    elif fst_num in (2,4):\n",
    "        print(\"여자\")\n",
    "    else:\n",
    "        print(\"잘못된 입력입니다.\")"
   ]
  },
  {
   "cell_type": "code",
   "execution_count": 69,
   "metadata": {},
   "outputs": [
    {
     "name": "stdout",
     "output_type": "stream",
     "text": [
      "확인할 연도를 입력하세요. : 2000\n",
      "윤년입니다.\n"
     ]
    }
   ],
   "source": [
    "year = int(input(\"확인할 연도를 입력하세요.\"))\n",
    "print(\"확인할 연도를 입력하세요. :\", year)\n",
    "\n",
    "if year % 4 != 0:\n",
    "    print(\"평년입니다.\")\n",
    "else:\n",
    "    if year % 400 == 0:\n",
    "        print(\"윤년입니다.\")\n",
    "    elif year % 100 == 0:\n",
    "        print(\"평년입니다.\")\n",
    "    else:                       \n",
    "        print(\"윤년입니다.\")"
   ]
  },
  {
   "cell_type": "code",
   "execution_count": 83,
   "metadata": {},
   "outputs": [
    {
     "name": "stdout",
     "output_type": "stream",
     "text": [
      "확인할 연도를 입력하세요. : 2023\n",
      "평년입니다.\n"
     ]
    }
   ],
   "source": [
    "year2 = int(input(\"확인할 연도를 입력하세요.\"))\n",
    "print(\"확인할 연도를 입력하세요. :\", year2)\n",
    "\n",
    "if year2 % 4 == 0 and (year2 % 100 != 0 or year2 % 400 ==0):\n",
    "    print(\"윤년입니다.\")\n",
    "else:\n",
    "    print(\"평년입니다.\")"
   ]
  },
  {
   "cell_type": "code",
   "execution_count": 92,
   "metadata": {},
   "outputs": [
    {
     "name": "stdout",
     "output_type": "stream",
     "text": [
      "인사 몇 번 해드릴까요? 3\n",
      "Hello world\n",
      "Hello world\n",
      "Hello world\n"
     ]
    }
   ],
   "source": [
    "count= int(input(\"인사 몇 번 해드릴까요?\"))\n",
    "print(\"인사 몇 번 해드릴까요?\", count)\n",
    "\n",
    "for h in range(1,count+1):\n",
    "    print(\"Hello world\")"
   ]
  },
  {
   "cell_type": "code",
   "execution_count": 97,
   "metadata": {},
   "outputs": [
    {
     "name": "stdout",
     "output_type": "stream",
     "text": [
      "[5, 6, 7, 8, 9]\n",
      "[0, 3, 6, 9]\n",
      "[-10, -40, -70]\n"
     ]
    }
   ],
   "source": [
    "print(list(range(5,10)))\n",
    "print(list(range(0,10,3)))\n",
    "print(list(range(-10,-100,-30)))\n"
   ]
  },
  {
   "cell_type": "code",
   "execution_count": 121,
   "metadata": {},
   "outputs": [
    {
     "name": "stdout",
     "output_type": "stream",
     "text": [
      "자연수 하나 입력해주세요.:  6\n",
      "6\t6\t6\t6\t6\t6\t\n",
      "5\t5\t5\t5\t5\t\n",
      "4\t4\t4\t4\t\n",
      "3\t3\t3\t\n",
      "2\t2\t\n",
      "1\t\n"
     ]
    }
   ],
   "source": [
    "input_value3 = int(input(\"자연수 하나 입력해주세요.\"))\n",
    "print(\"자연수 하나 입력해주세요.: \", input_value3)\n",
    "\n",
    "for v in range(input_value3,0,-1):          # v = 6,5,4,3,2,1\n",
    "    for u in range(v):                      # u = 6,5,4,3,2,1\n",
    "        print(v, end=\"\\t\")\n",
    "    print()"
   ]
  },
  {
   "cell_type": "code",
   "execution_count": 137,
   "metadata": {},
   "outputs": [
    {
     "name": "stdout",
     "output_type": "stream",
     "text": [
      "* * * * * * * * * \n",
      "*               *\n",
      "*               *\n",
      "*               *\n",
      "*               *\n",
      "*               *\n",
      "*               *\n",
      "*               *\n",
      "*               *\n",
      "* * * * * * * * * \n"
     ]
    }
   ],
   "source": [
    "for a in range(0,10):\n",
    "    if a == 0 or a == 9:\n",
    "        print('* ' * 9)\n",
    "    else:\n",
    "        print(\"*               *\")"
   ]
  },
  {
   "cell_type": "code",
   "execution_count": 160,
   "metadata": {},
   "outputs": [
    {
     "name": "stdout",
     "output_type": "stream",
     "text": [
      "계승을 구할 숫자를 입력하세요.  7\n",
      "5040\n"
     ]
    }
   ],
   "source": [
    "facto = int(input(\"계승을 구할 숫자를 입력하세요.\"))\n",
    "result = 1\n",
    "\n",
    "for f in range(1,facto+1,1):\n",
    "    result = result * f\n",
    "print(\"계승을 구할 숫자를 입력하세요. \", facto)\n",
    "print(result)"
   ]
  }
 ],
 "metadata": {
  "kernelspec": {
   "display_name": "base",
   "language": "python",
   "name": "python3"
  },
  "language_info": {
   "codemirror_mode": {
    "name": "ipython",
    "version": 3
   },
   "file_extension": ".py",
   "mimetype": "text/x-python",
   "name": "python",
   "nbconvert_exporter": "python",
   "pygments_lexer": "ipython3",
   "version": "3.9.13"
  },
  "orig_nbformat": 4,
  "vscode": {
   "interpreter": {
    "hash": "29022363fef606f9f23df6f4a22f2b4728bceb42fab3e5e3f1a324182233d5f0"
   }
  }
 },
 "nbformat": 4,
 "nbformat_minor": 2
}
